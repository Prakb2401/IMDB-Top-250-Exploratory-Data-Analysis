{
  "nbformat": 4,
  "nbformat_minor": 5,
  "metadata": {
    "noteable-chatgpt": {
      "create_notebook": {
        "openai_conversation_id": "a28d0928-95ae-592e-b7d7-bddb549365b6",
        "openai_ephemeral_user_id": "7b0b3a30-3545-57ba-90cc-a8a69e5cebbe",
        "openai_subdivision1_iso_code": "US-GA"
      }
    },
    "kernel_info": {
      "name": "python3"
    },
    "noteable": {
      "last_transaction_id": "ffe75870-a75d-416b-b263-c48aac59b41c"
    },
    "kernelspec": {
      "display_name": "Python 3.9",
      "language": "python",
      "name": "python3"
    },
    "selected_hardware_size": "small"
  },
  "cells": [
    {
      "id": "5fa54a3f-f262-4330-b0b7-01e15e5e57db",
      "cell_type": "code",
      "metadata": {
        "jupyter": {
          "outputs_hidden": false,
          "source_hidden": false
        },
        "noteable": {
          "cell_type": "code",
          "output_collection_id": "20c0c450-13c0-443b-a289-e44d21c9c15b"
        },
        "ExecuteTime": {
          "end_time": "2023-07-25T20:55:29.491285+00:00",
          "start_time": "2023-07-25T20:55:29.331562+00:00"
        }
      },
      "execution_count": null,
      "source": "#import dependencies\nimport pandas as pd\nimport numpy as np\nimport matplotlib.pyplot as plt\nimport seaborn as sns\n%matplotlib inline\nimport plotly.express as px\nimport requests\nimport os",
      "outputs": []
    },
    {
      "id": "a620222b-564a-4e1d-9a31-066df66453c0",
      "cell_type": "code",
      "metadata": {
        "noteable": {
          "cell_type": "code",
          "output_collection_id": "f6d6ab5d-b286-4afc-9f47-beff04895179"
        },
        "ExecuteTime": {
          "end_time": "2023-07-25T20:55:30.077391+00:00",
          "start_time": "2023-07-25T20:55:29.772181+00:00"
        },
        "datalink": {
          "6f279b47-c573-4556-a9f7-48a2f7f5f2cd": {
            "applied_filters": [],
            "dataframe_info": {
              "default_index_used": true,
              "orig_num_cols": 26,
              "orig_num_rows": 5,
              "orig_size_bytes": 1045,
              "truncated_num_cols": 26,
              "truncated_num_rows": 5,
              "truncated_size_bytes": 1045,
              "truncated_string_columns": []
            },
            "display_id": "6f279b47-c573-4556-a9f7-48a2f7f5f2cd",
            "dx_settings": {
              "ALLOW_NOTEABLE_ATTRS": true,
              "COLUMN_SAMPLING_METHOD": "outer",
              "DB_LOCATION": ":memory:",
              "DEV_MODE": false,
              "DISPLAY_MAX_COLUMNS": 100,
              "DISPLAY_MAX_ROWS": 50000,
              "DISPLAY_MODE": "simple",
              "ENABLE_ASSIGNMENT": true,
              "ENABLE_DATALINK": true,
              "FLATTEN_COLUMN_VALUES": true,
              "FLATTEN_INDEX_VALUES": false,
              "GENERATE_DEX_METADATA": false,
              "HTML_TABLE_SCHEMA": false,
              "LOG_LEVEL": 30,
              "MAX_RENDER_SIZE_BYTES": 104857600,
              "MAX_STRING_LENGTH": 250,
              "NUM_PAST_SAMPLES_TRACKED": 3,
              "RANDOM_STATE": 12648430,
              "RESET_INDEX_VALUES": false,
              "ROW_SAMPLING_METHOD": "random",
              "SAMPLING_FACTOR": 0.1,
              "SAMPLING_METHOD": "random",
              "STRINGIFY_COLUMN_VALUES": true,
              "STRINGIFY_INDEX_VALUES": false
            },
            "sample_history": [],
            "sampling_time": "2023-07-25T02:50:27.779768",
            "user_variable_name": null,
            "variable_name": "unk_dataframe_f888b166fcc9423eace92b16d00eeb54"
          },
          "e9a02a5a-63ea-43e4-832c-f7d4e65f5de7": {
            "applied_filters": [],
            "dataframe_info": {
              "default_index_used": true,
              "orig_num_cols": 26,
              "orig_num_rows": 5,
              "orig_size_bytes": 1045,
              "truncated_num_cols": 26,
              "truncated_num_rows": 5,
              "truncated_size_bytes": 1045,
              "truncated_string_columns": []
            },
            "display_id": "e9a02a5a-63ea-43e4-832c-f7d4e65f5de7",
            "dx_settings": {
              "ALLOW_NOTEABLE_ATTRS": true,
              "COLUMN_SAMPLING_METHOD": "outer",
              "DB_LOCATION": ":memory:",
              "DEV_MODE": false,
              "DISPLAY_MAX_COLUMNS": 100,
              "DISPLAY_MAX_ROWS": 50000,
              "DISPLAY_MODE": "simple",
              "ENABLE_ASSIGNMENT": true,
              "ENABLE_DATALINK": true,
              "FLATTEN_COLUMN_VALUES": true,
              "FLATTEN_INDEX_VALUES": false,
              "GENERATE_DEX_METADATA": false,
              "HTML_TABLE_SCHEMA": false,
              "LOG_LEVEL": 30,
              "MAX_RENDER_SIZE_BYTES": 104857600,
              "MAX_STRING_LENGTH": 250,
              "NUM_PAST_SAMPLES_TRACKED": 3,
              "RANDOM_STATE": 12648430,
              "RESET_INDEX_VALUES": false,
              "ROW_SAMPLING_METHOD": "random",
              "SAMPLING_FACTOR": 0.1,
              "SAMPLING_METHOD": "random",
              "STRINGIFY_COLUMN_VALUES": true,
              "STRINGIFY_INDEX_VALUES": false
            },
            "sample_history": [],
            "sampling_time": "2023-07-25T03:03:48.265110",
            "user_variable_name": null,
            "variable_name": "unk_dataframe_369759be8bb94f80acd078bcee0a491f"
          },
          "44648d53-86f6-4edc-b347-8a90c670c345": {
            "applied_filters": [],
            "dataframe_info": {
              "default_index_used": true,
              "orig_num_cols": 26,
              "orig_num_rows": 5,
              "orig_size_bytes": 1045,
              "truncated_num_cols": 26,
              "truncated_num_rows": 5,
              "truncated_size_bytes": 1045,
              "truncated_string_columns": []
            },
            "display_id": "44648d53-86f6-4edc-b347-8a90c670c345",
            "dx_settings": {
              "ALLOW_NOTEABLE_ATTRS": true,
              "COLUMN_SAMPLING_METHOD": "outer",
              "DB_LOCATION": ":memory:",
              "DEV_MODE": false,
              "DISPLAY_MAX_COLUMNS": 100,
              "DISPLAY_MAX_ROWS": 50000,
              "DISPLAY_MODE": "simple",
              "ENABLE_ASSIGNMENT": true,
              "ENABLE_DATALINK": true,
              "FLATTEN_COLUMN_VALUES": true,
              "FLATTEN_INDEX_VALUES": false,
              "GENERATE_DEX_METADATA": false,
              "HTML_TABLE_SCHEMA": false,
              "LOG_LEVEL": 30,
              "MAX_RENDER_SIZE_BYTES": 104857600,
              "MAX_STRING_LENGTH": 250,
              "NUM_PAST_SAMPLES_TRACKED": 3,
              "RANDOM_STATE": 12648430,
              "RESET_INDEX_VALUES": false,
              "ROW_SAMPLING_METHOD": "random",
              "SAMPLING_FACTOR": 0.1,
              "SAMPLING_METHOD": "random",
              "STRINGIFY_COLUMN_VALUES": true,
              "STRINGIFY_INDEX_VALUES": false
            },
            "sample_history": [],
            "sampling_time": "2023-07-25T04:38:06.436192",
            "user_variable_name": null,
            "variable_name": "unk_dataframe_c66019be9cd24a95bc955f8ab18e1db2"
          },
          "f67e6cc4-b9d3-4a45-9963-ca1cb4c9e5d0": {
            "applied_filters": [],
            "dataframe_info": {
              "default_index_used": true,
              "orig_num_cols": 26,
              "orig_num_rows": 5,
              "orig_size_bytes": 1045,
              "truncated_num_cols": 26,
              "truncated_num_rows": 5,
              "truncated_size_bytes": 1045,
              "truncated_string_columns": []
            },
            "display_id": "f67e6cc4-b9d3-4a45-9963-ca1cb4c9e5d0",
            "dx_settings": {
              "ALLOW_NOTEABLE_ATTRS": true,
              "COLUMN_SAMPLING_METHOD": "outer",
              "DB_LOCATION": ":memory:",
              "DEV_MODE": false,
              "DISPLAY_MAX_COLUMNS": 100,
              "DISPLAY_MAX_ROWS": 50000,
              "DISPLAY_MODE": "simple",
              "ENABLE_ASSIGNMENT": true,
              "ENABLE_DATALINK": true,
              "FLATTEN_COLUMN_VALUES": true,
              "FLATTEN_INDEX_VALUES": false,
              "GENERATE_DEX_METADATA": false,
              "HTML_TABLE_SCHEMA": false,
              "LOG_LEVEL": 30,
              "MAX_RENDER_SIZE_BYTES": 104857600,
              "MAX_STRING_LENGTH": 250,
              "NUM_PAST_SAMPLES_TRACKED": 3,
              "RANDOM_STATE": 12648430,
              "RESET_INDEX_VALUES": false,
              "ROW_SAMPLING_METHOD": "random",
              "SAMPLING_FACTOR": 0.1,
              "SAMPLING_METHOD": "random",
              "STRINGIFY_COLUMN_VALUES": true,
              "STRINGIFY_INDEX_VALUES": false
            },
            "sample_history": [],
            "sampling_time": "2023-07-25T20:18:09.905871",
            "user_variable_name": null,
            "variable_name": "unk_dataframe_50a69d761f904097873824d03ba99a96"
          },
          "4561f295-5d4a-4155-899c-eb5335698cad": {
            "applied_filters": [],
            "dataframe_info": {
              "default_index_used": true,
              "orig_num_cols": 26,
              "orig_num_rows": 5,
              "orig_size_bytes": 1045,
              "truncated_num_cols": 26,
              "truncated_num_rows": 5,
              "truncated_size_bytes": 1045,
              "truncated_string_columns": []
            },
            "display_id": "4561f295-5d4a-4155-899c-eb5335698cad",
            "dx_settings": {
              "ALLOW_NOTEABLE_ATTRS": true,
              "COLUMN_SAMPLING_METHOD": "outer",
              "DB_LOCATION": ":memory:",
              "DEV_MODE": false,
              "DISPLAY_MAX_COLUMNS": 100,
              "DISPLAY_MAX_ROWS": 50000,
              "DISPLAY_MODE": "simple",
              "ENABLE_ASSIGNMENT": true,
              "ENABLE_DATALINK": true,
              "FLATTEN_COLUMN_VALUES": true,
              "FLATTEN_INDEX_VALUES": false,
              "GENERATE_DEX_METADATA": false,
              "HTML_TABLE_SCHEMA": false,
              "LOG_LEVEL": 30,
              "MAX_RENDER_SIZE_BYTES": 104857600,
              "MAX_STRING_LENGTH": 250,
              "NUM_PAST_SAMPLES_TRACKED": 3,
              "RANDOM_STATE": 12648430,
              "RESET_INDEX_VALUES": false,
              "ROW_SAMPLING_METHOD": "random",
              "SAMPLING_FACTOR": 0.1,
              "SAMPLING_METHOD": "random",
              "STRINGIFY_COLUMN_VALUES": true,
              "STRINGIFY_INDEX_VALUES": false
            },
            "sample_history": [],
            "sampling_time": "2023-07-25T20:24:56.568461",
            "user_variable_name": null,
            "variable_name": "unk_dataframe_bdafc9a80ccc4a429f18e8f3e5a4d308"
          },
          "7298bf07-6087-4f5a-b64e-ed51e448db3a": {
            "applied_filters": [],
            "dataframe_info": {
              "default_index_used": true,
              "orig_num_cols": 26,
              "orig_num_rows": 5,
              "orig_size_bytes": 1045,
              "truncated_num_cols": 26,
              "truncated_num_rows": 5,
              "truncated_size_bytes": 1045,
              "truncated_string_columns": []
            },
            "display_id": "7298bf07-6087-4f5a-b64e-ed51e448db3a",
            "dx_settings": {
              "ALLOW_NOTEABLE_ATTRS": true,
              "COLUMN_SAMPLING_METHOD": "outer",
              "DB_LOCATION": ":memory:",
              "DEV_MODE": false,
              "DISPLAY_MAX_COLUMNS": 100,
              "DISPLAY_MAX_ROWS": 50000,
              "DISPLAY_MODE": "simple",
              "ENABLE_ASSIGNMENT": true,
              "ENABLE_DATALINK": true,
              "FLATTEN_COLUMN_VALUES": true,
              "FLATTEN_INDEX_VALUES": false,
              "GENERATE_DEX_METADATA": false,
              "HTML_TABLE_SCHEMA": false,
              "LOG_LEVEL": 30,
              "MAX_RENDER_SIZE_BYTES": 104857600,
              "MAX_STRING_LENGTH": 250,
              "NUM_PAST_SAMPLES_TRACKED": 3,
              "RANDOM_STATE": 12648430,
              "RESET_INDEX_VALUES": false,
              "ROW_SAMPLING_METHOD": "random",
              "SAMPLING_FACTOR": 0.1,
              "SAMPLING_METHOD": "random",
              "STRINGIFY_COLUMN_VALUES": true,
              "STRINGIFY_INDEX_VALUES": false
            },
            "sample_history": [],
            "sampling_time": "2023-07-25T20:35:22.739201",
            "user_variable_name": null,
            "variable_name": "unk_dataframe_b45ec823273b4b58850c7a59d71865ff"
          },
          "bcb66e8a-4eed-4169-ae3b-021c5b7ec35e": {
            "applied_filters": [],
            "dataframe_info": {
              "default_index_used": true,
              "orig_num_cols": 26,
              "orig_num_rows": 5,
              "orig_size_bytes": 1045,
              "truncated_num_cols": 26,
              "truncated_num_rows": 5,
              "truncated_size_bytes": 1045,
              "truncated_string_columns": []
            },
            "display_id": "bcb66e8a-4eed-4169-ae3b-021c5b7ec35e",
            "dx_settings": {
              "ALLOW_NOTEABLE_ATTRS": true,
              "COLUMN_SAMPLING_METHOD": "outer",
              "DB_LOCATION": ":memory:",
              "DEV_MODE": false,
              "DISPLAY_MAX_COLUMNS": 100,
              "DISPLAY_MAX_ROWS": 50000,
              "DISPLAY_MODE": "simple",
              "ENABLE_ASSIGNMENT": true,
              "ENABLE_DATALINK": true,
              "FLATTEN_COLUMN_VALUES": true,
              "FLATTEN_INDEX_VALUES": false,
              "GENERATE_DEX_METADATA": false,
              "HTML_TABLE_SCHEMA": false,
              "LOG_LEVEL": 30,
              "MAX_RENDER_SIZE_BYTES": 104857600,
              "MAX_STRING_LENGTH": 250,
              "NUM_PAST_SAMPLES_TRACKED": 3,
              "RANDOM_STATE": 12648430,
              "RESET_INDEX_VALUES": false,
              "ROW_SAMPLING_METHOD": "random",
              "SAMPLING_FACTOR": 0.1,
              "SAMPLING_METHOD": "random",
              "STRINGIFY_COLUMN_VALUES": true,
              "STRINGIFY_INDEX_VALUES": false
            },
            "sample_history": [],
            "sampling_time": "2023-07-25T20:50:39.640532",
            "user_variable_name": null,
            "variable_name": "unk_dataframe_c5e9d6bd2b744c9eae28a67b9cecb7a4"
          },
          "2cfeadcf-a3e8-4a10-9f31-11df143513da": {
            "applied_filters": [],
            "dataframe_info": {
              "default_index_used": true,
              "orig_num_cols": 26,
              "orig_num_rows": 5,
              "orig_size_bytes": 1045,
              "truncated_num_cols": 26,
              "truncated_num_rows": 5,
              "truncated_size_bytes": 1045,
              "truncated_string_columns": []
            },
            "display_id": "2cfeadcf-a3e8-4a10-9f31-11df143513da",
            "dx_settings": {
              "ALLOW_NOTEABLE_ATTRS": true,
              "COLUMN_SAMPLING_METHOD": "outer",
              "DB_LOCATION": ":memory:",
              "DEV_MODE": false,
              "DISPLAY_MAX_COLUMNS": 100,
              "DISPLAY_MAX_ROWS": 50000,
              "DISPLAY_MODE": "simple",
              "ENABLE_ASSIGNMENT": true,
              "ENABLE_DATALINK": true,
              "FLATTEN_COLUMN_VALUES": true,
              "FLATTEN_INDEX_VALUES": false,
              "GENERATE_DEX_METADATA": false,
              "HTML_TABLE_SCHEMA": false,
              "LOG_LEVEL": 30,
              "MAX_RENDER_SIZE_BYTES": 104857600,
              "MAX_STRING_LENGTH": 250,
              "NUM_PAST_SAMPLES_TRACKED": 3,
              "RANDOM_STATE": 12648430,
              "RESET_INDEX_VALUES": false,
              "ROW_SAMPLING_METHOD": "random",
              "SAMPLING_FACTOR": 0.1,
              "SAMPLING_METHOD": "random",
              "STRINGIFY_COLUMN_VALUES": true,
              "STRINGIFY_INDEX_VALUES": false
            },
            "sample_history": [],
            "sampling_time": "2023-07-25T20:55:29.915177",
            "user_variable_name": null,
            "variable_name": "unk_dataframe_7d1d42617854443eb87f2f4ad9232da0"
          }
        }
      },
      "execution_count": null,
      "source": "df = pd.read_csv('imbd.csv')\ndf.head()",
      "outputs": []
    },
    {
      "id": "5435cccd-dd0c-44de-a684-6ac9199df50f",
      "cell_type": "code",
      "metadata": {
        "noteable": {
          "cell_type": "code",
          "output_collection_id": "731cc8d8-f2fe-4ff6-a08d-724d9d605c02"
        },
        "ExecuteTime": {
          "end_time": "2023-07-25T21:18:09.621524+00:00",
          "start_time": "2023-07-25T21:18:08.439883+00:00"
        }
      },
      "execution_count": null,
      "source": "from collections import Counter\n\n# Handle missing or incorrect values in 'Genre'\ndf['Genre'] = df['Genre'].apply(lambda x: 'Unknown' if pd.isnull(x) else x)\n\n# Split 'Genre' into separate genres and count occurrences\ngenre_counts = Counter(', '.join(df['Genre']).split(', '))\n\n# Convert to DataFrame for easier manipulation\ndf_genre_counts = pd.DataFrame.from_dict(genre_counts, orient='index').reset_index()\ndf_genre_counts.columns = ['Genre', 'Count']\n\n# Sort by count\ndf_genre_counts = df_genre_counts.sort_values('Count', ascending=False)\n\n# Plotting\nplt.figure(figsize=(10, 10))\nplt.barh(df_genre_counts['Genre'], df_genre_counts['Count'], color='skyblue')\nplt.title('Most Popular Genres in Top 250 Movies')\nplt.xlabel('Count')\nplt.ylabel('Genre')\nplt.gca().invert_yaxis()\nplt.grid(False)\nplt.tight_layout()\nplt.savefig('Visualizations/popular_genres.png')\nplt.show()",
      "outputs": []
    },
    {
      "id": "67d65f6b-ed2e-48bc-94a6-c41cf2bbb174",
      "cell_type": "code",
      "metadata": {
        "noteable": {
          "cell_type": "code",
          "output_collection_id": "f137fee4-a039-42f9-ab2c-f3ed53c11fa0"
        },
        "ExecuteTime": {
          "end_time": "2023-07-25T21:20:23.245229+00:00",
          "start_time": "2023-07-25T21:20:21.701836+00:00"
        }
      },
      "execution_count": null,
      "source": "# Split 'Country' into separate countries and count occurrences\ncountry_counts = Counter(', '.join(df['Country']).split(', '))\n\n# Convert to DataFrame for easier manipulation\ndf_country_counts = pd.DataFrame.from_dict(country_counts, orient='index').reset_index()\ndf_country_counts.columns = ['Country', 'Count']\n\n# Sort by count\ndf_country_counts = df_country_counts.sort_values('Count', ascending=False)\n\n# Plotting\nplt.figure(figsize=(10, 10))\nplt.barh(df_country_counts['Country'], df_country_counts['Count'], color='skyblue')\nplt.title('Most Common Countries of Origin in Top 250 Movies')\nplt.xlabel('Count')\nplt.ylabel('Country')\nplt.gca().invert_yaxis()\nplt.grid(False)\nplt.tight_layout()\nplt.savefig('Visualizations/movies_origin-countries.png')\nplt.show()",
      "outputs": []
    },
    {
      "id": "9a32ba74-8efc-4bee-b62f-5c7c838bed8d",
      "cell_type": "markdown",
      "source": "## How does the distribution of movie ratings differ by genre?",
      "metadata": {
        "noteable": {
          "cell_type": "markdown"
        }
      }
    },
    {
      "id": "d36f44d3-d587-43a1-a539-6ebe2675c344",
      "cell_type": "code",
      "metadata": {
        "noteable": {
          "cell_type": "python",
          "output_collection_id": "6965bc7d-c4dc-407a-bd97-94a1f6401a49"
        },
        "ExecuteTime": {
          "end_time": "2023-07-25T21:12:20.740968+00:00",
          "start_time": "2023-07-25T21:12:19.597288+00:00"
        }
      },
      "execution_count": null,
      "source": "# Get the top 10 genres by movie count\ntop_genres = df['Genre'].str.split('|', expand=True).stack().value_counts().head(10).index\n\n# Filter the dataset to only include movies in the top 10 genres\ndf_top_genres = df[df['Genre'].str.contains('|'.join(top_genres))]\n\n# Create a box plot for each genre\nsns.set(style='whitegrid', font_scale=1.5)\nsns.catplot(x='imdbRating', y='Genre', data=df_top_genres, kind='box', height=8, aspect=1.5, order=top_genres, showfliers=False)\nplt.xlabel(\"Rating\")\nplt.ylabel(\"Genre\")\nplt.title('Distribution of Ratings for Movies in Top 10 Genres')\nplt.savefig('Visualizations/genre-ratings_distribution.png')\nplt.show()",
      "outputs": []
    },
    {
      "id": "72c3042e-448f-4273-b780-4751fed451cc",
      "cell_type": "code",
      "metadata": {
        "noteable": {
          "cell_type": "code",
          "output_collection_id": "ab7d125a-6f2b-4a1d-a0dc-cddf490d2d19"
        },
        "ExecuteTime": {
          "end_time": "2023-07-25T20:55:35.182934+00:00",
          "start_time": "2023-07-25T20:55:34.315015+00:00"
        }
      },
      "execution_count": null,
      "source": "# Handle missing or incorrect values in 'Runtime'\ndf['Runtime'] = df['Runtime'].apply(lambda x: '0' if pd.isnull(x) else x)\ndf['Runtime'] = df['Runtime'].str.replace(' min', '').astype(int)\n\n# Plotting\nplt.figure(figsize=(10, 6))\nplt.hist(df['Runtime'], bins=20, color='skyblue', edgecolor='black')\nplt.title('Distribution of Runtimes in Top 250 Movies')\nplt.xlabel('Runtime (minutes)')\nplt.ylabel('Count')\nplt.grid(False)\nplt.savefig('Visualizations/runtime_distribution.png')\nplt.show()",
      "outputs": []
    }
  ]
}