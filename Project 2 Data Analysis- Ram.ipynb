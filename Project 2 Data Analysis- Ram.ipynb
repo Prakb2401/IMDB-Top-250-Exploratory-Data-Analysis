{
  "nbformat": 4,
  "nbformat_minor": 5,
  "metadata": {
    "kernel_info": {
      "name": "python3"
    },
    "noteable": {
      "last_transaction_id": "e47ad76a-f05b-4c46-8fea-a49301bd95bb"
    },
    "kernelspec": {
      "display_name": "Python 3.9",
      "language": "python",
      "name": "python3"
    },
    "selected_hardware_size": "small"
  },
  "cells": [
    {
      "id": "e6a41305",
      "cell_type": "code",
      "metadata": {},
      "execution_count": null,
      "source": "",
      "outputs": []
    }
  ]
}