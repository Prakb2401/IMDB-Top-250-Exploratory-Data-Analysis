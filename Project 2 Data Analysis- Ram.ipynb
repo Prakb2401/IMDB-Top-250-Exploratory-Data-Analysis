{
 "cells": [
  {
   "cell_type": "code",
   "execution_count": 6,
   "id": "5fa54a3f-f262-4330-b0b7-01e15e5e57db",
   "metadata": {
    "ExecuteTime": {
     "end_time": "2023-07-25T04:38:06.293348+00:00",
     "start_time": "2023-07-25T04:38:05.258210+00:00"
    },
    "jupyter": {
     "outputs_hidden": false,
     "source_hidden": false
    },
    "noteable": {
<<<<<<< HEAD
     "cell_type": "code",
     "output_collection_id": "38ff3f69-a07b-4535-88f9-5eae2ba689c6"
=======
      "last_transaction_id": "5cc45547-d619-447a-94c3-5ecc40b5563a"
    },
    "kernelspec": {
      "display_name": "Python 3.9",
      "language": "python",
      "name": "python3"
    },
    "selected_hardware_size": "small"
  },
  "cells": [
    {
      "id": "5fa54a3f-f262-4330-b0b7-01e15e5e57db",
      "cell_type": "code",
      "metadata": {
        "jupyter": {
          "outputs_hidden": false,
          "source_hidden": false
        },
        "noteable": {
          "cell_type": "code",
          "output_collection_id": "20c0c450-13c0-443b-a289-e44d21c9c15b"
        },
        "ExecuteTime": {
          "end_time": "2023-07-25T20:55:29.491285+00:00",
          "start_time": "2023-07-25T20:55:29.331562+00:00"
        }
      },
      "execution_count": null,
      "source": "#import dependencies\nimport pandas as pd\nimport numpy as np\nimport matplotlib.pyplot as plt\nimport seaborn as sns\n%matplotlib inline\nimport plotly.express as px\nimport requests\nimport os",
      "outputs": []
    },
    {
      "id": "a620222b-564a-4e1d-9a31-066df66453c0",
      "cell_type": "code",
      "metadata": {
        "noteable": {
          "cell_type": "code",
          "output_collection_id": "f6d6ab5d-b286-4afc-9f47-beff04895179"
        },
        "ExecuteTime": {
          "end_time": "2023-07-25T20:55:30.077391+00:00",
          "start_time": "2023-07-25T20:55:29.772181+00:00"
        },
        "datalink": {
          "6f279b47-c573-4556-a9f7-48a2f7f5f2cd": {
            "applied_filters": [],
            "dataframe_info": {
              "default_index_used": true,
              "orig_num_cols": 26,
              "orig_num_rows": 5,
              "orig_size_bytes": 1045,
              "truncated_num_cols": 26,
              "truncated_num_rows": 5,
              "truncated_size_bytes": 1045,
              "truncated_string_columns": []
            },
            "display_id": "6f279b47-c573-4556-a9f7-48a2f7f5f2cd",
            "dx_settings": {
              "ALLOW_NOTEABLE_ATTRS": true,
              "COLUMN_SAMPLING_METHOD": "outer",
              "DB_LOCATION": ":memory:",
              "DEV_MODE": false,
              "DISPLAY_MAX_COLUMNS": 100,
              "DISPLAY_MAX_ROWS": 50000,
              "DISPLAY_MODE": "simple",
              "ENABLE_ASSIGNMENT": true,
              "ENABLE_DATALINK": true,
              "FLATTEN_COLUMN_VALUES": true,
              "FLATTEN_INDEX_VALUES": false,
              "GENERATE_DEX_METADATA": false,
              "HTML_TABLE_SCHEMA": false,
              "LOG_LEVEL": 30,
              "MAX_RENDER_SIZE_BYTES": 104857600,
              "MAX_STRING_LENGTH": 250,
              "NUM_PAST_SAMPLES_TRACKED": 3,
              "RANDOM_STATE": 12648430,
              "RESET_INDEX_VALUES": false,
              "ROW_SAMPLING_METHOD": "random",
              "SAMPLING_FACTOR": 0.1,
              "SAMPLING_METHOD": "random",
              "STRINGIFY_COLUMN_VALUES": true,
              "STRINGIFY_INDEX_VALUES": false
            },
            "sample_history": [],
            "sampling_time": "2023-07-25T02:50:27.779768",
            "user_variable_name": null,
            "variable_name": "unk_dataframe_f888b166fcc9423eace92b16d00eeb54"
          },
          "e9a02a5a-63ea-43e4-832c-f7d4e65f5de7": {
            "applied_filters": [],
            "dataframe_info": {
              "default_index_used": true,
              "orig_num_cols": 26,
              "orig_num_rows": 5,
              "orig_size_bytes": 1045,
              "truncated_num_cols": 26,
              "truncated_num_rows": 5,
              "truncated_size_bytes": 1045,
              "truncated_string_columns": []
            },
            "display_id": "e9a02a5a-63ea-43e4-832c-f7d4e65f5de7",
            "dx_settings": {
              "ALLOW_NOTEABLE_ATTRS": true,
              "COLUMN_SAMPLING_METHOD": "outer",
              "DB_LOCATION": ":memory:",
              "DEV_MODE": false,
              "DISPLAY_MAX_COLUMNS": 100,
              "DISPLAY_MAX_ROWS": 50000,
              "DISPLAY_MODE": "simple",
              "ENABLE_ASSIGNMENT": true,
              "ENABLE_DATALINK": true,
              "FLATTEN_COLUMN_VALUES": true,
              "FLATTEN_INDEX_VALUES": false,
              "GENERATE_DEX_METADATA": false,
              "HTML_TABLE_SCHEMA": false,
              "LOG_LEVEL": 30,
              "MAX_RENDER_SIZE_BYTES": 104857600,
              "MAX_STRING_LENGTH": 250,
              "NUM_PAST_SAMPLES_TRACKED": 3,
              "RANDOM_STATE": 12648430,
              "RESET_INDEX_VALUES": false,
              "ROW_SAMPLING_METHOD": "random",
              "SAMPLING_FACTOR": 0.1,
              "SAMPLING_METHOD": "random",
              "STRINGIFY_COLUMN_VALUES": true,
              "STRINGIFY_INDEX_VALUES": false
            },
            "sample_history": [],
            "sampling_time": "2023-07-25T03:03:48.265110",
            "user_variable_name": null,
            "variable_name": "unk_dataframe_369759be8bb94f80acd078bcee0a491f"
          },
          "44648d53-86f6-4edc-b347-8a90c670c345": {
            "applied_filters": [],
            "dataframe_info": {
              "default_index_used": true,
              "orig_num_cols": 26,
              "orig_num_rows": 5,
              "orig_size_bytes": 1045,
              "truncated_num_cols": 26,
              "truncated_num_rows": 5,
              "truncated_size_bytes": 1045,
              "truncated_string_columns": []
            },
            "display_id": "44648d53-86f6-4edc-b347-8a90c670c345",
            "dx_settings": {
              "ALLOW_NOTEABLE_ATTRS": true,
              "COLUMN_SAMPLING_METHOD": "outer",
              "DB_LOCATION": ":memory:",
              "DEV_MODE": false,
              "DISPLAY_MAX_COLUMNS": 100,
              "DISPLAY_MAX_ROWS": 50000,
              "DISPLAY_MODE": "simple",
              "ENABLE_ASSIGNMENT": true,
              "ENABLE_DATALINK": true,
              "FLATTEN_COLUMN_VALUES": true,
              "FLATTEN_INDEX_VALUES": false,
              "GENERATE_DEX_METADATA": false,
              "HTML_TABLE_SCHEMA": false,
              "LOG_LEVEL": 30,
              "MAX_RENDER_SIZE_BYTES": 104857600,
              "MAX_STRING_LENGTH": 250,
              "NUM_PAST_SAMPLES_TRACKED": 3,
              "RANDOM_STATE": 12648430,
              "RESET_INDEX_VALUES": false,
              "ROW_SAMPLING_METHOD": "random",
              "SAMPLING_FACTOR": 0.1,
              "SAMPLING_METHOD": "random",
              "STRINGIFY_COLUMN_VALUES": true,
              "STRINGIFY_INDEX_VALUES": false
            },
            "sample_history": [],
            "sampling_time": "2023-07-25T04:38:06.436192",
            "user_variable_name": null,
            "variable_name": "unk_dataframe_c66019be9cd24a95bc955f8ab18e1db2"
          },
          "f67e6cc4-b9d3-4a45-9963-ca1cb4c9e5d0": {
            "applied_filters": [],
            "dataframe_info": {
              "default_index_used": true,
              "orig_num_cols": 26,
              "orig_num_rows": 5,
              "orig_size_bytes": 1045,
              "truncated_num_cols": 26,
              "truncated_num_rows": 5,
              "truncated_size_bytes": 1045,
              "truncated_string_columns": []
            },
            "display_id": "f67e6cc4-b9d3-4a45-9963-ca1cb4c9e5d0",
            "dx_settings": {
              "ALLOW_NOTEABLE_ATTRS": true,
              "COLUMN_SAMPLING_METHOD": "outer",
              "DB_LOCATION": ":memory:",
              "DEV_MODE": false,
              "DISPLAY_MAX_COLUMNS": 100,
              "DISPLAY_MAX_ROWS": 50000,
              "DISPLAY_MODE": "simple",
              "ENABLE_ASSIGNMENT": true,
              "ENABLE_DATALINK": true,
              "FLATTEN_COLUMN_VALUES": true,
              "FLATTEN_INDEX_VALUES": false,
              "GENERATE_DEX_METADATA": false,
              "HTML_TABLE_SCHEMA": false,
              "LOG_LEVEL": 30,
              "MAX_RENDER_SIZE_BYTES": 104857600,
              "MAX_STRING_LENGTH": 250,
              "NUM_PAST_SAMPLES_TRACKED": 3,
              "RANDOM_STATE": 12648430,
              "RESET_INDEX_VALUES": false,
              "ROW_SAMPLING_METHOD": "random",
              "SAMPLING_FACTOR": 0.1,
              "SAMPLING_METHOD": "random",
              "STRINGIFY_COLUMN_VALUES": true,
              "STRINGIFY_INDEX_VALUES": false
            },
            "sample_history": [],
            "sampling_time": "2023-07-25T20:18:09.905871",
            "user_variable_name": null,
            "variable_name": "unk_dataframe_50a69d761f904097873824d03ba99a96"
          },
          "4561f295-5d4a-4155-899c-eb5335698cad": {
            "applied_filters": [],
            "dataframe_info": {
              "default_index_used": true,
              "orig_num_cols": 26,
              "orig_num_rows": 5,
              "orig_size_bytes": 1045,
              "truncated_num_cols": 26,
              "truncated_num_rows": 5,
              "truncated_size_bytes": 1045,
              "truncated_string_columns": []
            },
            "display_id": "4561f295-5d4a-4155-899c-eb5335698cad",
            "dx_settings": {
              "ALLOW_NOTEABLE_ATTRS": true,
              "COLUMN_SAMPLING_METHOD": "outer",
              "DB_LOCATION": ":memory:",
              "DEV_MODE": false,
              "DISPLAY_MAX_COLUMNS": 100,
              "DISPLAY_MAX_ROWS": 50000,
              "DISPLAY_MODE": "simple",
              "ENABLE_ASSIGNMENT": true,
              "ENABLE_DATALINK": true,
              "FLATTEN_COLUMN_VALUES": true,
              "FLATTEN_INDEX_VALUES": false,
              "GENERATE_DEX_METADATA": false,
              "HTML_TABLE_SCHEMA": false,
              "LOG_LEVEL": 30,
              "MAX_RENDER_SIZE_BYTES": 104857600,
              "MAX_STRING_LENGTH": 250,
              "NUM_PAST_SAMPLES_TRACKED": 3,
              "RANDOM_STATE": 12648430,
              "RESET_INDEX_VALUES": false,
              "ROW_SAMPLING_METHOD": "random",
              "SAMPLING_FACTOR": 0.1,
              "SAMPLING_METHOD": "random",
              "STRINGIFY_COLUMN_VALUES": true,
              "STRINGIFY_INDEX_VALUES": false
            },
            "sample_history": [],
            "sampling_time": "2023-07-25T20:24:56.568461",
            "user_variable_name": null,
            "variable_name": "unk_dataframe_bdafc9a80ccc4a429f18e8f3e5a4d308"
          },
          "7298bf07-6087-4f5a-b64e-ed51e448db3a": {
            "applied_filters": [],
            "dataframe_info": {
              "default_index_used": true,
              "orig_num_cols": 26,
              "orig_num_rows": 5,
              "orig_size_bytes": 1045,
              "truncated_num_cols": 26,
              "truncated_num_rows": 5,
              "truncated_size_bytes": 1045,
              "truncated_string_columns": []
            },
            "display_id": "7298bf07-6087-4f5a-b64e-ed51e448db3a",
            "dx_settings": {
              "ALLOW_NOTEABLE_ATTRS": true,
              "COLUMN_SAMPLING_METHOD": "outer",
              "DB_LOCATION": ":memory:",
              "DEV_MODE": false,
              "DISPLAY_MAX_COLUMNS": 100,
              "DISPLAY_MAX_ROWS": 50000,
              "DISPLAY_MODE": "simple",
              "ENABLE_ASSIGNMENT": true,
              "ENABLE_DATALINK": true,
              "FLATTEN_COLUMN_VALUES": true,
              "FLATTEN_INDEX_VALUES": false,
              "GENERATE_DEX_METADATA": false,
              "HTML_TABLE_SCHEMA": false,
              "LOG_LEVEL": 30,
              "MAX_RENDER_SIZE_BYTES": 104857600,
              "MAX_STRING_LENGTH": 250,
              "NUM_PAST_SAMPLES_TRACKED": 3,
              "RANDOM_STATE": 12648430,
              "RESET_INDEX_VALUES": false,
              "ROW_SAMPLING_METHOD": "random",
              "SAMPLING_FACTOR": 0.1,
              "SAMPLING_METHOD": "random",
              "STRINGIFY_COLUMN_VALUES": true,
              "STRINGIFY_INDEX_VALUES": false
            },
            "sample_history": [],
            "sampling_time": "2023-07-25T20:35:22.739201",
            "user_variable_name": null,
            "variable_name": "unk_dataframe_b45ec823273b4b58850c7a59d71865ff"
          },
          "bcb66e8a-4eed-4169-ae3b-021c5b7ec35e": {
            "applied_filters": [],
            "dataframe_info": {
              "default_index_used": true,
              "orig_num_cols": 26,
              "orig_num_rows": 5,
              "orig_size_bytes": 1045,
              "truncated_num_cols": 26,
              "truncated_num_rows": 5,
              "truncated_size_bytes": 1045,
              "truncated_string_columns": []
            },
            "display_id": "bcb66e8a-4eed-4169-ae3b-021c5b7ec35e",
            "dx_settings": {
              "ALLOW_NOTEABLE_ATTRS": true,
              "COLUMN_SAMPLING_METHOD": "outer",
              "DB_LOCATION": ":memory:",
              "DEV_MODE": false,
              "DISPLAY_MAX_COLUMNS": 100,
              "DISPLAY_MAX_ROWS": 50000,
              "DISPLAY_MODE": "simple",
              "ENABLE_ASSIGNMENT": true,
              "ENABLE_DATALINK": true,
              "FLATTEN_COLUMN_VALUES": true,
              "FLATTEN_INDEX_VALUES": false,
              "GENERATE_DEX_METADATA": false,
              "HTML_TABLE_SCHEMA": false,
              "LOG_LEVEL": 30,
              "MAX_RENDER_SIZE_BYTES": 104857600,
              "MAX_STRING_LENGTH": 250,
              "NUM_PAST_SAMPLES_TRACKED": 3,
              "RANDOM_STATE": 12648430,
              "RESET_INDEX_VALUES": false,
              "ROW_SAMPLING_METHOD": "random",
              "SAMPLING_FACTOR": 0.1,
              "SAMPLING_METHOD": "random",
              "STRINGIFY_COLUMN_VALUES": true,
              "STRINGIFY_INDEX_VALUES": false
            },
            "sample_history": [],
            "sampling_time": "2023-07-25T20:50:39.640532",
            "user_variable_name": null,
            "variable_name": "unk_dataframe_c5e9d6bd2b744c9eae28a67b9cecb7a4"
          },
          "2cfeadcf-a3e8-4a10-9f31-11df143513da": {
            "applied_filters": [],
            "dataframe_info": {
              "default_index_used": true,
              "orig_num_cols": 26,
              "orig_num_rows": 5,
              "orig_size_bytes": 1045,
              "truncated_num_cols": 26,
              "truncated_num_rows": 5,
              "truncated_size_bytes": 1045,
              "truncated_string_columns": []
            },
            "display_id": "2cfeadcf-a3e8-4a10-9f31-11df143513da",
            "dx_settings": {
              "ALLOW_NOTEABLE_ATTRS": true,
              "COLUMN_SAMPLING_METHOD": "outer",
              "DB_LOCATION": ":memory:",
              "DEV_MODE": false,
              "DISPLAY_MAX_COLUMNS": 100,
              "DISPLAY_MAX_ROWS": 50000,
              "DISPLAY_MODE": "simple",
              "ENABLE_ASSIGNMENT": true,
              "ENABLE_DATALINK": true,
              "FLATTEN_COLUMN_VALUES": true,
              "FLATTEN_INDEX_VALUES": false,
              "GENERATE_DEX_METADATA": false,
              "HTML_TABLE_SCHEMA": false,
              "LOG_LEVEL": 30,
              "MAX_RENDER_SIZE_BYTES": 104857600,
              "MAX_STRING_LENGTH": 250,
              "NUM_PAST_SAMPLES_TRACKED": 3,
              "RANDOM_STATE": 12648430,
              "RESET_INDEX_VALUES": false,
              "ROW_SAMPLING_METHOD": "random",
              "SAMPLING_FACTOR": 0.1,
              "SAMPLING_METHOD": "random",
              "STRINGIFY_COLUMN_VALUES": true,
              "STRINGIFY_INDEX_VALUES": false
            },
            "sample_history": [],
            "sampling_time": "2023-07-25T20:55:29.915177",
            "user_variable_name": null,
            "variable_name": "unk_dataframe_7d1d42617854443eb87f2f4ad9232da0"
          }
        }
      },
      "execution_count": null,
      "source": "df = pd.read_csv('imbd.csv')\ndf.head()",
      "outputs": []
    },
    {
      "id": "5435cccd-dd0c-44de-a684-6ac9199df50f",
      "cell_type": "code",
      "metadata": {
        "noteable": {
          "cell_type": "code",
          "output_collection_id": "95593b30-eca3-4e8c-a0cf-e2b049554962"
        },
        "ExecuteTime": {
          "end_time": "2023-07-25T21:03:38.942345+00:00",
          "start_time": "2023-07-25T21:03:38.231736+00:00"
        }
      },
      "execution_count": null,
      "source": "from collections import Counter\n\n# Handle missing or incorrect values in 'Genre'\ndf['Genre'] = df['Genre'].apply(lambda x: 'Unknown' if pd.isnull(x) else x)\n\n# Split 'Genre' into separate genres and count occurrences\ngenre_counts = Counter(', '.join(df['Genre']).split(', '))\n\n# Convert to DataFrame for easier manipulation\ndf_genre_counts = pd.DataFrame.from_dict(genre_counts, orient='index').reset_index()\ndf_genre_counts.columns = ['Genre', 'Count']\n\n# Sort by count\ndf_genre_counts = df_genre_counts.sort_values('Count', ascending=False)\n\n# Plotting\nplt.figure(figsize=(10, 6))\nplt.barh(df_genre_counts['Genre'], df_genre_counts['Count'], color='skyblue')\nplt.title('Most Popular Genres in Top 250 Movies')\nplt.xlabel('Count')\nplt.ylabel('Genre')\nplt.gca().invert_yaxis()\nplt.grid(False)\nplt.show()\nplt.savefig('Visualizations/popular_genres.png')",
      "outputs": []
    },
    {
      "id": "67d65f6b-ed2e-48bc-94a6-c41cf2bbb174",
      "cell_type": "code",
      "metadata": {
        "noteable": {
          "cell_type": "code",
          "output_collection_id": "180da1f0-aa4c-49b0-8c6e-6f326751c8c3"
        },
        "ExecuteTime": {
          "end_time": "2023-07-25T21:02:34.050367+00:00",
          "start_time": "2023-07-25T21:02:33.155977+00:00"
        }
      },
      "execution_count": null,
      "source": "# Split 'Country' into separate countries and count occurrences\ncountry_counts = Counter(', '.join(df['Country']).split(', '))\n\n# Convert to DataFrame for easier manipulation\ndf_country_counts = pd.DataFrame.from_dict(country_counts, orient='index').reset_index()\ndf_country_counts.columns = ['Country', 'Count']\n\n# Sort by count\ndf_country_counts = df_country_counts.sort_values('Count', ascending=False)\n\n# Plotting\nplt.figure(figsize=(10, 6))\nplt.barh(df_country_counts['Country'], df_country_counts['Count'], color='skyblue')\nplt.title('Most Common Countries of Origin in Top 250 Movies')\nplt.xlabel('Count')\nplt.ylabel('Country')\nplt.gca().invert_yaxis()\nplt.grid(False)\nplt.show()\nplt.savefig('Visualizations/movies_origin-countries.png')",
      "outputs": []
    },
    {
      "id": "9a32ba74-8efc-4bee-b62f-5c7c838bed8d",
      "cell_type": "markdown",
      "source": "## How does the distribution of movie ratings differ by genre?",
      "metadata": {
        "noteable": {
          "cell_type": "markdown"
        }
      }
    },
    {
      "id": "d36f44d3-d587-43a1-a539-6ebe2675c344",
      "cell_type": "code",
      "metadata": {
        "noteable": {
          "cell_type": "python",
          "output_collection_id": "dcc80155-c99b-4fd1-9043-684a1e2e4652"
        },
        "ExecuteTime": {
          "end_time": "2023-07-25T21:00:20.810387+00:00",
          "start_time": "2023-07-25T21:00:19.536436+00:00"
        }
      },
      "execution_count": null,
      "source": "# Get the top 10 genres by movie count\ntop_genres = df['Genre'].str.split('|', expand=True).stack().value_counts().head(10).index\n\n# Filter the dataset to only include movies in the top 10 genres\ndf_top_genres = df[df['Genre'].str.contains('|'.join(top_genres))]\n\n# Create a box plot for each genre\nsns.set(style='whitegrid', font_scale=1.5)\nsns.catplot(x='imdbRating', y='Genre', data=df_top_genres, kind='box', height=8, aspect=1.5, order=top_genres, showfliers=False)\nplt.xlabel(\"Rating\")\nplt.ylabel(\"Genre\")\nplt.title('Distribution of Ratings for Movies in Top 10 Genres')\nplt.savefig('Visualizations/genre-ratings_distribution.png')",
      "outputs": []
    },
    {
      "id": "72c3042e-448f-4273-b780-4751fed451cc",
      "cell_type": "code",
      "metadata": {
        "noteable": {
          "cell_type": "code",
          "output_collection_id": "ab7d125a-6f2b-4a1d-a0dc-cddf490d2d19"
        },
        "ExecuteTime": {
          "end_time": "2023-07-25T20:55:35.182934+00:00",
          "start_time": "2023-07-25T20:55:34.315015+00:00"
        }
      },
      "execution_count": null,
      "source": "# Handle missing or incorrect values in 'Runtime'\ndf['Runtime'] = df['Runtime'].apply(lambda x: '0' if pd.isnull(x) else x)\ndf['Runtime'] = df['Runtime'].str.replace(' min', '').astype(int)\n\n# Plotting\nplt.figure(figsize=(10, 6))\nplt.hist(df['Runtime'], bins=20, color='skyblue', edgecolor='black')\nplt.title('Distribution of Runtimes in Top 250 Movies')\nplt.xlabel('Runtime (minutes)')\nplt.ylabel('Count')\nplt.grid(False)\nplt.savefig('Visualizations/runtime_distribution.png')\nplt.show()",
      "outputs": []
>>>>>>> da1100d7368af07cbd0fe5fed2017291353f9d60
    }
   },
   "outputs": [],
   "source": [
    "import pandas as pd\n",
    "import numpy as np\n",
    "import matplotlib.pyplot as plt\n",
    "import seaborn as sns\n",
    "%matplotlib inline\n",
    "import plotly.express as px\n",
    "import requests\n",
    "import os"
   ]
  },
  {
   "cell_type": "code",
   "execution_count": 7,
   "id": "a620222b-564a-4e1d-9a31-066df66453c0",
   "metadata": {
    "ExecuteTime": {
     "end_time": "2023-07-25T04:38:06.598344+00:00",
     "start_time": "2023-07-25T04:38:06.301885+00:00"
    },
    "datalink": {
     "44648d53-86f6-4edc-b347-8a90c670c345": {
      "applied_filters": [],
      "dataframe_info": {
       "default_index_used": true,
       "orig_num_cols": 26,
       "orig_num_rows": 5,
       "orig_size_bytes": 1045,
       "truncated_num_cols": 26,
       "truncated_num_rows": 5,
       "truncated_size_bytes": 1045,
       "truncated_string_columns": []
      },
      "display_id": "44648d53-86f6-4edc-b347-8a90c670c345",
      "dx_settings": {
       "ALLOW_NOTEABLE_ATTRS": true,
       "COLUMN_SAMPLING_METHOD": "outer",
       "DB_LOCATION": ":memory:",
       "DEV_MODE": false,
       "DISPLAY_MAX_COLUMNS": 100,
       "DISPLAY_MAX_ROWS": 50000,
       "DISPLAY_MODE": "simple",
       "ENABLE_ASSIGNMENT": true,
       "ENABLE_DATALINK": true,
       "FLATTEN_COLUMN_VALUES": true,
       "FLATTEN_INDEX_VALUES": false,
       "GENERATE_DEX_METADATA": false,
       "HTML_TABLE_SCHEMA": false,
       "LOG_LEVEL": 30,
       "MAX_RENDER_SIZE_BYTES": 104857600,
       "MAX_STRING_LENGTH": 250,
       "NUM_PAST_SAMPLES_TRACKED": 3,
       "RANDOM_STATE": 12648430,
       "RESET_INDEX_VALUES": false,
       "ROW_SAMPLING_METHOD": "random",
       "SAMPLING_FACTOR": 0.1,
       "SAMPLING_METHOD": "random",
       "STRINGIFY_COLUMN_VALUES": true,
       "STRINGIFY_INDEX_VALUES": false
      },
      "sample_history": [],
      "sampling_time": "2023-07-25T04:38:06.436192",
      "user_variable_name": null,
      "variable_name": "unk_dataframe_c66019be9cd24a95bc955f8ab18e1db2"
     },
     "6f279b47-c573-4556-a9f7-48a2f7f5f2cd": {
      "applied_filters": [],
      "dataframe_info": {
       "default_index_used": true,
       "orig_num_cols": 26,
       "orig_num_rows": 5,
       "orig_size_bytes": 1045,
       "truncated_num_cols": 26,
       "truncated_num_rows": 5,
       "truncated_size_bytes": 1045,
       "truncated_string_columns": []
      },
      "display_id": "6f279b47-c573-4556-a9f7-48a2f7f5f2cd",
      "dx_settings": {
       "ALLOW_NOTEABLE_ATTRS": true,
       "COLUMN_SAMPLING_METHOD": "outer",
       "DB_LOCATION": ":memory:",
       "DEV_MODE": false,
       "DISPLAY_MAX_COLUMNS": 100,
       "DISPLAY_MAX_ROWS": 50000,
       "DISPLAY_MODE": "simple",
       "ENABLE_ASSIGNMENT": true,
       "ENABLE_DATALINK": true,
       "FLATTEN_COLUMN_VALUES": true,
       "FLATTEN_INDEX_VALUES": false,
       "GENERATE_DEX_METADATA": false,
       "HTML_TABLE_SCHEMA": false,
       "LOG_LEVEL": 30,
       "MAX_RENDER_SIZE_BYTES": 104857600,
       "MAX_STRING_LENGTH": 250,
       "NUM_PAST_SAMPLES_TRACKED": 3,
       "RANDOM_STATE": 12648430,
       "RESET_INDEX_VALUES": false,
       "ROW_SAMPLING_METHOD": "random",
       "SAMPLING_FACTOR": 0.1,
       "SAMPLING_METHOD": "random",
       "STRINGIFY_COLUMN_VALUES": true,
       "STRINGIFY_INDEX_VALUES": false
      },
      "sample_history": [],
      "sampling_time": "2023-07-25T02:50:27.779768",
      "user_variable_name": null,
      "variable_name": "unk_dataframe_f888b166fcc9423eace92b16d00eeb54"
     },
     "e9a02a5a-63ea-43e4-832c-f7d4e65f5de7": {
      "applied_filters": [],
      "dataframe_info": {
       "default_index_used": true,
       "orig_num_cols": 26,
       "orig_num_rows": 5,
       "orig_size_bytes": 1045,
       "truncated_num_cols": 26,
       "truncated_num_rows": 5,
       "truncated_size_bytes": 1045,
       "truncated_string_columns": []
      },
      "display_id": "e9a02a5a-63ea-43e4-832c-f7d4e65f5de7",
      "dx_settings": {
       "ALLOW_NOTEABLE_ATTRS": true,
       "COLUMN_SAMPLING_METHOD": "outer",
       "DB_LOCATION": ":memory:",
       "DEV_MODE": false,
       "DISPLAY_MAX_COLUMNS": 100,
       "DISPLAY_MAX_ROWS": 50000,
       "DISPLAY_MODE": "simple",
       "ENABLE_ASSIGNMENT": true,
       "ENABLE_DATALINK": true,
       "FLATTEN_COLUMN_VALUES": true,
       "FLATTEN_INDEX_VALUES": false,
       "GENERATE_DEX_METADATA": false,
       "HTML_TABLE_SCHEMA": false,
       "LOG_LEVEL": 30,
       "MAX_RENDER_SIZE_BYTES": 104857600,
       "MAX_STRING_LENGTH": 250,
       "NUM_PAST_SAMPLES_TRACKED": 3,
       "RANDOM_STATE": 12648430,
       "RESET_INDEX_VALUES": false,
       "ROW_SAMPLING_METHOD": "random",
       "SAMPLING_FACTOR": 0.1,
       "SAMPLING_METHOD": "random",
       "STRINGIFY_COLUMN_VALUES": true,
       "STRINGIFY_INDEX_VALUES": false
      },
      "sample_history": [],
      "sampling_time": "2023-07-25T03:03:48.265110",
      "user_variable_name": null,
      "variable_name": "unk_dataframe_369759be8bb94f80acd078bcee0a491f"
     }
    },
    "noteable": {
     "cell_type": "code",
     "output_collection_id": "77812799-6ba5-4d7f-91d4-6c5923353e3a"
    }
   },
   "outputs": [
    {
     "data": {
      "text/html": [
       "<div>\n",
       "<style scoped>\n",
       "    .dataframe tbody tr th:only-of-type {\n",
       "        vertical-align: middle;\n",
       "    }\n",
       "\n",
       "    .dataframe tbody tr th {\n",
       "        vertical-align: top;\n",
       "    }\n",
       "\n",
       "    .dataframe thead th {\n",
       "        text-align: right;\n",
       "    }\n",
       "</style>\n",
       "<table border=\"1\" class=\"dataframe\">\n",
       "  <thead>\n",
       "    <tr style=\"text-align: right;\">\n",
       "      <th></th>\n",
       "      <th>Title</th>\n",
       "      <th>Year</th>\n",
       "      <th>Rated</th>\n",
       "      <th>Released</th>\n",
       "      <th>Runtime</th>\n",
       "      <th>Genre</th>\n",
       "      <th>Director</th>\n",
       "      <th>Writer</th>\n",
       "      <th>Actors</th>\n",
       "      <th>Plot</th>\n",
       "      <th>...</th>\n",
       "      <th>imdbRating</th>\n",
       "      <th>imdbVotes</th>\n",
       "      <th>imdbID</th>\n",
       "      <th>Type</th>\n",
       "      <th>DVD</th>\n",
       "      <th>BoxOffice</th>\n",
       "      <th>Production</th>\n",
       "      <th>Website</th>\n",
       "      <th>Response</th>\n",
       "      <th>totalSeasons</th>\n",
       "    </tr>\n",
       "  </thead>\n",
       "  <tbody>\n",
       "    <tr>\n",
       "      <th>0</th>\n",
       "      <td>The Shawshank Redemption</td>\n",
       "      <td>1994</td>\n",
       "      <td>R</td>\n",
       "      <td>14 Oct 1994</td>\n",
       "      <td>142 min</td>\n",
       "      <td>Drama</td>\n",
       "      <td>Frank Darabont</td>\n",
       "      <td>Stephen King, Frank Darabont</td>\n",
       "      <td>Tim Robbins, Morgan Freeman, Bob Gunton</td>\n",
       "      <td>Over the course of several years, two convicts...</td>\n",
       "      <td>...</td>\n",
       "      <td>9.3</td>\n",
       "      <td>2,757,076</td>\n",
       "      <td>tt0111161</td>\n",
       "      <td>movie</td>\n",
       "      <td>21 Dec 1999</td>\n",
       "      <td>$28,767,189</td>\n",
       "      <td>NaN</td>\n",
       "      <td>NaN</td>\n",
       "      <td>True</td>\n",
       "      <td>NaN</td>\n",
       "    </tr>\n",
       "    <tr>\n",
       "      <th>1</th>\n",
       "      <td>The Godfather</td>\n",
       "      <td>1972</td>\n",
       "      <td>R</td>\n",
       "      <td>24 Mar 1972</td>\n",
       "      <td>175 min</td>\n",
       "      <td>Crime, Drama</td>\n",
       "      <td>Francis Ford Coppola</td>\n",
       "      <td>Mario Puzo, Francis Ford Coppola</td>\n",
       "      <td>Marlon Brando, Al Pacino, James Caan</td>\n",
       "      <td>Don Vito Corleone, head of a mafia family, dec...</td>\n",
       "      <td>...</td>\n",
       "      <td>9.2</td>\n",
       "      <td>1,920,817</td>\n",
       "      <td>tt0068646</td>\n",
       "      <td>movie</td>\n",
       "      <td>11 May 2004</td>\n",
       "      <td>$136,381,073</td>\n",
       "      <td>NaN</td>\n",
       "      <td>NaN</td>\n",
       "      <td>True</td>\n",
       "      <td>NaN</td>\n",
       "    </tr>\n",
       "    <tr>\n",
       "      <th>2</th>\n",
       "      <td>The Dark Knight</td>\n",
       "      <td>2008</td>\n",
       "      <td>PG-13</td>\n",
       "      <td>18 Jul 2008</td>\n",
       "      <td>152 min</td>\n",
       "      <td>Action, Crime, Drama</td>\n",
       "      <td>Christopher Nolan</td>\n",
       "      <td>Jonathan Nolan, Christopher Nolan, David S. Goyer</td>\n",
       "      <td>Christian Bale, Heath Ledger, Aaron Eckhart</td>\n",
       "      <td>When the menace known as the Joker wreaks havo...</td>\n",
       "      <td>...</td>\n",
       "      <td>9.0</td>\n",
       "      <td>2,733,700</td>\n",
       "      <td>tt0468569</td>\n",
       "      <td>movie</td>\n",
       "      <td>09 Dec 2008</td>\n",
       "      <td>$534,987,076</td>\n",
       "      <td>NaN</td>\n",
       "      <td>NaN</td>\n",
       "      <td>True</td>\n",
       "      <td>NaN</td>\n",
       "    </tr>\n",
       "    <tr>\n",
       "      <th>3</th>\n",
       "      <td>The Godfather Part II</td>\n",
       "      <td>1974</td>\n",
       "      <td>R</td>\n",
       "      <td>18 Dec 1974</td>\n",
       "      <td>202 min</td>\n",
       "      <td>Crime, Drama</td>\n",
       "      <td>Francis Ford Coppola</td>\n",
       "      <td>Francis Ford Coppola, Mario Puzo</td>\n",
       "      <td>Al Pacino, Robert De Niro, Robert Duvall</td>\n",
       "      <td>The early life and career of Vito Corleone in ...</td>\n",
       "      <td>...</td>\n",
       "      <td>9.0</td>\n",
       "      <td>1,307,220</td>\n",
       "      <td>tt0071562</td>\n",
       "      <td>movie</td>\n",
       "      <td>24 May 2005</td>\n",
       "      <td>$47,834,595</td>\n",
       "      <td>NaN</td>\n",
       "      <td>NaN</td>\n",
       "      <td>True</td>\n",
       "      <td>NaN</td>\n",
       "    </tr>\n",
       "    <tr>\n",
       "      <th>4</th>\n",
       "      <td>12 Angry Men</td>\n",
       "      <td>1957</td>\n",
       "      <td>Approved</td>\n",
       "      <td>10 Apr 1957</td>\n",
       "      <td>96 min</td>\n",
       "      <td>Crime, Drama</td>\n",
       "      <td>Sidney Lumet</td>\n",
       "      <td>Reginald Rose</td>\n",
       "      <td>Henry Fonda, Lee J. Cobb, Martin Balsam</td>\n",
       "      <td>The jury in a New York City murder trial is fr...</td>\n",
       "      <td>...</td>\n",
       "      <td>9.0</td>\n",
       "      <td>816,319</td>\n",
       "      <td>tt0050083</td>\n",
       "      <td>movie</td>\n",
       "      <td>04 Mar 2008</td>\n",
       "      <td>NaN</td>\n",
       "      <td>NaN</td>\n",
       "      <td>NaN</td>\n",
       "      <td>True</td>\n",
       "      <td>NaN</td>\n",
       "    </tr>\n",
       "  </tbody>\n",
       "</table>\n",
       "<p>5 rows × 26 columns</p>\n",
       "</div>"
      ],
      "text/plain": [
       "                      Title  Year     Rated     Released  Runtime  \\\n",
       "0  The Shawshank Redemption  1994         R  14 Oct 1994  142 min   \n",
       "1             The Godfather  1972         R  24 Mar 1972  175 min   \n",
       "2           The Dark Knight  2008     PG-13  18 Jul 2008  152 min   \n",
       "3     The Godfather Part II  1974         R  18 Dec 1974  202 min   \n",
       "4              12 Angry Men  1957  Approved  10 Apr 1957   96 min   \n",
       "\n",
       "                  Genre              Director  \\\n",
       "0                 Drama        Frank Darabont   \n",
       "1          Crime, Drama  Francis Ford Coppola   \n",
       "2  Action, Crime, Drama     Christopher Nolan   \n",
       "3          Crime, Drama  Francis Ford Coppola   \n",
       "4          Crime, Drama          Sidney Lumet   \n",
       "\n",
       "                                              Writer  \\\n",
       "0                       Stephen King, Frank Darabont   \n",
       "1                   Mario Puzo, Francis Ford Coppola   \n",
       "2  Jonathan Nolan, Christopher Nolan, David S. Goyer   \n",
       "3                   Francis Ford Coppola, Mario Puzo   \n",
       "4                                      Reginald Rose   \n",
       "\n",
       "                                        Actors  \\\n",
       "0      Tim Robbins, Morgan Freeman, Bob Gunton   \n",
       "1         Marlon Brando, Al Pacino, James Caan   \n",
       "2  Christian Bale, Heath Ledger, Aaron Eckhart   \n",
       "3     Al Pacino, Robert De Niro, Robert Duvall   \n",
       "4      Henry Fonda, Lee J. Cobb, Martin Balsam   \n",
       "\n",
       "                                                Plot  ... imdbRating  \\\n",
       "0  Over the course of several years, two convicts...  ...        9.3   \n",
       "1  Don Vito Corleone, head of a mafia family, dec...  ...        9.2   \n",
       "2  When the menace known as the Joker wreaks havo...  ...        9.0   \n",
       "3  The early life and career of Vito Corleone in ...  ...        9.0   \n",
       "4  The jury in a New York City murder trial is fr...  ...        9.0   \n",
       "\n",
       "   imdbVotes     imdbID   Type          DVD     BoxOffice  Production Website  \\\n",
       "0  2,757,076  tt0111161  movie  21 Dec 1999   $28,767,189         NaN     NaN   \n",
       "1  1,920,817  tt0068646  movie  11 May 2004  $136,381,073         NaN     NaN   \n",
       "2  2,733,700  tt0468569  movie  09 Dec 2008  $534,987,076         NaN     NaN   \n",
       "3  1,307,220  tt0071562  movie  24 May 2005   $47,834,595         NaN     NaN   \n",
       "4    816,319  tt0050083  movie  04 Mar 2008           NaN         NaN     NaN   \n",
       "\n",
       "  Response totalSeasons  \n",
       "0     True          NaN  \n",
       "1     True          NaN  \n",
       "2     True          NaN  \n",
       "3     True          NaN  \n",
       "4     True          NaN  \n",
       "\n",
       "[5 rows x 26 columns]"
      ]
     },
     "execution_count": 7,
     "metadata": {},
     "output_type": "execute_result"
    }
   ],
   "source": [
    "df = pd.read_csv('imbd.csv')\n",
    "df.head()"
   ]
  },
  {
   "cell_type": "code",
   "execution_count": 8,
   "id": "d8a70f53-f9a1-43ab-8c9c-936f77cbc19d",
   "metadata": {
    "ExecuteTime": {
     "end_time": "2023-07-25T04:38:07.945430+00:00",
     "start_time": "2023-07-25T04:38:06.606760+00:00"
    },
    "noteable": {
     "cell_type": "code",
     "output_collection_id": "99f229a3-bbad-49fd-b7ff-ef74029c0c09"
    }
   },
   "outputs": [
    {
     "data": {
      "text/plain": [
       "{'Response': 'False', 'Error': 'No API key provided.'}"
      ]
     },
     "execution_count": 8,
     "metadata": {},
     "output_type": "execute_result"
    }
   ],
   "source": [
    "def fetch_movie_data(title):\n",
    "    # Retrieve API key from environment variables\n",
    "    api_key = os.getenv('OMDB_API_KEY')\n",
    "\n",
    "    # Define the base URL of the OMDB API\n",
    "    base_url = 'http://www.omdbapi.com/'\n",
    "\n",
    "    # Define the parameters for the API request\n",
    "    params = {\n",
    "        'apikey': api_key,\n",
    "        't': title\n",
    "    }\n",
    "\n",
    "    # Send GET request to the OMDB API\n",
    "    response = requests.get(base_url, params=params)\n",
    "\n",
    "    # Return the JSON response\n",
    "    return response.json()\n",
    "\n",
    "# Fetch data for one movie\n",
    "movie_data = fetch_movie_data('The Shawshank Redemption')\n",
    "movie_data"
   ]
  },
  {
   "cell_type": "code",
   "execution_count": 9,
   "id": "5435cccd-dd0c-44de-a684-6ac9199df50f",
   "metadata": {
    "ExecuteTime": {
     "end_time": "2023-07-25T04:38:10.033947+00:00",
     "start_time": "2023-07-25T04:38:09.348102+00:00"
    },
    "noteable": {
     "cell_type": "code",
     "output_collection_id": "ba3939e7-518a-4594-933f-14ed30771c9a"
    }
   },
   "outputs": [
    {
     "data": {
      "image/png": "iVBORw0KGgoAAAANSUhEUgAAApUAAAGDCAYAAAB6Nuu8AAAAOXRFWHRTb2Z0d2FyZQBNYXRwbG90bGliIHZlcnNpb24zLjcuMiwgaHR0cHM6Ly9tYXRwbG90bGliLm9yZy8pXeV/AAAACXBIWXMAAAsTAAALEwEAmpwYAABEwUlEQVR4nO3dd7wdVb3+8c9DkxI6CCglygUxtGMICAgICFYUUBQQlYiKeBVEL9d+BawocFFs3MBFqoCKeKPw0yAdkRIghdCkBJXeO4Ekz++PWZvsHE7NKbs979drv87MmjVr1szZSb5Za2a+sk1ERERExFAs1ugORERERETrS1AZEREREUOWoDIiIiIihixBZUREREQMWYLKiIiIiBiyBJURERERMWQJKiOiI0kaK8mSlmh0XxpN0v+TtH+j+9HuJJ0g6b8a3Y+IkZKgMiKQNFvSi5JW61Z+Ywm8xg6xfUv6tz62T5Q0T9Izkp6SNE3SbkM5ZiNIWkvSiZLuK+dyl6RTJG3U6L71xfa7bJ862P3KOdY+8yU9X7e+33D0TdIxkv4u6WlJt0r6WLftlvRs3XFPqtsmST+Q9Gj5/ECSejnOjqWt87qVb17KLx3qudg+yPa3h9pORLNKUBkRNXcD+9ZWJG0KLDuKx/+b7THASsD/Ar+WtPIoHn/AehrdlLQqcBXVNdseWB4YD1wG7DoafRhttsfUPsA/gPfWlZ05TId5FngvsCKwP/BjSdt2q7N53XE/WVd+ILAHsDmwWWnn030c62Fgm/K7rNkfuH1opxDRGRJURkTN6UD9KND+wGn1FSStKOk0SQ9LukfSNyQtVrb9m6TLJD0p6RFJ55Tyy8vu08tI0t59dcL2fOBkYBlg/X6OOVHSXyX9tBz3Vklvq+vvbEm71K0fIemMno4r6eOSbikjYndJ+nTdth0l/UvSlyU9APyyhya+ADwFfNT2na48YfuXtn9S19bWkq6S9ISk6ZJ2rNt2qaRvl3N6WtKU2uhx3XT9JyT9A7i4lB9Q+v24pD9LWq+US9Jxkh4qo78zJW3Sy7lfKumTddf0yjJC+LikuyW9q6/fWQ/tvUrSj1SN2N5Xll/V7Vp+rXxPZquPUU3bh9u+1fZ829cAVwDbDLAr+wPH2v6X7XuBY4GJfdR/Efg9sE/p6+LA3sBCAbKkbSVdV75z19WCXEl7S5rare4XJE0uy6dI+k7dtt1Ujco/Ub4Tm9Vt+7Kke8v34Lb673VEs0pQGRE1VwMrSHpj+cd0H6B7APYTqhGj1wNvpQpCP162fRuYAqwMrF3qYnuHsr02mnROX50oI3CfBJ4B/t7PMQHeDNwJrAYcDvxO0iqDOvPKQ8BuwAql/eMkja/bviawCrAe1QhYd7sA55WguLdzey1wPvCd0tZhwLmSVq+r9uFy/FcDS5U69d4KvBF4h6Tdga8B7wdWpwq4zir13g7sAGxIdf0+BDza++kv5M3AbVTX9IfA/0o9Txv34uvA1kAX1SjhVsA36ravWdp+LVXgN0nSG/prVNIywJbArG6bLpf0gKTfaeFbNTYGptetTy9lfTmNBf+5egdwE3BfXR9WofodHg+sCvw3cL6q0c0/AG+QtEFdex8GftXDubyJ6j9Pny7t/A8wuQTkbwA+B2xpe/nSj9n99Dui4RJURkS92mjlrsAtwL21DXWB5ldtP217NtXIz0dLlZeoAq7X2H7B9pWDPPbWkp4AHqCaht+TKrDs65hQBYM/sv1SCVhvA94zyGNj+/y6EcbLqALk7euqzAcOtz3H9vM9NLFa6TsAkt5XRqCeljSlFH8EuMD2BWXk7UJgKvDuunZ+afv2coxfUwVm9Y6w/WzZfhDwfdu32J4LfA/oKqOVL1FNwW8EqNS5f4CX4x7bJ9qeB5wKrAWsMcB9AfYDvmX7IdsPA0ey8O8M4L/KtbyMKkj70ADaPYEqMPxzXdlbgbFU53kf8EctuDVgDPBkXd0ngTF9Bci2rwJWKYHdx+g2Wk/13fq77dNtz7V9FnAr1dT/c8D/UW4jKcHlRsDkHg51IPA/tq+xPa/c0zqHKhifB7wKGCdpSduzbd/Z14WJaAYJKiOi3ulUIysTeeU/pqsBSwL31JXdQzXaBPAlQMC1kmZJOmCQx77a9kq2V7O9te2/DOCYAPfadrftrxnksZH0LklXS3qsBLfvLsevedj2C3008ShV8AWA7cm2V6KaFl+qFK8HfLAEm0+U42xXvx91gSnwHFVgVO+fdcvrUd1jWGvrMarfwWttXwz8FPgZ8JCkSZJW6KP/9V7uQwmU6KEffXkNr/yd1f9OHrf9bB/bX0HS0cAmwIfqf9+2L7f9ou0ngM8Dr6MayYXqPyX157wC8Ey370tPTqcaKdwJOK/btu7nVut/7Tv5Kxbcm/xh4Pd117DeesB/dPsurEP1n7I7gEOBI6h+d2dLGvR3OmK0JaiMiJfZvofqgZ13A7/rtvkRFoxG1qxLGc20/YDtT9l+DdWU3s/VxxPfA9TnMYvXdht5WpcF05XPsvDDRmv2dJByv9+5wDHAGiUYvIAqQKvpLxC5CNhD5X7PXvwTOL0Ez7XPcraP6qftevX9+Cfw6W7tLVNG27B9vO0tgHFU0+D/OYjjDMV9vPJ3dl/d+sqSlutj+0IkHQm8C3i77af6ObZZ8HubRTX9XrM5r5w678npwL9TjSp3Dwi7nxss/J28EFhdUhdVcPmKqe/in8B3u/3uli0jn9j+le3tyrEM/GAA/Y5oqASVEdHdJ4Cdu40kUaZCfw18V9LyZYr1i5T7LiV9UNLapfrjVP8Q1u4vfJDqnshB6e+YxauBQyQtKemDVKNUF5Rt04B9yrYJwF69HGopqunGh4G55cGUtw+yu/9NdT/p6ZLWLw/KLM/C09dnAO+V9A5Ji0taujy4snZPDQ7ACcBXJW0MLz9I9cGyvKWkN0takiq4foEFv4+RdhbwDUmrq3rQ6Ju88v7cIyUtJWl7qntZf9NTQ5K+SjXit4vtR7tt21hSV7mWY6hujbiX6tYNqEbbvyjptWWk7z+AU/rrvO27qabVv97D5guADSV9WNISqh48Gwf8sez7UjmXo6num72wl8OcCBxUfkeStJyk95Tv+Rsk7Vz+s/MC8Dyj97uLWGQJKiNiIeW+wqm9bD6YKkC5C7iSahTm5LJtS+AaSc9Q3UP2edt3lW1HAKeWab6B3Ds30GMCXANsQDWq+V1gr7rg47+A9amC3CPpZdTI9tPAIVQB7ONUQUxP98H1yvYjVPfDvVD6+TRVULs88JlS559A7eGah6lGq/6TRfy72PZ5VCNYZ0t6iuqhktqT2itQBS6PU03PPkoV6IyG71DdKzoDmAncUMpqHij9uo/qyeqDbN/aS1vfoxoJvEML3kX5tbJtDeAcqqfu76K6t3K3EthB9fDLH0ofbqK6d/N/BnICtq+0/YrR0/Ld2o0qQH2U6raP3crvv+ZXVA9u/abc69pT+1OBT1HdovA4cAcLnkx/FXAU1Xf6Aar/OH11IP2OaCT1f2tJRERzkjQR+GSZJowWoOoVSmfYXtTR2YhoUhmpjIiIiIghS1AZEREREUOW6e+IiIiIGLKMVEZERETEkCWojIiIiIghW6L/KjGSVlttNY8dO7bR3YiIiIjo1/XXX/+I7dV72pagssHGjh3L1Km9vRIwIiIionlI6p6m9GWZ/o6IiIiIIUtQGRERERFDlqAyIiIiIoYsQWVEREREDFmCyoiIiIgYsgSVERERETFkCSojIiIiYsgSVEZERETEkCWojIiIiIghS1AZEREREUOWoDIiIiIihixBZUREREQM2RKN7kCne+C5uRx14yON7kZERES0qK+8abVGdwHISGVEREREDIO2H6mUNA+YCSwJzAVOA46zPb+hHYuIiIhoI20fVALP2+4CkPRq4FfACsDh9ZUkLWF77uh3LyIiIqL1ddT0t+2HgAOBz6kyUdJkSRcDF0kaI+kiSTdImilpdwBJYyXdKukUSbdLOlPSLpL+KunvkrYq9baS9DdJN0q6StIbGni6EREREaOmE0YqF2L7LkmLA68uReOBzWw/JmkJYE/bT0laDbha0uRS79+ADwIHANcBHwa2A94HfA3YA7gV2N72XEm7AN8DPtC9D5IOpApuWWnNtUfmRCMiIiJGUccFlT240PZjZVnA9yTtAMwHXgusUbbdbXsmgKRZwEW2LWkmMLbUWRE4VdIGgKnu43wF25OASQBrj+vy8J9SRERExOjqqOlvAEmvB+YBD5WiZ+s27wesDmxR7sN8EFi6bJtTV29+3fp8FgTn3wYusb0J8N66fSMiIiLaWkcFlZJWB04Afmq7pxHCFYGHbL8kaSdgvUEeYkXg3rI8cZE7GhEREdFiOiGoXEbStDJl/RdgCnBkL3XPBCaUKe2PUd0jORg/BL4v6UZya0FERER0EPU8YBejZcKECZ46dWqjuxERERHRL0nX257Q07ZOGKmMiIiIiBGWKdoGS+7vaDfNkoM2IiJGV0YqIyIiImLImjqolLSHJEvaqJftl0rqcV5/iMccN5xtRkRERLS7pg4qgX2BK8vP0bIHMKigsmTiiYiIiOhYTRtUShpDlQbxE8A+pWwZSWdLukXSecAypfwgSUfX7TtR0k/L8kckXVteK/Q/JUUjkp6R9F1J0yVdLWkNSdtSpV08utRfv340VNJqkmbXHaM+b/hykk4ux7qxljc8IiIiohM0bVAJ7A78yfbtwKOStgA+Azxn+43A4cAWpe65wJ51++4NnC3pjWX5LSVDzjyqrDkAywFX294cuBz4lO2rgMnAf9rusn1nP30cD+xl+63A14GLbW8F7EQVmC7X006SDpQ0VdLUZx9/dMAXJCIiIqJZNXNQuS9wdlk+u6zvAJwBYHsGMKMsPwzcJWlrSasCGwF/Bd5GFXheJ2laWX99afNF4I9l+XoW5O8ejPq84W8HvlKOcylVisZ1e9rJ9iTbE2xPWG7lVRfhsBERERHNpSnvBZS0CrAzsKkkA4sDBm7sY7ezgQ9RZcE5z7YlCTjV9ld7qP9SXarGefR+LeayIPjunsu7Pm+4gA/Yvq2PPkZERES0pWYdqdwLON32erbH2l4HuJtqRPHDAJI2ATar2+c8qinz+hHOi4C9JL267LOKpP7yeT8NLF+3PpsF0+x79bHfn4GDSyCLpDf1c5yIiIiIttGsQeW+VEFivXOB1wFjJN0CfIsqyATA9uPALcB6tq8tZTcD3wCmSJoBXAis1c+xzwb+szxssz5wDPCZks+7r7c6fxtYEphR8ox/e0BnGhEREdEGkvu7wZL7OyIiIlpFcn9HRERExIhqygd1Oklyf8doS27uiIgYCRmpjIiIiIgh68igUtKaJTPPnZKul3SBpA17qHdVI/oXERER0Wo6Lqgsr/w5D7jU9vq2twC+CqxRV2cJANvbNqaXEREREa2l44JKqhSKL9k+oVZgezqwuKQrJE0GboYqP3j5uaOkyyT9n6S7JB0lab+S53tmefUQklaXdK6k68rnLQ04v4iIiIhR14kP6mxC3fstuxkPbGL77h62bQ68EXgMuAs4yfZWkj4PHAwcCvwYOM72lZLWpXoh+hu7NyTpQOBAgJXWXHtoZxMRERHRBDoxqOzLtb0ElADX2b4fQNKdwJRSPpNq9BNgF2BcSaoDsIKkMbafqW/I9iRgEsDa47ryotCIiIhoeZ0YVM6i93SLz/ZSDjCnbnl+3fp8FlzHxYCtbb8wpB5GREREtJhOvKfyYuBVZQoaAEmbAdsPQ9tTqKbCa+12DUObEREREU2v44JKV3kp9wR2Ka8UmgV8H3hgGJo/BJggaYakm4GDhqHNiIiIiKaX3N8NltzfERER0SqS+zsiIiIiRlQnPqjTVJL7O0ZD8n1HRMRIy0hlRERERAxZxwWVkvaQZEkb9VPvUEnL1q1fIGmlEe9gRERERAvquKAS2Be4svzsy6HAy0Gl7XfbfmLkuhURERHRujoqqJQ0BtgO+ASwTylbXNIxkm4qrwI6WNIhwGuASyRdUurNlrRaWf5iqX+TpENL2VhJt0g6UdIsSVMkLdOI84yIiIgYbZ32oM7uwJ9s3y7pUUlbAFsBY4Eu23MlrWL7MUlfBHayvdBTNGWfjwNvBgRcI+ky4HFgA2Bf25+S9GvgA8AZ3TuR3N8RERHRbjpqpJJqyvvssnx2Wd8F+B/bcwFsP9ZPG9sB59l+tuT0/h0LsvHcbXtaWb6eKlh9BduTbE+wPWG5lVdd1HOJiIiIaBodM1IpaRVgZ2BTSQYWBwxcN4yHqc8PPg/I9HdERER0hE4aqdwLON32erbH2l4HuBuYDnxa0hLwcvAJ8DSwfA/tXAHsIWlZSctRpXy8YuS7HxEREdG8Oimo3Bc4r1vZucBawD+AGZKmAx8u2yYBf6o9qFNj+wbgFOBa4BrgJNs3jmC/IyIiIppecn83WHJ/R0RERKtI7u+IiIiIGFEd86BOs0ru7+hN8nVHREQryUhlRERERAxZ2wSVktaUdLakOyVdX3J1bzhKx345205EREREJ2qL6W9Jonqy+1TbtfSLmwNrALc3sm8RERERnaBdRip3Al6yfUKtwPZ04EpJR5cc3TMl7Q0gaUdJl0n6P0l3STpK0n6Sri311i/1Vpd0rqTryuctpXzVktt7lqSTqNI1IulbtVzgZf27kj4/epchIiIiojHaJajchCotYnfvB7qAzanSMR4taa2ybXPgIOCNwEeBDW1vBZwEHFzq/Bg4zvaWVHm8TyrlhwNX2t6YaoR03VJ+MvAxAEmLAfvQS+5vSVMlTX328UcX9ZwjIiIimkZbTH/3YTvgLNvzgAclXQZsCTwFXGf7fgBJdwJTyj4zqUY+oQpEx1Wz6wCsIGkMsANVwIrt8yU9XpZnS3pU0puopt5vtP2KqNH2JKqXq7P2uK68KDQiIiJaXrsElbOo0jAORn2e7vl16/NZcF0WA7a2/UL9jnVBZk9OAiYCa1KNXEZERES0vXaZ/r4YeJWkA2sFkjYDngD2lrS4pNWpRhivHUS7U1gwFY6krrJ4OSWdo6R3ASvX7XMe8E6qEdE/D/ZEIiIiIlpRW4xU2rakPYEfSfoy8AIwGzgUGANMBwx8yfYDkjYaYNOHAD+TNIPqWl1OdR/mkcBZkmYBV1HlDq/15cWSL/yJMu0eERER0faS+3uYlQd0bgA+aPvv/dVP7u+IiIhoFcn9PUokjQPuAC4aSEAZERER0S7aYvq7Wdi+GXj9YPZJ7u/mkDzbERERQ5ORyoiIiIgYsrYMKkvGm2nl84Cke8vyE5JuHmAbB0mqvcj8FEl7leVLJfV4L0FEREREp2rL6e/ywvEuAElHAM/YPkbSWOCP/e0vaYn6lI9DIWnxPAUeERER7a4tRyr7sbikE0ve7imSloGXRyB/JGkq8HlJR0g6rK+GJL1d0t8k3SDpNyXbDpJmS/qBpBuAD478KUVEREQ0VicGlRsAPyt5u5+gyulds5TtCbaP7a8RSasB3wB2sT0emAp8sa7Ko7bH2z67h32T+zsiIiLaSltOf/fjbtvTyvL1wNi6becMop2tgXHAX0vaxqWAvw2kreT+joiIiHbTiUFlfc7vecAydevPDqIdARfa3reX7YNpKyIiIqKldeL093C5GniLpH8DkLScpA0b3KeIiIiIhkhQuYhsPwxMpMoBPoNq6nugOcUjIiIi2kpyfzdYcn9HREREq0ju74iIiIgYUZ34oE5TSe7vxkm+74iIiOGTkcqIiIiIGLK2CSolWdIZdetLSHpYUr9pGXtoq0vSu4e3hxERERHtq22CSqr3Qm5SS7sI7Arcu4htdQGDCiol5VaCiIiI6FjtFFQCXAC8pyzvC5wFIGkxSX+XtHrd+h2SVpf0QUk3SZou6XJJSwHfAvaWNE3S3uUdlCdLulbSjZJ2L+1MlDRZ0sXARZJOk7RHrTOSzqzVjYiIiGhn7RZUng3sI2lpYDPgGgDb84EzgP1KvV2A6eVdk98E3mF7c+B9tl8sZefY7rJ9DvB14GLbWwE7AUdLWq60NR7Yy/Zbgf+lenclklYEtgXO797J5P6OiIiIdtNWQaXtGVS5vPelGrWsdzLwsbJ8APDLsvxX4BRJnwIW76XptwNfkTQNuBRYGli3bLvQ9mPl+JcBG5QR0X2Bc23P7aGfk2xPsD1huZVXHexpRkRERDSddrwPcDJwDLAj8HLEZvufkh6UtDOwFWXU0vZBkt5MNW1+vaQtemhTwAds37ZQYbVf9xzfpwEfAfYBPj4sZxQRERHR5NpqpLI4GTjS9swetp1ENQ3+G9vzACStb/sa298EHgbWAZ4Glq/b78/AwZJU9nlTH8c/BTgUwPbNQzuViIiIiNbQdkGl7X/ZPr6XzZOBMSyY+obq/siZkm4CrgKmA5cA42oP6gDfBpYEZkiaVdZ7O/6DwC3djhERERHR1joq97ekCcBxtrcfwWMsC8wExtt+sr/6yf0dERERrSK5vwFJXwHOBb46gsfYhWqU8icDCSgjIiIi2kVHjVQ2o7XHdflzZ/6l0d1oO8nrHRERMfxadqRS0rxyX+N0STdI2raUv0bSbxvYryMkHdao40dEREQ0m2Z/pdDztrsAJL0D+D7wVtv3AXsNxwEkLV57EjwiIiIiFk1Tj1R2swLwOICkseVpbSQtLemX5QnuGyXtVMqXlfRrSTdLOk/SNeVBHSQ9I+lYSdOBbSR9U9J1JV3jpLpXB10q6cdltPQmSVvV9Wdc2X6XpENK/W9JOrRWQdJ3JX1+NC5ORERERCM1+0jlMiWLzdLAWsDOPdT5LGDbm0raCJgiaUPg34HHbY+TtAkwrW6f5YBrbP8HgKSbbX+rLJ8O7Ab8odRd1naXpB2o3oG5SSnfiCpl4/LAbZJ+Ubb/DviRpMWoXoBeH4hGREREtKVmH6l8vuTf3gh4J3BabRSxznZULzTH9q3APcCGpfzsUn4TMKNun3lUT4LX7FRGMmdSBa4b1207q7RxObCCpJVK+fm259h+BHgIWMP2bODR8nL0twM32n5Fcu/k/o6IiIh20+wjlS+z/TdJqwGrD0NzL9Rl1Fka+DkwoaRyPIJqZPTlQ3fvSvk5p65sHguu5UnARGBNqpHLV7A9CZgE1dPfi3wWEREREU2i2UcqX1amthcHug/tXUHJ412mvdcFbgP+CnyolI8DNu2l6VoA+YikMbzyAaC9SxvbAU8O4P2T51GNqm5Jld4xIiIiou01+0hl7Z5KAAH7257XbQb858AvytT1XGCi7TmSfg6cKulm4FZgFvCKgND2E5JOBG4CHgCu61blBUk3UqVpPKC/Dtt+UdIlwBN5qjwiIiI6RVMHlbYX76V8NuWBGdsvAB/vodoLwEdsvyBpfeAvVPdbYntMt/a+AXyjl26cYfvQbvWP6LZee3iH8oDO1sAHe2kvIiIiou00dVA5RMsCl0hakmqU899tvziSByzT7H8EzrP994Hss+aySyT7S0RERLS8tg0qbT8N9JhGaBBt7DjI+jcDrx/KMSMiIiJaUdsGla3igefmctSNjzS6G00pI7gRERGto2We/h5tko7rlh3nz5JOqls/VtIXG9K5iIiIiCaToLJ3fwW2hZcfvlmNhV+Kvi1wVX+NSMpocERERLS9BJW9uwrYpixvTPXKoaclrSzpVcAbgbf3kTP8R5KmAsn9HREREW0vQWUvbN8HzJW0LtWo5N+Aa6gCzQnATOCntrcsrxRahipneM1StifYPnaUux4REREx6hJU9u0qqoCyFlT+rW79r/SdM/yc3hpN7u+IiIhoNwkq+1a7r3JTqunvq6lGKmv3U/4c2Mv2psCJLJwz/NneGrU9qYxiTlhu5VVHqu8RERERoyZBZd+uoprSfsz2PNuPAStRBZa1h3R6yxkeERER0THyZHLfZlI99f2rbmVjbD/ST87wiIiIiI6RoLIPtucBK3Qrm1i33GPO8MFm4omIiIhodQkqGyy5vyMiIqId5J7KiIiIiBiyjFQ2WHJ/LyyjthEREa2p6UcqJe0hyZI2GkDdkySNG4ZjjpX04br1CZKOH2q7EREREe2q6YNKYF/gyvKzT7Y/afvmYTjmWODloNL2VNuHDEO7EREREW2pqYPK8v7H7YBPAPuUsh1Lbu3fSrpV0pndcm5PKMvPSDpa0ixJf5G0Vdl+l6T3lTpjJV0h6Yby2bYc+ihge0nTJH2hHPOPZZ9VJP1e0gxJV0varJQfIenkumMkCI2IiIiO0dRBJbA78CfbtwOPStqilL8JOBQYB7weeEsP+y4HXGx7Y+Bp4DvArsCewLdKnYeAXW2PB/YGalPcXwGusN1l+7hu7R4J3Gh7M+BrwGl12zYC3gFsBRwuaclFOuuIiIiIFtPsQeW+wNll+WwWTIFfa/tftucD06imq7t7EfhTWZ4JXGb7pbJcq78kcGLJ3f0bqiC1P9sBpwPYvhhYVVLtXZbn255j+xGqgHWNnhpI7u+IiIhoN0379LekVYCdgU0lGVgcMHA+MKeu6jx6Po+XbLssz6/tY3u+pFr9LwAPAptTBdgvDLHbA+kXticBkwDWHtflnupEREREtJJmHqncCzjd9nq2x9peB7gb2H4Yj7EicH8Z8fwoVeAK1XT58r3scwWwH1T3dwKP2H5qGPsUERER0XKaOajcFzivW9m5DOAp8EH4ObC/pOlU90M+W8pnAPMkTZf0hW77HAFsIWkG1QM9+w9jfyIiIiJakhbMEEcjrD2uy5878y+N7kbTyMvPIyIimpek621P6Glb095T2SmS+zsiIiLaQTNPf0dEREREi8hIZYN1Yu7vjMxGRES0n5YLKiXNo3rX5BJUT4N/1PYTDe1URERERIdrxenv50umm02Ax4DPNrpDEREREZ2uFYPKen8DXgsgqavk4p4h6TxJK5fySyUdVzLY3CJpS0m/k/R3Sd+pNVTyeV9fcoUfWFf+jKTvltcLXS1pjVK+RjnO9PLZtpR/RNK1JW/4/0hanIiIiIg217JBZQnW3gZMLkWnAV8uOblnAofXVX+xPP5+AvB/VKObmwATJa1a6hxgewtgAnBIXflywNW2NwcuBz5Vyo+nSv24OTAemCXpjVQ5xN9iu4sqq85+w3vmEREREc2nFYPKZSRNAx6gyq19oaQVgZVsX1bqnArsULdPLfCcCcyyfb/tOcBdwDpl2yHlJehXl7INSvmLwB/L8vUsyBu+M/ALANvzbD9JFeRuAVxX+vg24PXdTyC5vyMiIqLdtGJQ+XwZBVwPEAO7p7KWk3s+C+fnng8sUdIt7gJsU0YebwSWLnXqc4j3ms+7EHBqueezy/YbbB/RvZLtSbYn2J6w3MqrvrKViIiIiBbTikElALafAw4B/oMqveLjkmp5wT8KXNbbvj1YEXjc9nOSNgK2HsA+FwGfgWoqvoyWXgTsJenVpXwVSesNoh8RERERLallg0oA2zdS5enelyoH99ElJ3cX8K1BNPUnqhHLW6jyeV89gH0+D+wkaSbVtPg42zcD3wCmlH5cCKw1iH5EREREtKTk/m6wTsz9nZefR0REtKbk/m5iyf0dERER7aClp78jIiIiojlkpLLBkvs7IiIi2kHHj1RK+nrJojOjZMF5cy/1Jkg6vpdtl0q6rew/TdJekk6SNG5kex8RERHRHDp6pFLSNsBuwHjbcyStBizVU13bU4GpfTS3X6lT89vh62lEREREc+v0kcq1gEdKdh1sP2L7vpIf/KqS0/taSctL2lHSH/tp72Vl9LLHp6MiIiIi2s2AgkpJy0r6L0knlvUNJO02sl0bFVOAdSTdLunnkt4qaSngHODzJbvOLsDzA2jrzLrp76TJiYiIiI4y0JHKX1KlN9ymrN8LfGdEejSKbD9Dlav7QOBhqmDy08D9tq8rdZ6yPXcAze1Xl56xz4Teyf0dERER7WagQeX6tn8IvAQvp0jUiPVqFNmeZ/tS24cDnwPe398+kv5cRiRPWsRjJvd3REREtJWBPqjzoqRlAANIWp9q5LKlSXoDMN/230tRF3AL8E5JW9q+TtLydJv+tv2O0e1pRERERHMbaFB5OFV+7HUknQm8BZg4Up0aRWOAn0haCZgL3EE1Ff7LUr4MVUC5S8N6GBEREdEC+g0qJS0GrEw1Lbw11bT35223/Bu7bV8PbNvDpkeozrXepeXTUzs7DqQsIiIiol31G1Tani/pS7Z/DZw/Cn3qKMn9HREREe1goA/q/EXSYZLWkbRK7TOiPYuIiIiIljHQeyr3Lj8/W1dm4PXD253O0w65vzPSGhEREQMKKm2/bqQ7MhwkzQNm1hXtYXv2INuYCEyxfd8wdi0iIiKirQ0497ekbYGx9fvYPm0E+jQUz9vuGmIbE4GbgASVEREREQM00DSNpwPHANsBW5ZP0+e1ljRG0kWSbpA0U9LupXyspFsknShplqQpkpaRtBfVedVSLi4j6ZuSrpN0k6RJklTaOETSzZJmSDpb0mKS/i5p9bJ9MUl31NYjIiIi2tlARyonAONseyQ7MwyWkTStLN8NfBDY0/ZTklYDrpY0uWzfANjX9qck/Rr4gO0zJH0OOMz2VABJP7X9rbJ8OrAb8AfgK8DrbM+RtFJ5Sv4MYD/gR1Tvtpxu++HROPGIiIiIRhro0983AWuOZEeGyfN1+bf3pHqn5vckzQD+ArwWWKPUvdv2tLJ8PdXUfk92knSNpJnAzsDGpXwG1YjmR6henA5wMvCxsnwA1UvUXyG5vyMiIqLdDHSkcjXgZknXUpee0fb7RqRXw2c/YHVgC9svSZoNLF221aeZnAcs031nSUsDPwcm2P6npCPq9n8PsAPwXuDrkjYtdR6UtDOwVTn+K9ieBEwCWHtcV7OP/kZERET0a6BB5REj2YkRtCLwUAkodwLWG8A+TwPLl+VaAPmIpDHAXsBvS5ahdWxfIulKYB+qlI9PACcBZwCn2543fKcSERER0bwG+kqhyyStB2xg+y+SlgUWH9muDYszgT+UqeupwK0D2OcU4ARJzwPbACdSTf8/AFxX6iwOnCFpRaop9uNtP1G2Taaa9u5x6jsiIiKiHQ0oqJT0KeBAYBVgfap7E08A3jZyXRs822O6rT9CFRj2ZJO6esfULZ8LnFtX7xvl0912vbS7OdUDOgMJYCMiIiLawkCnvz9LdY/gNQC2/y7p1SPWqxYl6SvAZ+jlXsqeJPd3REREtIOBPv09x/aLtRVJS1ClaYw6to+yvZ7tKxvdl4iIiIjRNNCRysskfY3qPZC7Av9O9a7GGKJmz/2dUdSIiIgYiIGOVH4FeJgqr/aBwPm2vz5ivRoBkuaVLDm1z9ghtve+Mt2NpCMkHTYsHY2IiIhoQX2OVJa0hmvb/hlwYnlgZ3VgC0lP2P7taHRymAxHXvCX2Z5M9aR3RERERMfrb6TySywcOC0FbAHsSPVASsvqJy/4rZJOkXS7pDMl7SLpryW391al3kRJP+3W5vqSbqhb36B+PSIiIqJd9RdULmX7n3XrV9p+zPY/gOVGsF8jYZm6qe/zgBeo8oKPB3YCjpWkUvffgGOBjcrnw1SvEDoM+FpvB7B9J/CkpK5S9HHyvsqIiIjoAP09qLNy/Yrtz9Wtrj783RlRC01/S1qSKi/4DsB8XpkXfGapNwu4yLbLS9TH9nOck4CPS/oisDfVq5gWIulAqntTWWnNtYdyThERERFNob+RymvKfZQLkfRp4NqR6dKoqc8L3gU8SM95wefXrc+n/0D8XOBdwG7A9bYf7V7B9iTbE2xPWG7lVRf9DCIiIiKaRH8B0heA30v6MFC7N3AL4FXAHiPYr9GwKHnB+2X7BUl/Bn4BfGI42oyIiIhodn0GlbYfAraVtDOwcSk+3/bFI96zkbcoecEH0/aewJRhbDMiIiKiaclOYpzhVt5ZuaLt/+qv7oQJEzx16tRR6FVERETE0Ei63vaEnrYNNKNODFB5snx9YOdG9yUiIiJitCSoHGa292x0HyIiIiJGW4LKBhvt3N/J5R0REREjYaC5v1uOpGe6rb+cAUfSQZI+1se+O0radqT7GBEREdEuOnKk0vYJ/VTZEXgGuGqgbUpawvbcofQrIiIiolW17UhlXyQdUZ7QRtIhkm6WNEPS2ZLGAgcBXygpHbcv+cAvLnUukrRu2fcUSSdIugb4YckNvnrZtpikO2rrEREREe2snUcql5E0rW59FWByD/W+ArzO9hxJK9l+QtIJwDO2jwGQ9AfgVNunSjoAOJ4FL39fG9jW9jxJT1Jl6vkRsAsw3fbDI3BuEREREU2lnUcqn7fdVfsA3+yl3gzgTEkfAXqbvt4G+FVZPh3Yrm7bb2zPK8snA7V7NQ8AftlTY5IOlDRV0tRnH39FFseIiIiIltPOQeVAvQf4GTAeuE7SYEdvn60t2P4n8GDJQLQV8P962iG5vyMiIqLddHRQKWkxYB3blwBfpsoHPgZ4Gli+rupVwD5leT/gij6aPQk4g4VHMCMiIiLaWkcHlcDiwBkl//eNwPG2nwD+AOxZe1AHOBj4uKQZwEeBz/fR5mSqwLTHqe+IiIiIdpTc38NM0gTgONvbD6R+cn9HREREq0ju71Ei6SvAZ6imyCMiIiI6RqdPfw8r20fZXs/2lY3uS0RERMRoykhlgw1X7u/k9I6IiIhGavmRSknHSTq0bv3Pkk6qWz9W0hcH0V7yfkdEREQMUssHlcBfgW3h5VcErQZsXLd9WwaRw5sq7/eggspFeLdlRERERFtph2DoKuC4srwxcBOwlqSVgeeANwKWdBnVq34eASbavl/SIVR5vucCN1OlbDwImFcy7BwM3AqcAKxbjnGo7b9KOgJYH3g98A9Jt5U6ry8/f2T7+BE984iIiIgm0fJBpe37JM2VtC7VCOPfgNdSpVZ8EriFKujc3fbDkvYGvkuVRnEgeb9/RfWKoCvLMf5MFagCjAO2s/18CTI3AnaienH6bZJ+YfulUbkQEREREQ3U8kFlcRVVQLkt8N9UQeW2VEHlvcDbgQslQfXC8/vLfrW8378Hft9L27sA48q+ACtIGlOWJ9t+vq7u+bbnAHMkPQSsAfyre4OSDgQOBFhpzbUHeaoRERERzaddgsrafZWbUk1//xP4D+Ap4FLgtba36WG/9wA7AO8Fvi5p0x7qLAZsbfuF+sISZD7bre6cuuV59HJ9bU8CJgGsPa4rb5+PiIiIltcOD+pANVK5G/CY7Xm2HwNWopoCPwtYXdI2AJKWlLTxIPJ+T6G6t5Kyf9fIn05EREREa2mXoHIm1VPfV3cre9L2Q8BewA8kTQemUY1qDjTv9yHABEkzJN1M9SBPRERERNRJ7u8GS+7viIiIaBV95f5ul5HKiIiIiGigBJURERERMWTt8vR3yxpK7u/k+46IiIhm0TEjlZKe6bY+UdJPG9WfiIiIiHbSMUHlUHXP7z3QfN/JCx4RERGdIAEPIGkscDLVa4keBj5u+x+STgFeAN4E/FXSKt3WT6PKC74scCdwgO3HJV1K9eqi7ajek3nsaJ5PRERExGjrpKByGUnT6tZXASaX5Z8Ap9o+VdIBwPHAHmXb2sC2tueVILN+fQZwsO3LJH0LOBw4tOy3VG+P3EdERES0m06a/n7edlftA3yzbts2wK/K8ulUI4w1v7E9r/u6pBWBlWxfVspPpUr5WHNObx2RdKCkqZKmPvv4o4t6PhERERFNo5OCykXVPb939/WB7vcy25NsT7A9YbmVV130nkVEREQ0iQSVlauAfcryfsAV/e1g+0ng8ZLKEeCjwGV97BIRERHRtjrpnsq+HAz8UtJ/Uh7UGeB++wMnSFoWuGsQ+0VERES0leT+brDk/o6IiIhWkdzfERERETGiElRGRERExJDlnsoGS+7viIiIaAcdOVIpyZLOqFtfQtLDkv64iO2dJGnc8PUwIiIiorV06kjls8Amkpax/TywK3DvojZm+5PD1rOIiIiIFtSRI5XFBcB7yvK+VDm6AZB0hKTD6tZvkjRW0nKSzpc0vZTtXbZfKmlCWX6npBtKnYtG8XwiIiIiGqaTg8qzgX0kLQ1sBlwzgH3eCdxne3PbmwB/qt8oaXXgROADtjcHPjjMfY6IiIhoSh0bVNqeAYylGqW8YIC7zQR2lfQDSduXrDr1tgYut313OcZjPTWS3N8RERHRbjo2qCwmA8dQN/VdzGXha7M0gO3bgfFUweV3JH1zUQ6a3N8RERHRbjo9qDwZONL2zG7ls6mCRySNB15Xll8DPGf7DODoWp06VwM7SKrVX2Xkuh4RERHRPDr16W8AbP8LOL6HTecCH5M0i+pey9tL+abA0ZLmAy8Bn+nW3sOSDgR+J2kx4CGqJ8sjIiIi2lpyfzdYcn9HREREq0ju74iIiIgYUQkqIyIiImLIOvqeymaQ3N8RERHRDjp+pFLS1yXNkjRD0jRJbx6GNneUtO1w9C8iIiKiFXT0SKWkbYDdgPG250haDVhqiG0uAewIPANcNeRORkRERLSAjg4qgbWAR2zPAbD9CICk2cCvgXcBzwMftn2HpLFU77ZcDXgY+Ljtf0g6BXgBeBNwL7AtME/SR4CDbV8xmicVERERMdo6ffp7CrCOpNsl/VzSW+u2PWl7U+CnwI9K2U+AU21vBpzJwu+4XBvY1vb7gROA42x39RRQJk1jREREtJuODiptPwNsARxINfJ4jqSJZfNZdT+3KcvbAL8qy6cD29U19xvb8wZ43KRpjIiIiLbS6dPflEDwUuBSSTOB/Wub6qsNoKlnh7lrERERES2jo0cqJb1B0gZ1RV3APWV577qffyvLVwH7lOX9gN7ulXwaWH74ehoRERHR3Dp9pHIM8BNJKwFzgTuopsJ3A1aWNAOYA+xb6h8M/FLSf1Ie1Oml3T8Av5W0O3lQJyIiIjpAcn/3oDz9PaH2NPhISu7viIiIaBXJ/R0RERERI6rTp797ZHtso/sQERER0UoSVDbYYHN/J993RERENKOWnP6WNK/k6a59xkq6qmwbK+mmIbZvScfWrR8m6Yh+9jlI0seGctyIiIiIVtWqI5XP2+7qVrbtMLY/B3i/pO8P9GEd2yf0VC5pCdtzh7FvEREREU2nJUcqeyLpmR7KJkr6vaQLJc2W9DlJX5R0o6SrJa3SS3NzgUnAF3poc6ykiyXNkHSRpHVL+RGSDivLl0r6kaSpwOeH7ywjIiIimlOrBpXL1E19n9dP3U2A9wNbAt8FnrP9JqoXmvc1Xf0zYD9JK3Yr7yv/d72lSirGY7tvSO7viIiIaDftNP3dm0tsPw08LelJqheTA8wENuttJ9tPSToNOAR4vm7TNlRBKlT5v3/YSxPn9NH2JKqRUNYe15UXhUZERETLa9WRysGYU7c8v259PrCEpHXqRj0P6rbvj4BPAMstwnGTCzwiIiI6RicElX2y/U/bXeVzQrdtjwG/pgosawaa/zsiIiKiY3R8UDkAxwL1L4c8GPh4yQv+UfIgTkRERERyfzdacn9HREREq0ju74iIiIgYUQkqIyIiImLIWvWVQm1jILm/k+87IiIiml3Hj1RK+rqkWSVDzjRJby7ZdxY5kpPUJendw9nPiIiIiGbW0SOVkrYBdgPG255TAsmlhtjmEkAXMAG4YMidjIiIiGgBHR1UAmsBj9ieA2D7EQBJAAdLei+wJPBB27eWXOEnA68HngMOtD1D0hHA+qX8H8BbqFJJbgd833av2XUiIiIi2kGnT39PAdaRdLukn0t6a922R2yPB34BHFbKjgRuLHm/vwacVld/HLCL7X2BbwLnlBeqvyKgTO7viIiIaDcdHVTafgbYAjgQeBg4R9LEsvl35ef1wNiyvB1Vvm9sXwysKmmFsm2y7foc4X0dd5LtCbYnLLfyqkM+j4iIiIhG6/Tpb2zPAy4FLpU0E9i/bKrlCJ/HwK5Tcn1HREREx+rokUpJb5C0QV1RF3BPH7tcQZXvG0k7Uk2RP9VDvaeB5YenlxERERHNr6ODSmAMcKqkm0su73HAEX3UPwLYotQ9igWjmt1dAowrryjaexj7GxEREdGUkvu7wZL7OyIiIlpFcn9HRERExIhKUBkRERERQ5agssFqub/7y/8dERER0czaLqiUZEln1K0vIelhSX9cxPZOkjRuEfbbcVGPGREREdFq2vE9lc8Cm0hapryMfFfg3kVtzPYnh61nEREREW2q7UYqiwuA95TlfYGzahskHSHpsLr1mySNlbScpPMlTS9le5ftl0qaUJbfKemGUueiUraVpL9JulHSVZLeMGpnGREREdEk2jWoPBvYR9LSwGbANQPY553AfbY3t70J8Kf6jZJWB04EPmB7c+CDZdOtwPa230SV8/t7/R0oub8jIiKi3bRlUGl7BlW+7n2pRi0HYiawq6QfSNre9pPdtm8NXG777nKMx0r5isBvJN0EHAdsPID+Jfd3REREtJW2DCqLycAx1E19F3NZ+LyXBrB9OzCeKrj8jqRvDvA43wYuKaOb7621FxEREdFJ2jmoPBk40vbMbuWzqYJHJI0HXleWXwM8Z/sM4OhanTpXAztIqtVfpZSvyIIHgSYO7ylEREREtIZ2fPobANv/Ao7vYdO5wMckzaK61/L2Ur4pcLSk+cBLwGe6tfewpAOB30laDHiI6snyH1LlD/8GcP6InExEREREk0vu7wZL7u+IiIhoFcn9HREREREjKkFlgyVNY0RERLSDBJURERERMWQtFVSWzDc3dStbKENOD/tMlPTTke9dREREROdqqaAyIiIiIppT2wSVJUf3DyRdK+l2Sdv3UOc9JU/3apJOkXR8ydd9l6S9Sh1JOrrk/55ZlwP8Z5LeV5bPk3RyWT5A0nfLKOotkk6UNEvSFEnLjOY1iIiIiGiUtgkqiyVsbwUcChxev0HSnsBXgHfbrj0VsxawHbAbcFQpez/QBWwO7EL17sq1gCuAWqD6WmBcWd4euLwsbwD8zPbGwBPAB3rqZHJ/R0RERLtptaCyt5dq1sp/V35eT5X7u2Zn4MvAe2w/Xlf+e9vzbd8MrFHKtgPOsj3P9oPAZcCWlKBS0jjgZuDBEmxuA1xV9r3b9rRe+rCgs8n9HREREW2m1YLKR4GVu5WtAtRGHueUn/NYOFvQncDywIbd9p1Tt6y+Dmz7XmAl4J1UI5NXAB8CnrH9dA/tde9DRERERNtqqaDS9jPA/ZJ2hpfzb78TuLKfXe+hmoo+TdLG/dS9Athb0uKSVgd2AK4t266mmlqvBZWHlZ8RERERHa2lgsriY8B/SZoGXAwcafvO/nayfSuwH/AbSev3UfU8YAYwvbT/JdsPlG1XUN23eQdwA9UoaYLKiIiI6HjJ/d1gyf0dERERrSK5vyMiIiJiRCWobLDk/o6IiIh2kKAyIiIiIoasYUGlpDUk/apks7m+ZLrZcxSPv5ukGyVNl3SzpE+X8lNq2XUiIiIiYmAa8h5FSQJ+D5xq+8OlbD3gfaN0/CWBScBWtv8l6VX08qLyiIiIiOhfo0YqdwZetH1CrcD2PbZ/UnJoXyHphvLZFkDSjpIuk/R/ZXTzKEn7lVzfM2uvCZK0uqRzJV1XPm/p4fjLUwXUj5Zjz7F9W932HYYrJ/iwX7mIiIiIJtSooHJjqvc89uQhYFfb44G9gePrtm0OHAS8EfgosGHJ9X0ScHCp82PgONtbUr3w/KTuB7D9GDAZuEfSWSU4rb8Ww50TfCHJ/R0RERHtpike1CmjfdMlXQcsCZwoaSbwGxYEaQDX2b7f9hyq1ItTSvlMFkxf7wL8tLwcfTKwgqQx3Y9p+5PA26iy5RwGnFy3ebhzgnc/dnJ/R0RERFtpVG7qWVSjiADY/qyk1YCpwBeAB6lGBBcDXqjbrz639vy69fksOJfFgK1t1++HpD9TBYhTS0CJ7ZnATEmnA3cDE3s4Tr85wSWtxIKc4KvwypzgEREREW2tUSOVFwNLS/pMXdmy5eeKwP2251NNcS8+yLansGAqHEldALbfYbvL9icljZG0Y90+XVT5wfuSnOARERERvWhIUOkqN+QewFsl3S3pWuBU4MvAz4H9JU0HNgKeHWTzhwATJM2QdDPVPZjdCfiSpNvKNPmRLBil7E1ygkdERET0Irm/Gyy5vyMiIqJVJPd3RERERIyoBJUNltzfERER0Q4SVEZERETEkI1YUClpnqRpkmaVd1D+R7cXjDctSV2S3t3ofkRERES0ipEM8p4vr/DZGNgVeBdw+Agebzh1AYMKKiU16p2fEREREQ03KiOHth8CDgQ+V3JoLy3plyWH9o2SdgIo74A8puTXniHp4FI+u7wcHUkTJF1alo+QdGrJFX6PpPdL+mFp90+Sliz1tih5w6+X9OeS8QZJl0r6Qckffruk7SUtBXyL6p2U0yTtLWkrSX8rfb1K0hvK/hMlTZZ0MXCRpNMk7VE7b0lnStp9NK5xRERERCON2uia7bskLQ68GvhIVeRNJW0ETJG0IfBxqnSLXbbnSlplAE2vD+xElc7xb8AHbH9J0nnAeySdD/wE2N32w5L2Br4LHFD2X8L2VmW6+3Dbu0j6JjDB9ucAJK0AbF/6tAvwPRZkBBoPbGb7MUlvpcoI9HtJKwLbAvt377CkA6mCbFZac+0BX8OIiIiIZtWoKdvtqAI9bN8q6R5gQ6q83SfYnlu2PTaAtv6f7ZdKrvDFgT+V8lo+8DcAmwAXSqLUub9u/9+Vn9ezIH94dysCp0raADBVfvKaC2v9tH2ZpJ+XjDsfAM6tnUs925OASQBrj+vKi0IjIiKi5Y1aUCnp9cA84KFF2H0uC6bql+62bQ6A7fmSXvKCt7nX8oELmGV7m17aruX5nkfv1+PbwCW295Q0Fri0blv3jD+nUY3E7kM18hoRERHR9kblnsoycncC8NMS9F0B7Fe2bQisC9wGXAh8uvbQS93092xgi7L8AQbnNmB1SduUNpeUtHE/+zwNLF+3viJwb1me2M++p1DlAcf2zYPsa0RERERLGsmgcpnaK4WAvwBTqHJsQ5Xfe7EyZX0OMNH2HOAk4B/AjJL7+8Ol/pHAjyVNpRpRHDDbLwJ7AT8obU6jutexL5cA42oP6gA/BL4v6Ub6Gd21/SBwC/DLwfQzIiIiopUl9/cwk7Qs1f2c420/2V/95P6OiIiIVpHc36OkPBl+C/CTgQSUEREREe0iL+weRrb/AqzX6H5EREREjLaMVEZERETEkCWojIiIiIghS1AZEREREUOWoDIiIiIihixBZUREREQMWYLKiIiIiBiyBJURERERMWQJKiMiIiJiyBJURkRERMSQJaiMiIiIiCFLUBkRERERQ5agMiIiIiKGTLYb3YeOJulp4LZG96PFrAY80uhOtJhcs8HJ9Rq8XLPByzUbvFyzwRvua7ae7dV72rDEMB4kFs1ttic0uhOtRNLUXLPByTUbnFyvwcs1G7xcs8HLNRu80bxmmf6OiIiIiCFLUBkRERERQ5agsvEmNboDLSjXbPByzQYn12vwcs0GL9ds8HLNBm/Urlke1ImIiIiIIctIZUREREQMWYLKBpH0Tkm3SbpD0lca3Z9mJGkdSZdIulnSLEmfL+VHSLpX0rTyeXej+9pMJM2WNLNcm6mlbBVJF0r6e/m5cqP72SwkvaHuuzRN0lOSDs33bGGSTpb0kKSb6sp6/F6pcnz5+22GpPGN63lj9HK9jpZ0a7km50laqZSPlfR83XfthIZ1vIF6uWa9/jmU9NXyHbtN0jsa0+vG6uWanVN3vWZLmlbKR/x7lunvBpC0OHA7sCvwL+A6YF/bNze0Y01G0lrAWrZvkLQ8cD2wB/Ah4BnbxzSyf81K0mxggu1H6sp+CDxm+6jyn5iVbX+5UX1sVuXP5r3Am4GPk+/ZyyTtADwDnGZ7k1LW4/eq/MN/MPBuqmv5Y9tvblTfG6GX6/V24GLbcyX9AKBcr7HAH2v1OlUv1+wIevhzKGkccBawFfAa4C/AhrbnjWqnG6yna9Zt+7HAk7a/NRrfs4xUNsZWwB2277L9InA2sHuD+9R0bN9v+4ay/DRwC/DaxvaqZe0OnFqWT6UKzuOV3gbcafueRnek2di+HHisW3Fv36vdqf6Rs+2rgZXKfxI7Rk/Xy/YU23PL6tXA2qPesSbWy3esN7sDZ9ueY/tu4A6qf1s7Sl/XTJKoBmHOGq3+JKhsjNcC/6xb/xcJlvpU/of1JuCaUvS5MoV0cqZyX8HAFEnXSzqwlK1h+/6y/ACwRmO61vT2YeG/gPM961tv36v8Hde/A4D/V7f+Okk3SrpM0vaN6lST6unPYb5j/dseeND23+vKRvR7lqAymp6kMcC5wKG2nwJ+AawPdAH3A8c2rndNaTvb44F3AZ8t0yMvc3XPS+576UbSUsD7gN+UonzPBiHfq4GT9HVgLnBmKbofWNf2m4AvAr+StEKj+tdk8udw0e3Lwv9JHvHvWYLKxrgXWKdufe1SFt1IWpIqoDzT9u8AbD9oe57t+cCJdOCUR19s31t+PgScR3V9HqxNP5afDzWuh03rXcANth+EfM8GqLfvVf6O64WkicBuwH4lEKdM4T5alq8H7gQ2bFgnm0gffw7zHeuDpCWA9wPn1MpG43uWoLIxrgM2kPS6MjqyDzC5wX1qOuV+kP8FbrH933Xl9fdm7Qnc1H3fTiVpufJQE5KWA95OdX0mA/uXavsD/9eYHja1hf5Xn+/ZgPT2vZoMfKw8Bb411YMC9/fUQCeR9E7gS8D7bD9XV756eUgMSa8HNgDuakwvm0sffw4nA/tIepWk11Fds2tHu39NbBfgVtv/qhWMxvdsieFsLAamPPn3OeDPwOLAybZnNbhbzegtwEeBmbVXIgBfA/aV1EU11TYb+HQjOtek1gDOq+JxlgB+ZftPkq4Dfi3pE8A9VDdvR1EC8F1Z+Lv0w3zPFpB0FrAjsJqkfwGHA0fR8/fqAqonv+8AnqN6kr6j9HK9vgq8Criw/Bm92vZBwA7AtyS9BMwHDrI90AdW2kYv12zHnv4c2p4l6dfAzVS3Eny20578hp6vme3/5ZX3h8MofM/ySqGIiIiIGLJMf0dERETEkCWojIiIiIghS1AZEREREUOWoDIiIiIihixBZUREREQMWYLKiIgmJ2lNSWdLurOk37xA0rC9tFjSjpK2Ha72IqIzJaiMiGhiJQnAecCltte3vQXV+w6HM3/7jkCCyogYkgSVERHNbSfgJdsn1ApsTweulHS0pJskzZS0N7w86vjHWl1JPy2pAZE0W9KRkm4o+2wkaSxwEPAFSdMkbT+aJxcR7SMZdSIimtsmwPU9lL8f6AI2B1YDrpN0+QDae8T2eEn/Dhxm+5OSTgCesX3McHU6IjpPRiojIlrTdsBZtufZfhC4DNhyAPv9rvy8Hhg7Qn2LiA6UoDIiornNArYYRP25LPx3+9Ldts8pP+eR2aqIGEYJKiMimtvFwKskHVgrkLQZ8ASwt6TFJa0O7ABcC9wDjJP0KkkrAW8bwDGeBpYf7o5HRGfJ/1IjIpqYbUvaE/iRpC8DLwCzgUOBMcB0wMCXbD8AIOnXwE3A3cCNAzjMH4DfStodONj2FcN9HhHR/mS70X2IiIiIiBaX6e+IiIiIGLIElRERERExZAkqIyIiImLIElRGRERExJAlqIyIiIiIIUtQGRERERFDlqAyIiIiIoYsQWVEREREDNn/BzMcd91hLtHrAAAAAElFTkSuQmCC\n",
      "text/plain": [
       "<Figure size 720x432 with 1 Axes>"
      ]
     },
     "metadata": {
      "needs_background": "light"
     },
     "output_type": "display_data"
    }
   ],
   "source": [
    "from collections import Counter\n",
    "\n",
    "# Handle missing or incorrect values in 'Genre'\n",
    "df['Genre'] = df['Genre'].apply(lambda x: 'Unknown' if pd.isnull(x) else x)\n",
    "\n",
    "# Split 'Genre' into separate genres and count occurrences\n",
    "genre_counts = Counter(', '.join(df['Genre']).split(', '))\n",
    "\n",
    "# Convert to DataFrame for easier manipulation\n",
    "df_genre_counts = pd.DataFrame.from_dict(genre_counts, orient='index').reset_index()\n",
    "df_genre_counts.columns = ['Genre', 'Count']\n",
    "\n",
    "# Sort by count\n",
    "df_genre_counts = df_genre_counts.sort_values('Count', ascending=False)\n",
    "\n",
    "# Plotting\n",
    "plt.figure(figsize=(10, 6))\n",
    "plt.barh(df_genre_counts['Genre'], df_genre_counts['Count'], color='skyblue')\n",
    "plt.title('Most Popular Genres in Top 250 Movies')\n",
    "plt.xlabel('Count')\n",
    "plt.ylabel('Genre')\n",
    "plt.gca().invert_yaxis()\n",
    "plt.show()"
   ]
  },
  {
   "cell_type": "code",
   "execution_count": 10,
   "id": "72c3042e-448f-4273-b780-4751fed451cc",
   "metadata": {
    "ExecuteTime": {
     "end_time": "2023-07-25T04:38:10.707372+00:00",
     "start_time": "2023-07-25T04:38:10.232342+00:00"
    },
    "noteable": {
     "cell_type": "code",
     "output_collection_id": "379d88d0-45af-4dfa-b4e8-e5b38b02eba4"
    }
   },
   "outputs": [
    {
     "data": {
      "image/png": "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\n",
      "text/plain": [
       "<Figure size 720x432 with 1 Axes>"
      ]
     },
     "metadata": {
      "needs_background": "light"
     },
     "output_type": "display_data"
    }
   ],
   "source": [
    "# Handle missing or incorrect values in 'Runtime'\n",
    "df['Runtime'] = df['Runtime'].apply(lambda x: '0' if pd.isnull(x) else x)\n",
    "df['Runtime'] = df['Runtime'].str.replace(' min', '').astype(int)\n",
    "\n",
    "# Plotting\n",
    "plt.figure(figsize=(10, 6))\n",
    "plt.hist(df['Runtime'], bins=20, color='skyblue', edgecolor='black')\n",
    "plt.title('Distribution of Runtimes in Top 250 Movies')\n",
    "plt.xlabel('Runtime (minutes)')\n",
    "plt.ylabel('Count')\n",
    "plt.show()"
   ]
  },
  {
   "cell_type": "code",
   "execution_count": 11,
   "id": "67d65f6b-ed2e-48bc-94a6-c41cf2bbb174",
   "metadata": {
    "ExecuteTime": {
     "end_time": "2023-07-25T04:38:12.106604+00:00",
     "start_time": "2023-07-25T04:38:11.360862+00:00"
    },
    "noteable": {
     "cell_type": "code",
     "output_collection_id": "bbf54788-be72-482f-8c4a-91b6c0c7e971"
    }
   },
   "outputs": [
    {
     "data": {
      "image/png": "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\n",
      "text/plain": [
       "<Figure size 720x432 with 1 Axes>"
      ]
     },
     "metadata": {
      "needs_background": "light"
     },
     "output_type": "display_data"
    }
   ],
   "source": [
    "# Split 'Country' into separate countries and count occurrences\n",
    "country_counts = Counter(', '.join(df['Country']).split(', '))\n",
    "\n",
    "# Convert to DataFrame for easier manipulation\n",
    "df_country_counts = pd.DataFrame.from_dict(country_counts, orient='index').reset_index()\n",
    "df_country_counts.columns = ['Country', 'Count']\n",
    "\n",
    "# Sort by count\n",
    "df_country_counts = df_country_counts.sort_values('Count', ascending=False)\n",
    "\n",
    "# Plotting\n",
    "plt.figure(figsize=(10, 6))\n",
    "plt.barh(df_country_counts['Country'], df_country_counts['Count'], color='skyblue')\n",
    "plt.title('Most Common Countries of Origin in Top 250 Movies')\n",
    "plt.xlabel('Count')\n",
    "plt.ylabel('Country')\n",
    "plt.gca().invert_yaxis()\n",
    "plt.show()"
   ]
  },
  {
   "cell_type": "markdown",
   "id": "9a32ba74-8efc-4bee-b62f-5c7c838bed8d",
   "metadata": {
    "noteable": {
     "cell_type": "markdown"
    }
   },
   "source": [
    "## How does the distribution of movie ratings differ by genre?"
   ]
  },
  {
   "cell_type": "code",
   "execution_count": 12,
   "id": "d36f44d3-d587-43a1-a539-6ebe2675c344",
   "metadata": {
    "ExecuteTime": {
     "end_time": "2023-07-25T04:56:32.070048+00:00",
     "start_time": "2023-07-25T04:56:31.159025+00:00"
    },
    "noteable": {
     "cell_type": "python",
     "output_collection_id": "d8adce32-fad7-488b-8dae-78351e87ac53"
    }
   },
   "outputs": [
    {
     "name": "stderr",
     "output_type": "stream",
     "text": [
      "C:\\Users\\prakb\\anaconda3\\lib\\site-packages\\seaborn\\axisgrid.py:118: UserWarning: The figure layout has changed to tight\n",
      "  self._figure.tight_layout(*args, **kwargs)\n"
     ]
    },
    {
     "data": {
      "text/plain": [
       "Text(-190.31, 0.5, 'Genre')"
      ]
     },
     "execution_count": 12,
     "metadata": {},
     "output_type": "execute_result"
    },
    {
     "data": {
      "image/png": "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\n",
      "text/plain": [
       "<Figure size 864x576 with 1 Axes>"
      ]
     },
     "metadata": {},
     "output_type": "display_data"
    }
   ],
   "source": [
    "# Get the top 10 genres by movie count\n",
    "top_genres = df['Genre'].str.split('|', expand=True).stack().value_counts().head(10).index\n",
    "\n",
    "# Filter the dataset to only include movies in the top 10 genres\n",
    "df_top_genres = df[df['Genre'].str.contains('|'.join(top_genres))]\n",
    "\n",
    "# Create a box plot for each genre\n",
    "sns.set(style='whitegrid', font_scale=1.5)\n",
    "sns.catplot(x='imdbRating', y='Genre', data=df_top_genres, kind='box', height=8, aspect=1.5, order=top_genres, showfliers=False)\n",
    "plt.xlabel(\"Rating\")\n",
    "plt.ylabel(\"Genre\")"
   ]
  },
  {
   "cell_type": "code",
   "execution_count": null,
   "id": "13fe585c",
   "metadata": {},
   "outputs": [],
   "source": []
  }
 ],
 "metadata": {
  "kernel_info": {
   "name": "python3"
  },
  "kernelspec": {
   "display_name": "Python 3 (ipykernel)",
   "language": "python",
   "name": "python3"
  },
  "language_info": {
   "codemirror_mode": {
    "name": "ipython",
    "version": 3
   },
   "file_extension": ".py",
   "mimetype": "text/x-python",
   "name": "python",
   "nbconvert_exporter": "python",
   "pygments_lexer": "ipython3",
   "version": "3.9.7"
  },
  "noteable": {
   "last_transaction_id": "31c5e50e-d1af-4a17-97be-461cbc5e22ff"
  },
  "noteable-chatgpt": {
   "create_notebook": {
    "openai_conversation_id": "a28d0928-95ae-592e-b7d7-bddb549365b6",
    "openai_ephemeral_user_id": "7b0b3a30-3545-57ba-90cc-a8a69e5cebbe",
    "openai_subdivision1_iso_code": "US-GA"
   }
  },
  "selected_hardware_size": "small"
 },
 "nbformat": 4,
 "nbformat_minor": 5
}
