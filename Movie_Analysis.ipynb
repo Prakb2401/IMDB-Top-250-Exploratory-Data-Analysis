{
  "nbformat": 4,
  "nbformat_minor": 5,
  "metadata": {
    "noteable-chatgpt": {
      "create_notebook": {
        "openai_conversation_id": "a28d0928-95ae-592e-b7d7-bddb549365b6",
        "openai_ephemeral_user_id": "7b0b3a30-3545-57ba-90cc-a8a69e5cebbe",
        "openai_subdivision1_iso_code": "US-GA"
      }
    },
    "kernel_info": {
      "name": "python3"
    },
    "noteable": {
      "last_transaction_id": "5ef560b6-c020-495c-8066-8878af4f15b2"
    },
    "kernelspec": {
      "display_name": "Python 3.9",
      "language": "python",
      "name": "python3"
    }
  },
  "cells": [
    {
      "id": "a620222b-564a-4e1d-9a31-066df66453c0",
      "cell_type": "code",
      "metadata": {
        "noteable": {
          "cell_type": "code",
          "output_collection_id": "cc9111b1-073e-42bc-9950-9497c6f8e936"
        },
        "ExecuteTime": {
          "end_time": "2023-07-25T02:50:27.942769+00:00",
          "start_time": "2023-07-25T02:50:27.617769+00:00"
        },
        "datalink": {
          "6f279b47-c573-4556-a9f7-48a2f7f5f2cd": {
            "applied_filters": [],
            "dataframe_info": {
              "default_index_used": true,
              "orig_num_cols": 26,
              "orig_num_rows": 5,
              "orig_size_bytes": 1045,
              "truncated_num_cols": 26,
              "truncated_num_rows": 5,
              "truncated_size_bytes": 1045,
              "truncated_string_columns": []
            },
            "display_id": "6f279b47-c573-4556-a9f7-48a2f7f5f2cd",
            "dx_settings": {
              "ALLOW_NOTEABLE_ATTRS": true,
              "COLUMN_SAMPLING_METHOD": "outer",
              "DB_LOCATION": ":memory:",
              "DEV_MODE": false,
              "DISPLAY_MAX_COLUMNS": 100,
              "DISPLAY_MAX_ROWS": 50000,
              "DISPLAY_MODE": "simple",
              "ENABLE_ASSIGNMENT": true,
              "ENABLE_DATALINK": true,
              "FLATTEN_COLUMN_VALUES": true,
              "FLATTEN_INDEX_VALUES": false,
              "GENERATE_DEX_METADATA": false,
              "HTML_TABLE_SCHEMA": false,
              "LOG_LEVEL": 30,
              "MAX_RENDER_SIZE_BYTES": 104857600,
              "MAX_STRING_LENGTH": 250,
              "NUM_PAST_SAMPLES_TRACKED": 3,
              "RANDOM_STATE": 12648430,
              "RESET_INDEX_VALUES": false,
              "ROW_SAMPLING_METHOD": "random",
              "SAMPLING_FACTOR": 0.1,
              "SAMPLING_METHOD": "random",
              "STRINGIFY_COLUMN_VALUES": true,
              "STRINGIFY_INDEX_VALUES": false
            },
            "sample_history": [],
            "sampling_time": "2023-07-25T02:50:27.779768",
            "user_variable_name": null,
            "variable_name": "unk_dataframe_f888b166fcc9423eace92b16d00eeb54"
          }
        }
      },
      "execution_count": null,
      "source": "import pandas as pd\n\ndf = pd.read_csv('imbd.csv')\ndf.head()",
      "outputs": []
    },
    {
      "id": "fa8111ca-e36c-44b6-993b-bc91f4426f7e",
      "cell_type": "code",
      "metadata": {
        "noteable": {
          "cell_type": "code",
          "output_collection_id": "ff186b55-6e78-4c0c-bf57-eaa8a529db7d"
        },
        "ExecuteTime": {
          "end_time": "2023-07-25T02:51:19.054940+00:00",
          "start_time": "2023-07-25T02:51:18.089245+00:00"
        }
      },
      "execution_count": null,
      "source": "# Convert 'Year' column to numeric\ndf['Year'] = pd.to_numeric(df['Year'], errors='coerce')\n\n# Group by 'Year' and calculate mean 'imdbRating'\navg_ratings_by_year = df.groupby('Year')['imdbRating'].mean().reset_index()\n\n# Plotting\nimport matplotlib.pyplot as plt\n\nplt.figure(figsize=(10, 6))\nplt.plot(avg_ratings_by_year['Year'], avg_ratings_by_year['imdbRating'], marker='o')\nplt.title('Average IMDB Ratings Over the Years')\nplt.xlabel('Year')\nplt.ylabel('Average IMDB Rating')\nplt.grid(True)\nplt.show()",
      "outputs": []
    },
    {
      "id": "296bfcf0-a153-4dbf-9d68-d657fe2830fc",
      "cell_type": "code",
      "metadata": {
        "noteable": {
          "cell_type": "code",
          "output_collection_id": "c368bfe5-6bbf-40c1-928e-e56e0acec39d"
        },
        "ExecuteTime": {
          "end_time": "2023-07-25T02:51:54.752493+00:00",
          "start_time": "2023-07-25T02:51:54.037646+00:00"
        }
      },
      "execution_count": null,
      "source": "from collections import Counter\n\n# Split 'Genre' into separate genres and count occurrences\ngenre_counts = Counter(', '.join(df['Genre']).split(', '))\n\n# Convert to DataFrame for easier manipulation\ndf_genre_counts = pd.DataFrame.from_dict(genre_counts, orient='index').reset_index()\ndf_genre_counts.columns = ['Genre', 'Count']\n\n# Sort by count\ndf_genre_counts = df_genre_counts.sort_values('Count', ascending=False)\n\n# Plotting\nplt.figure(figsize=(10, 6))\nplt.barh(df_genre_counts['Genre'], df_genre_counts['Count'], color='skyblue')\nplt.title('Most Common Genres in Top 250 Movies')\nplt.xlabel('Count')\nplt.ylabel('Genre')\nplt.gca().invert_yaxis()\nplt.show()",
      "outputs": []
    },
    {
      "id": "5435cccd-dd0c-44de-a684-6ac9199df50f",
      "cell_type": "code",
      "metadata": {
        "noteable": {
          "cell_type": "code",
          "output_collection_id": "64e8e707-47c4-4b60-a2c4-ce43a5776845"
        },
        "ExecuteTime": {
          "end_time": "2023-07-25T02:52:22.692119+00:00",
          "start_time": "2023-07-25T02:52:22.024828+00:00"
        }
      },
      "execution_count": null,
      "source": "# Handle missing or incorrect values in 'Genre'\ndf['Genre'] = df['Genre'].apply(lambda x: 'Unknown' if pd.isnull(x) else x)\n\n# Split 'Genre' into separate genres and count occurrences\ngenre_counts = Counter(', '.join(df['Genre']).split(', '))\n\n# Convert to DataFrame for easier manipulation\ndf_genre_counts = pd.DataFrame.from_dict(genre_counts, orient='index').reset_index()\ndf_genre_counts.columns = ['Genre', 'Count']\n\n# Sort by count\ndf_genre_counts = df_genre_counts.sort_values('Count', ascending=False)\n\n# Plotting\nplt.figure(figsize=(10, 6))\nplt.barh(df_genre_counts['Genre'], df_genre_counts['Count'], color='skyblue')\nplt.title('Most Common Genres in Top 250 Movies')\nplt.xlabel('Count')\nplt.ylabel('Genre')\nplt.gca().invert_yaxis()\nplt.show()",
      "outputs": []
    },
    {
      "id": "07d88e89-50a8-49b2-a946-153eb05cac1b",
      "cell_type": "code",
      "metadata": {
        "noteable": {
          "cell_type": "code",
          "output_collection_id": "ed3008f4-03f7-4eb5-bb69-6bc1e3502cc5"
        },
        "ExecuteTime": {
          "end_time": "2023-07-25T02:52:45.432866+00:00",
          "start_time": "2023-07-25T02:52:45.255793+00:00"
        }
      },
      "execution_count": null,
      "source": "# Fetch data for one movie\nmovie_data = fetch_movie_data('The Shawshank Redemption')\npprint(movie_data)",
      "outputs": []
    }
  ]
}