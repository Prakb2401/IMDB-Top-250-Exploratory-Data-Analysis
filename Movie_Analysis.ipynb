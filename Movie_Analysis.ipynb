{
  "nbformat": 4,
  "nbformat_minor": 5,
  "metadata": {
    "noteable-chatgpt": {
      "create_notebook": {
        "openai_conversation_id": "a28d0928-95ae-592e-b7d7-bddb549365b6",
        "openai_ephemeral_user_id": "7b0b3a30-3545-57ba-90cc-a8a69e5cebbe",
        "openai_subdivision1_iso_code": "US-GA"
      }
    },
    "kernel_info": {
      "name": "python3"
    },
    "noteable": {
      "last_transaction_id": "5256a9fc-b38f-4b8e-99f8-dbda4e334bac"
    },
    "kernelspec": {
      "display_name": "Python 3.9",
      "language": "python",
      "name": "python3"
    },
    "selected_hardware_size": "small"
  },
  "cells": [
    {
      "id": "a620222b-564a-4e1d-9a31-066df66453c0",
      "cell_type": "code",
      "metadata": {
        "noteable": {
          "cell_type": "code",
          "output_collection_id": "f9d49606-438d-4969-a3ab-7ca8797440ff"
        },
        "ExecuteTime": {
          "end_time": "2023-07-25T03:03:48.426691+00:00",
          "start_time": "2023-07-25T03:03:48.128487+00:00"
        },
        "datalink": {
          "6f279b47-c573-4556-a9f7-48a2f7f5f2cd": {
            "applied_filters": [],
            "dataframe_info": {
              "default_index_used": true,
              "orig_num_cols": 26,
              "orig_num_rows": 5,
              "orig_size_bytes": 1045,
              "truncated_num_cols": 26,
              "truncated_num_rows": 5,
              "truncated_size_bytes": 1045,
              "truncated_string_columns": []
            },
            "display_id": "6f279b47-c573-4556-a9f7-48a2f7f5f2cd",
            "dx_settings": {
              "ALLOW_NOTEABLE_ATTRS": true,
              "COLUMN_SAMPLING_METHOD": "outer",
              "DB_LOCATION": ":memory:",
              "DEV_MODE": false,
              "DISPLAY_MAX_COLUMNS": 100,
              "DISPLAY_MAX_ROWS": 50000,
              "DISPLAY_MODE": "simple",
              "ENABLE_ASSIGNMENT": true,
              "ENABLE_DATALINK": true,
              "FLATTEN_COLUMN_VALUES": true,
              "FLATTEN_INDEX_VALUES": false,
              "GENERATE_DEX_METADATA": false,
              "HTML_TABLE_SCHEMA": false,
              "LOG_LEVEL": 30,
              "MAX_RENDER_SIZE_BYTES": 104857600,
              "MAX_STRING_LENGTH": 250,
              "NUM_PAST_SAMPLES_TRACKED": 3,
              "RANDOM_STATE": 12648430,
              "RESET_INDEX_VALUES": false,
              "ROW_SAMPLING_METHOD": "random",
              "SAMPLING_FACTOR": 0.1,
              "SAMPLING_METHOD": "random",
              "STRINGIFY_COLUMN_VALUES": true,
              "STRINGIFY_INDEX_VALUES": false
            },
            "sample_history": [],
            "sampling_time": "2023-07-25T02:50:27.779768",
            "user_variable_name": null,
            "variable_name": "unk_dataframe_f888b166fcc9423eace92b16d00eeb54"
          },
          "e9a02a5a-63ea-43e4-832c-f7d4e65f5de7": {
            "applied_filters": [],
            "dataframe_info": {
              "default_index_used": true,
              "orig_num_cols": 26,
              "orig_num_rows": 5,
              "orig_size_bytes": 1045,
              "truncated_num_cols": 26,
              "truncated_num_rows": 5,
              "truncated_size_bytes": 1045,
              "truncated_string_columns": []
            },
            "display_id": "e9a02a5a-63ea-43e4-832c-f7d4e65f5de7",
            "dx_settings": {
              "ALLOW_NOTEABLE_ATTRS": true,
              "COLUMN_SAMPLING_METHOD": "outer",
              "DB_LOCATION": ":memory:",
              "DEV_MODE": false,
              "DISPLAY_MAX_COLUMNS": 100,
              "DISPLAY_MAX_ROWS": 50000,
              "DISPLAY_MODE": "simple",
              "ENABLE_ASSIGNMENT": true,
              "ENABLE_DATALINK": true,
              "FLATTEN_COLUMN_VALUES": true,
              "FLATTEN_INDEX_VALUES": false,
              "GENERATE_DEX_METADATA": false,
              "HTML_TABLE_SCHEMA": false,
              "LOG_LEVEL": 30,
              "MAX_RENDER_SIZE_BYTES": 104857600,
              "MAX_STRING_LENGTH": 250,
              "NUM_PAST_SAMPLES_TRACKED": 3,
              "RANDOM_STATE": 12648430,
              "RESET_INDEX_VALUES": false,
              "ROW_SAMPLING_METHOD": "random",
              "SAMPLING_FACTOR": 0.1,
              "SAMPLING_METHOD": "random",
              "STRINGIFY_COLUMN_VALUES": true,
              "STRINGIFY_INDEX_VALUES": false
            },
            "sample_history": [],
            "sampling_time": "2023-07-25T03:03:48.265110",
            "user_variable_name": null,
            "variable_name": "unk_dataframe_369759be8bb94f80acd078bcee0a491f"
          }
        }
      },
      "execution_count": null,
      "source": "import pandas as pd\n\ndf = pd.read_csv('imbd.csv')\ndf.head()",
      "outputs": []
    },
    {
      "id": "5435cccd-dd0c-44de-a684-6ac9199df50f",
      "cell_type": "code",
      "metadata": {
        "noteable": {
          "cell_type": "code",
          "output_collection_id": "1a971b04-5a45-4bbe-9379-674b2e598179"
        },
        "ExecuteTime": {
          "end_time": "2023-07-25T03:04:59.817037+00:00",
          "start_time": "2023-07-25T03:04:59.124759+00:00"
        }
      },
      "execution_count": null,
      "source": "from collections import Counter\n\n# Handle missing or incorrect values in 'Genre'\ndf['Genre'] = df['Genre'].apply(lambda x: 'Unknown' if pd.isnull(x) else x)\n\n# Split 'Genre' into separate genres and count occurrences\ngenre_counts = Counter(', '.join(df['Genre']).split(', '))\n\n# Convert to DataFrame for easier manipulation\ndf_genre_counts = pd.DataFrame.from_dict(genre_counts, orient='index').reset_index()\ndf_genre_counts.columns = ['Genre', 'Count']\n\n# Sort by count\ndf_genre_counts = df_genre_counts.sort_values('Count', ascending=False)\n\n# Plotting\nplt.figure(figsize=(10, 6))\nplt.barh(df_genre_counts['Genre'], df_genre_counts['Count'], color='skyblue')\nplt.title('Most Common Genres in Top 250 Movies')\nplt.xlabel('Count')\nplt.ylabel('Genre')\nplt.gca().invert_yaxis()\nplt.show()",
      "outputs": []
    },
    {
      "id": "d8a70f53-f9a1-43ab-8c9c-936f77cbc19d",
      "cell_type": "code",
      "metadata": {
        "noteable": {
          "cell_type": "code",
          "output_collection_id": "0489f2ad-df72-442d-89d4-9b97b8d118d4"
        },
        "ExecuteTime": {
          "end_time": "2023-07-25T03:05:06.923745+00:00",
          "start_time": "2023-07-25T03:05:06.625625+00:00"
        }
      },
      "execution_count": null,
      "source": "import requests\nimport os\n\ndef fetch_movie_data(title):\n    # Retrieve API key from environment variables\n    api_key = os.getenv('OMDB_API_KEY')\n\n    # Define the base URL of the OMDB API\n    base_url = 'http://www.omdbapi.com/'\n\n    # Define the parameters for the API request\n    params = {\n        'apikey': api_key,\n        't': title\n    }\n\n    # Send GET request to the OMDB API\n    response = requests.get(base_url, params=params)\n\n    # Return the JSON response\n    return response.json()\n\n# Fetch data for one movie\nmovie_data = fetch_movie_data('The Shawshank Redemption')\nmovie_data",
      "outputs": []
    },
    {
      "id": "72c3042e-448f-4273-b780-4751fed451cc",
      "cell_type": "code",
      "metadata": {
        "noteable": {
          "cell_type": "code",
          "output_collection_id": "29180b29-c091-414d-86d5-c8658f6190ef"
        },
        "ExecuteTime": {
          "end_time": "2023-07-25T03:05:11.639481+00:00",
          "start_time": "2023-07-25T03:05:11.134036+00:00"
        }
      },
      "execution_count": null,
      "source": "# Handle missing or incorrect values in 'Runtime'\ndf['Runtime'] = df['Runtime'].apply(lambda x: '0' if pd.isnull(x) else x)\ndf['Runtime'] = df['Runtime'].str.replace(' min', '').astype(int)\n\n# Plotting\nplt.figure(figsize=(10, 6))\nplt.hist(df['Runtime'], bins=20, color='skyblue', edgecolor='black')\nplt.title('Distribution of Runtimes in Top 250 Movies')\nplt.xlabel('Runtime (minutes)')\nplt.ylabel('Count')\nplt.show()",
      "outputs": []
    },
    {
      "id": "67d65f6b-ed2e-48bc-94a6-c41cf2bbb174",
      "cell_type": "code",
      "metadata": {
        "noteable": {
          "cell_type": "code",
          "output_collection_id": "47f0fdca-29b0-4e15-93d5-23ef82ed7a01"
        },
        "ExecuteTime": {
          "end_time": "2023-07-25T03:05:16.953025+00:00",
          "start_time": "2023-07-25T03:05:16.181837+00:00"
        }
      },
      "execution_count": null,
      "source": "# Split 'Country' into separate countries and count occurrences\ncountry_counts = Counter(', '.join(df['Country']).split(', '))\n\n# Convert to DataFrame for easier manipulation\ndf_country_counts = pd.DataFrame.from_dict(country_counts, orient='index').reset_index()\ndf_country_counts.columns = ['Country', 'Count']\n\n# Sort by count\ndf_country_counts = df_country_counts.sort_values('Count', ascending=False)\n\n# Plotting\nplt.figure(figsize=(10, 6))\nplt.barh(df_country_counts['Country'], df_country_counts['Count'], color='skyblue')\nplt.title('Most Common Countries of Origin in Top 250 Movies')\nplt.xlabel('Count')\nplt.ylabel('Country')\nplt.gca().invert_yaxis()\nplt.show()",
      "outputs": []
    },
    {
      "id": "d23787db-770a-42ef-b145-d4c97f25e103",
      "cell_type": "code",
      "metadata": {
        "noteable": {
          "cell_type": "code",
          "output_collection_id": "03317d3a-ce65-4ddd-ac94-3a8a282a7f44"
        },
        "ExecuteTime": {
          "end_time": "2023-07-25T03:35:59.934060+00:00",
          "start_time": "2023-07-25T03:35:59.773402+00:00"
        }
      },
      "execution_count": null,
      "source": "# Examine unique values in 'Awards' column\ndf['Awards'].unique()",
      "outputs": []
    },
    {
      "id": "495bb02f-8d5e-4773-b263-607589a268ac",
      "cell_type": "code",
      "metadata": {
        "noteable": {
          "cell_type": "code",
          "output_collection_id": "d58bb69b-f6c5-429f-a914-19f612e948d8"
        },
        "ExecuteTime": {
          "end_time": "2023-07-25T03:37:04.665442+00:00",
          "start_time": "2023-07-25T03:37:04.345946+00:00"
        },
        "datalink": {
          "90c575d4-8f56-4bd2-af43-e5ffe0303f6d": {
            "applied_filters": [],
            "dataframe_info": {
              "default_index_used": true,
              "orig_num_cols": 29,
              "orig_num_rows": 5,
              "orig_size_bytes": 1165,
              "truncated_num_cols": 29,
              "truncated_num_rows": 5,
              "truncated_size_bytes": 1165,
              "truncated_string_columns": []
            },
            "display_id": "90c575d4-8f56-4bd2-af43-e5ffe0303f6d",
            "dx_settings": {
              "ALLOW_NOTEABLE_ATTRS": true,
              "COLUMN_SAMPLING_METHOD": "outer",
              "DB_LOCATION": ":memory:",
              "DEV_MODE": false,
              "DISPLAY_MAX_COLUMNS": 100,
              "DISPLAY_MAX_ROWS": 50000,
              "DISPLAY_MODE": "simple",
              "ENABLE_ASSIGNMENT": true,
              "ENABLE_DATALINK": true,
              "FLATTEN_COLUMN_VALUES": true,
              "FLATTEN_INDEX_VALUES": false,
              "GENERATE_DEX_METADATA": false,
              "HTML_TABLE_SCHEMA": false,
              "LOG_LEVEL": 30,
              "MAX_RENDER_SIZE_BYTES": 104857600,
              "MAX_STRING_LENGTH": 250,
              "NUM_PAST_SAMPLES_TRACKED": 3,
              "RANDOM_STATE": 12648430,
              "RESET_INDEX_VALUES": false,
              "ROW_SAMPLING_METHOD": "random",
              "SAMPLING_FACTOR": 0.1,
              "SAMPLING_METHOD": "random",
              "STRINGIFY_COLUMN_VALUES": true,
              "STRINGIFY_INDEX_VALUES": false
            },
            "sample_history": [],
            "sampling_time": "2023-07-25T03:37:04.503623",
            "user_variable_name": null,
            "variable_name": "unk_dataframe_f0ea8ba098b348b09b17697526f267a2"
          }
        }
      },
      "execution_count": null,
      "source": "import re\n\n# Function to extract number of Oscars won\ndef extract_oscars(s):\n    if pd.isnull(s):\n        return 0\n    else:\n        oscars = re.findall(r'Won (\\d+) Oscar', s)\n        return int(oscars[0]) if oscars else 0\n\n# Function to extract total number of wins\ndef extract_wins(s):\n    if pd.isnull(s):\n        return 0\n    else:\n        wins = re.findall(r'(\\d+) win', s)\n        return int(wins[0]) if wins else 0\n\n# Function to extract total number of nominations\ndef extract_nominations(s):\n    if pd.isnull(s):\n        return 0\n    else:\n        nominations = re.findall(r'(\\d+) nomination', s)\n        return int(nominations[0]) if nominations else 0\n\n# Apply the functions to the 'Awards' column\ndf['Oscars_Won'] = df['Awards'].apply(extract_oscars)\ndf['Total_Wins'] = df['Awards'].apply(extract_wins)\ndf['Total_Nominations'] = df['Awards'].apply(extract_nominations)\n\n# Display the first few rows of the dataframe\ndf.head()",
      "outputs": []
    },
    {
      "id": "0a95178a-c2d5-4e06-8df7-ded5c6b9cf63",
      "cell_type": "code",
      "metadata": {
        "noteable": {
          "cell_type": "code",
          "output_collection_id": "38c34530-1c54-4308-8644-f54b24e8e13c"
        },
        "ExecuteTime": {
          "end_time": "2023-07-25T03:37:24.005952+00:00",
          "start_time": "2023-07-25T03:37:23.436190+00:00"
        }
      },
      "execution_count": null,
      "source": "import matplotlib.pyplot as plt\n\n# Create a scatter plot of the number of Oscars won versus movie ratings\nplt.figure(figsize=(10, 6))\nplt.scatter(df['Oscars_Won'], df['imdbRating'], alpha=0.5)\nplt.title('Number of Oscars Won vs. Movie Ratings')\nplt.xlabel('Number of Oscars Won')\nplt.ylabel('Movie Rating')\nplt.show()",
      "outputs": []
    },
    {
      "id": "7cf8d6a4-dd88-458f-9f60-88b447a57b95",
      "cell_type": "code",
      "metadata": {
        "noteable": {
          "cell_type": "code",
          "output_collection_id": "caa52144-4d1c-4686-8377-d83d80a794ea"
        },
        "ExecuteTime": {
          "end_time": "2023-07-25T03:37:46.794561+00:00",
          "start_time": "2023-07-25T03:37:46.302250+00:00"
        }
      },
      "execution_count": null,
      "source": "# Create a scatter plot of the total number of wins versus movie ratings\nplt.figure(figsize=(10, 6))\nplt.scatter(df['Total_Wins'], df['imdbRating'], alpha=0.5)\nplt.title('Total Number of Wins vs. Movie Ratings')\nplt.xlabel('Total Number of Wins')\nplt.ylabel('Movie Rating')\nplt.show()",
      "outputs": []
    }
  ]
}