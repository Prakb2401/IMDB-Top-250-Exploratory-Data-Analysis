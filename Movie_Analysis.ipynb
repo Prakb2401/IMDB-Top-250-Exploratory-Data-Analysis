{
  "nbformat": 4,
  "nbformat_minor": 5,
  "metadata": {
    "noteable-chatgpt": {
      "create_notebook": {
        "openai_conversation_id": "a28d0928-95ae-592e-b7d7-bddb549365b6",
        "openai_ephemeral_user_id": "7b0b3a30-3545-57ba-90cc-a8a69e5cebbe",
        "openai_subdivision1_iso_code": "US-GA"
      }
    }
  },
  "cells": []
}