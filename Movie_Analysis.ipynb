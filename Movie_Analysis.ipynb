{
  "nbformat": 4,
  "nbformat_minor": 5,
  "metadata": {
    "noteable-chatgpt": {
      "create_notebook": {
        "openai_conversation_id": "a28d0928-95ae-592e-b7d7-bddb549365b6",
        "openai_ephemeral_user_id": "7b0b3a30-3545-57ba-90cc-a8a69e5cebbe",
        "openai_subdivision1_iso_code": "US-GA"
      }
    },
    "kernel_info": {
      "name": "python3"
    },
    "noteable": {
      "last_transaction_id": "3891dfc5-cd77-4b64-af3f-819ceb2890ce"
    },
    "kernelspec": {
      "display_name": "Python 3.9",
      "language": "python",
      "name": "python3"
    },
    "selected_hardware_size": "small"
  },
  "cells": [
    {
      "id": "a620222b-564a-4e1d-9a31-066df66453c0",
      "cell_type": "code",
      "metadata": {
        "noteable": {
          "cell_type": "code",
          "output_collection_id": "f9d49606-438d-4969-a3ab-7ca8797440ff"
        },
        "ExecuteTime": {
          "end_time": "2023-07-25T03:03:48.426691+00:00",
          "start_time": "2023-07-25T03:03:48.128487+00:00"
        },
        "datalink": {
          "6f279b47-c573-4556-a9f7-48a2f7f5f2cd": {
            "applied_filters": [],
            "dataframe_info": {
              "default_index_used": true,
              "orig_num_cols": 26,
              "orig_num_rows": 5,
              "orig_size_bytes": 1045,
              "truncated_num_cols": 26,
              "truncated_num_rows": 5,
              "truncated_size_bytes": 1045,
              "truncated_string_columns": []
            },
            "display_id": "6f279b47-c573-4556-a9f7-48a2f7f5f2cd",
            "dx_settings": {
              "ALLOW_NOTEABLE_ATTRS": true,
              "COLUMN_SAMPLING_METHOD": "outer",
              "DB_LOCATION": ":memory:",
              "DEV_MODE": false,
              "DISPLAY_MAX_COLUMNS": 100,
              "DISPLAY_MAX_ROWS": 50000,
              "DISPLAY_MODE": "simple",
              "ENABLE_ASSIGNMENT": true,
              "ENABLE_DATALINK": true,
              "FLATTEN_COLUMN_VALUES": true,
              "FLATTEN_INDEX_VALUES": false,
              "GENERATE_DEX_METADATA": false,
              "HTML_TABLE_SCHEMA": false,
              "LOG_LEVEL": 30,
              "MAX_RENDER_SIZE_BYTES": 104857600,
              "MAX_STRING_LENGTH": 250,
              "NUM_PAST_SAMPLES_TRACKED": 3,
              "RANDOM_STATE": 12648430,
              "RESET_INDEX_VALUES": false,
              "ROW_SAMPLING_METHOD": "random",
              "SAMPLING_FACTOR": 0.1,
              "SAMPLING_METHOD": "random",
              "STRINGIFY_COLUMN_VALUES": true,
              "STRINGIFY_INDEX_VALUES": false
            },
            "sample_history": [],
            "sampling_time": "2023-07-25T02:50:27.779768",
            "user_variable_name": null,
            "variable_name": "unk_dataframe_f888b166fcc9423eace92b16d00eeb54"
          },
          "e9a02a5a-63ea-43e4-832c-f7d4e65f5de7": {
            "applied_filters": [],
            "dataframe_info": {
              "default_index_used": true,
              "orig_num_cols": 26,
              "orig_num_rows": 5,
              "orig_size_bytes": 1045,
              "truncated_num_cols": 26,
              "truncated_num_rows": 5,
              "truncated_size_bytes": 1045,
              "truncated_string_columns": []
            },
            "display_id": "e9a02a5a-63ea-43e4-832c-f7d4e65f5de7",
            "dx_settings": {
              "ALLOW_NOTEABLE_ATTRS": true,
              "COLUMN_SAMPLING_METHOD": "outer",
              "DB_LOCATION": ":memory:",
              "DEV_MODE": false,
              "DISPLAY_MAX_COLUMNS": 100,
              "DISPLAY_MAX_ROWS": 50000,
              "DISPLAY_MODE": "simple",
              "ENABLE_ASSIGNMENT": true,
              "ENABLE_DATALINK": true,
              "FLATTEN_COLUMN_VALUES": true,
              "FLATTEN_INDEX_VALUES": false,
              "GENERATE_DEX_METADATA": false,
              "HTML_TABLE_SCHEMA": false,
              "LOG_LEVEL": 30,
              "MAX_RENDER_SIZE_BYTES": 104857600,
              "MAX_STRING_LENGTH": 250,
              "NUM_PAST_SAMPLES_TRACKED": 3,
              "RANDOM_STATE": 12648430,
              "RESET_INDEX_VALUES": false,
              "ROW_SAMPLING_METHOD": "random",
              "SAMPLING_FACTOR": 0.1,
              "SAMPLING_METHOD": "random",
              "STRINGIFY_COLUMN_VALUES": true,
              "STRINGIFY_INDEX_VALUES": false
            },
            "sample_history": [],
            "sampling_time": "2023-07-25T03:03:48.265110",
            "user_variable_name": null,
            "variable_name": "unk_dataframe_369759be8bb94f80acd078bcee0a491f"
          }
        }
      },
      "execution_count": null,
      "source": "import pandas as pd\n\ndf = pd.read_csv('imbd.csv')\ndf.head()",
      "outputs": []
    },
    {
      "id": "fa8111ca-e36c-44b6-993b-bc91f4426f7e",
      "cell_type": "code",
      "metadata": {
        "noteable": {
          "cell_type": "code",
          "output_collection_id": "ba9597fb-6d15-4188-891f-58515f18f022"
        },
        "ExecuteTime": {
          "end_time": "2023-07-25T03:03:49.364313+00:00",
          "start_time": "2023-07-25T03:03:48.437845+00:00"
        }
      },
      "execution_count": null,
      "source": "# Convert 'Year' column to numeric\ndf['Year'] = pd.to_numeric(df['Year'], errors='coerce')\n\n# Group by 'Year' and calculate mean 'imdbRating'\navg_ratings_by_year = df.groupby('Year')['imdbRating'].mean().reset_index()\n\n# Plotting\nimport matplotlib.pyplot as plt\n\nplt.figure(figsize=(10, 6))\nplt.plot(avg_ratings_by_year['Year'], avg_ratings_by_year['imdbRating'], marker='o')\nplt.title('Average IMDB Ratings Over the Years')\nplt.xlabel('Year')\nplt.ylabel('Average IMDB Rating')\nplt.grid(True)\nplt.show()",
      "outputs": []
    },
    {
      "id": "5435cccd-dd0c-44de-a684-6ac9199df50f",
      "cell_type": "code",
      "metadata": {
        "noteable": {
          "cell_type": "code",
          "output_collection_id": "0bbec535-b392-4242-bf9b-1fc706394413"
        },
        "ExecuteTime": {
          "end_time": "2023-07-25T03:03:50.557951+00:00",
          "start_time": "2023-07-25T03:03:49.853958+00:00"
        }
      },
      "execution_count": null,
      "source": "# Handle missing or incorrect values in 'Genre'\ndf['Genre'] = df['Genre'].apply(lambda x: 'Unknown' if pd.isnull(x) else x)\n\n# Split 'Genre' into separate genres and count occurrences\ngenre_counts = Counter(', '.join(df['Genre']).split(', '))\n\n# Convert to DataFrame for easier manipulation\ndf_genre_counts = pd.DataFrame.from_dict(genre_counts, orient='index').reset_index()\ndf_genre_counts.columns = ['Genre', 'Count']\n\n# Sort by count\ndf_genre_counts = df_genre_counts.sort_values('Count', ascending=False)\n\n# Plotting\nplt.figure(figsize=(10, 6))\nplt.barh(df_genre_counts['Genre'], df_genre_counts['Count'], color='skyblue')\nplt.title('Most Common Genres in Top 250 Movies')\nplt.xlabel('Count')\nplt.ylabel('Genre')\nplt.gca().invert_yaxis()\nplt.show()",
      "outputs": []
    },
    {
      "id": "d8a70f53-f9a1-43ab-8c9c-936f77cbc19d",
      "cell_type": "code",
      "metadata": {
        "noteable": {
          "cell_type": "code",
          "output_collection_id": "23757203-d449-4987-a3c6-cd1f72a13424"
        },
        "ExecuteTime": {
          "end_time": "2023-07-25T02:53:13.778593+00:00",
          "start_time": "2023-07-25T02:53:13.477365+00:00"
        }
      },
      "execution_count": null,
      "source": "import requests\nimport os\n\ndef fetch_movie_data(title):\n    # Retrieve API key from environment variables\n    api_key = os.getenv('OMDB_API_KEY')\n\n    # Define the base URL of the OMDB API\n    base_url = 'http://www.omdbapi.com/'\n\n    # Define the parameters for the API request\n    params = {\n        'apikey': api_key,\n        't': title\n    }\n\n    # Send GET request to the OMDB API\n    response = requests.get(base_url, params=params)\n\n    # Return the JSON response\n    return response.json()\n\n# Fetch data for one movie\nmovie_data = fetch_movie_data('The Shawshank Redemption')\nmovie_data",
      "outputs": []
    },
    {
      "id": "72c3042e-448f-4273-b780-4751fed451cc",
      "cell_type": "code",
      "metadata": {
        "noteable": {
          "cell_type": "code",
          "output_collection_id": "97edb6eb-7a5b-4bec-96ac-7a0817b9a9a5"
        },
        "ExecuteTime": {
          "end_time": "2023-07-25T02:54:24.630690+00:00",
          "start_time": "2023-07-25T02:54:24.124436+00:00"
        }
      },
      "execution_count": null,
      "source": "# Handle missing or incorrect values in 'Runtime'\ndf['Runtime'] = df['Runtime'].apply(lambda x: '0' if pd.isnull(x) else x)\ndf['Runtime'] = df['Runtime'].str.replace(' min', '').astype(int)\n\n# Plotting\nplt.figure(figsize=(10, 6))\nplt.hist(df['Runtime'], bins=20, color='skyblue', edgecolor='black')\nplt.title('Distribution of Runtimes in Top 250 Movies')\nplt.xlabel('Runtime (minutes)')\nplt.ylabel('Count')\nplt.show()",
      "outputs": []
    },
    {
      "id": "67d65f6b-ed2e-48bc-94a6-c41cf2bbb174",
      "cell_type": "code",
      "metadata": {
        "noteable": {
          "cell_type": "code",
          "output_collection_id": "0af1a8e3-2997-41f0-b393-5478c6c6756a"
        },
        "ExecuteTime": {
          "end_time": "2023-07-25T02:59:03.181915+00:00",
          "start_time": "2023-07-25T02:59:02.431619+00:00"
        }
      },
      "execution_count": null,
      "source": "# Split 'Country' into separate countries and count occurrences\ncountry_counts = Counter(', '.join(df['Country']).split(', '))\n\n# Convert to DataFrame for easier manipulation\ndf_country_counts = pd.DataFrame.from_dict(country_counts, orient='index').reset_index()\ndf_country_counts.columns = ['Country', 'Count']\n\n# Sort by count\ndf_country_counts = df_country_counts.sort_values('Count', ascending=False)\n\n# Plotting\nplt.figure(figsize=(10, 6))\nplt.barh(df_country_counts['Country'], df_country_counts['Count'], color='skyblue')\nplt.title('Most Common Countries of Origin in Top 250 Movies')\nplt.xlabel('Count')\nplt.ylabel('Country')\nplt.gca().invert_yaxis()\nplt.show()",
      "outputs": []
    }
  ]
}