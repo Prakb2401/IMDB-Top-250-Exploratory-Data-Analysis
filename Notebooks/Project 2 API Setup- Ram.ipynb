{
  "nbformat": 4,
  "nbformat_minor": 5,
  "metadata": {
    "kernel_info": {
      "name": "python3"
    },
    "noteable": {
      "last_transaction_id": "7f6f1b9a-13a6-46bd-832e-0e32a8870d30"
    },
    "kernelspec": {
      "display_name": "Python 3.9",
      "language": "python",
      "name": "python3"
    },
    "selected_hardware_size": "small"
  },
  "cells": [
    {
      "id": "13d1e0cf-06b4-42c6-aa86-996c1c9105ed",
      "cell_type": "code",
      "metadata": {
        "noteable": {
          "cell_type": "code",
          "output_collection_id": "c4e53854-54fa-4370-96e6-771aa214578b"
        },
        "ExecuteTime": {
          "end_time": "2023-07-25T01:41:09.720097+00:00",
          "start_time": "2023-07-25T01:41:09.561628+00:00"
        }
      },
      "execution_count": null,
      "source": "import os\n\ndef fetch_movie_data(title):\n    api_key = os.getenv('OMDB_API_KEY')\n    base_url = 'http://www.omdbapi.com/?'\n    parameters = {'apikey': api_key, 't': title}\n    response = requests.get(base_url, params=parameters)\n    data = response.json()\n    return data",
      "outputs": []
    },
    {
      "id": "9f2ed4e4-5d0c-42fc-ae84-2794c1be5365",
      "cell_type": "code",
      "metadata": {
        "noteable": {
          "cell_type": "code",
          "output_collection_id": "7ad5848e-7d68-4dbc-9efe-5b7e92c15ca1"
        },
        "ExecuteTime": {
          "end_time": "2023-07-25T01:41:13.248545+00:00",
          "start_time": "2023-07-25T01:41:13.057337+00:00"
        }
      },
      "execution_count": null,
      "source": "from pprint import pprint\nmovie_data = fetch_movie_data('Inception')\npprint(movie_data)",
      "outputs": []
    }
  ]
}