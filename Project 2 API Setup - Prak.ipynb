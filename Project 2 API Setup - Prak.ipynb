{
 "cells": [
  {
   "cell_type": "code",
   "execution_count": null,
   "id": "6666de2d",
   "metadata": {},
   "outputs": [],
   "source": [
    "import requests\n",
    "import pandas as pd\n",
    "from api_key import OMBd_api\n",
    "import random\n",
    "import time\n",
    "# Replace 'YOUR_API_KEY' with your actual OMDB API key\n",
    "def fetch_movie_data(title):\n",
    "    url = f'http://www.omdbapi.com/?apikey={OMBd_api}'\n",
    "    response = requests.get(url)\n",
    "    data = response.json()\n",
    "    return data\n",
    "\n",
    "# List of 1000 random movie titles\n",
    "# You can expand this list or use other methods to generate random titles\n",
    "random.seed(42)  # Set a seed for reproducibility\n",
    "random_titles = [f'Movie Title {i}' for i in range(1, 500)]\n",
    "\n",
    "# Create an empty list to store movie data\n",
    "movie_data = []\n",
    "\n",
    "# Fetch data for each movie title and add to the list\n",
    "for title in random_titles:\n",
    "    data = fetch_movie_data(title)\n",
    "    if data.get('Response') == 'True':\n",
    "        movie_data.append(data)\n",
    "    else:\n",
    "        print(f\"Error fetching data for '{title}'\")\n",
    "\n",
    "    time.sleep(1)  # Pause 1 second to avoid overloading the API\n",
    "\n",
    "# Create a DataFrame from the movie_data list\n",
    "df = pd.DataFrame(movie_data)\n",
    "\n",
    "# Display the DataFrame\n",
    "print(df)"
   ]
  },
  {
   "cell_type": "code",
   "execution_count": null,
   "id": "8b4feec0",
   "metadata": {},
   "outputs": [],
   "source": [
    "df"
   ]
  },
  {
   "cell_type": "code",
   "execution_count": null,
   "id": "daa7b014",
   "metadata": {},
   "outputs": [],
   "source": [
    "request_counter = 0\n",
    "\n",
    "def fetch_movie_data(title):\n",
    "    global request_counter\n",
    "    url = f'http://www.omdbapi.com/?apikey={OMBd_api}'\n",
    "    response = requests.get(url)\n",
    "    request_counter += 1\n",
    "    data = response.json()\n",
    "    return data"
   ]
  },
  {
   "cell_type": "code",
   "execution_count": null,
   "id": "0a5cf781",
   "metadata": {},
   "outputs": [],
   "source": []
  }
 ],
 "metadata": {
  "kernelspec": {
   "display_name": "Python 3 (ipykernel)",
   "language": "python",
   "name": "python3"
  },
  "language_info": {
   "codemirror_mode": {
    "name": "ipython",
    "version": 3
   },
   "file_extension": ".py",
   "mimetype": "text/x-python",
   "name": "python",
   "nbconvert_exporter": "python",
   "pygments_lexer": "ipython3",
   "version": "3.9.7"
  }
 },
 "nbformat": 4,
 "nbformat_minor": 5
}
