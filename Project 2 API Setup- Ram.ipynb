{
  "nbformat": 4,
  "nbformat_minor": 5,
  "metadata": {
    "kernel_info": {
      "name": "python3"
    },
    "noteable": {
      "last_transaction_id": "0b9ef744-fe6e-497f-9693-12535993707e"
    },
    "kernelspec": {
      "display_name": "Python 3.9",
      "language": "python",
      "name": "python3"
    },
    "selected_hardware_size": "small"
  },
  "cells": [
    {
      "id": "eb9bfd70",
      "cell_type": "code",
      "metadata": {
        "noteable": {
          "output_collection_id": "a37cdc7e-5c29-47f9-bc70-7e01df628ee7"
        },
        "ExecuteTime": {
          "end_time": "2023-07-25T00:53:46.513859+00:00",
          "start_time": "2023-07-25T00:53:46.357682+00:00"
        }
      },
      "execution_count": null,
      "source": "import requests\nimport json",
      "outputs": []
    },
    {
      "id": "13d1e0cf-06b4-42c6-aa86-996c1c9105ed",
      "cell_type": "code",
      "metadata": {
        "noteable": {
          "cell_type": "code",
          "output_collection_id": "5d11c0b3-a183-4443-b519-a1a644c9f613"
        },
        "ExecuteTime": {
          "end_time": "2023-07-25T01:01:17.153029+00:00",
          "start_time": "2023-07-25T01:01:16.995726+00:00"
        }
      },
      "execution_count": null,
      "source": "import os\n\ndef fetch_movie_data(title):\n    api_key = os.getenv('OMDB_API_KEY')\n    base_url = 'http://www.omdbapi.com/?'\n    parameters = {'apikey': api_key, 't': title}\n    response = requests.get(base_url, params=parameters)\n    data = response.json()\n    return data",
      "outputs": []
    },
    {
      "id": "9f2ed4e4-5d0c-42fc-ae84-2794c1be5365",
      "cell_type": "code",
      "metadata": {
        "noteable": {
          "cell_type": "code",
          "output_collection_id": "cd5d8936-309e-4119-b5fb-c5a792cfbabf"
        },
        "ExecuteTime": {
          "end_time": "2023-07-25T01:01:48.909612+00:00",
          "start_time": "2023-07-25T01:01:48.721071+00:00"
        }
      },
      "execution_count": null,
      "source": "from pprint import pprint\nmovie_data = fetch_movie_data('Inception')\npprint(movie_data)",
      "outputs": []
    },
    {
      "id": "cf1d7b56-b1bd-4a08-bdbb-4d8d0c2b4340",
      "cell_type": "code",
      "metadata": {
        "jupyter": {
          "outputs_hidden": false,
          "source_hidden": false
        },
        "noteable": {
          "cell_type": "code",
          "output_collection_id": "5443f0c9-b35f-4e92-a426-bbe1e5f60937"
        },
        "ExecuteTime": {
          "end_time": "2023-07-25T01:08:45.275612+00:00",
          "start_time": "2023-07-25T01:08:44.989937+00:00"
        }
      },
      "execution_count": null,
      "source": "from bs4 import BeautifulSoup\nimport requests\n\nurl = 'http://www.imdb.com/chart/top'\nresponse = requests.get(url)\nsoup = BeautifulSoup(response.text, 'lxml')\n\nmovies = soup.select('td.titleColumn')\ncrew = [a.attrs.get('title') for a in soup.select('td.titleColumn a')]\nratings = [b.attrs.get('data-value') for b in soup.select('td.imdbRating strong')]\n\ntop_movies = []\n\nfor index in range(0, len(movies)):\n    movie_string = movies[index].get_text()\n    movie = (' '.join(movie_string.split()).replace('.', ''))\n    movie_title = movie[len(str(index))+1: -7]\n    data = {\"movie_title\": movie_title,\n            \"star_cast\": crew[index],\n            \"rating\": ratings[index]}\n    top_movies.append(data)\nprint(move)",
      "outputs": []
    }
  ]
}