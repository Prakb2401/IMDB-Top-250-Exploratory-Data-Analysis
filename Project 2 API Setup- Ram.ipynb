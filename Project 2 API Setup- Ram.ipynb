{
  "nbformat": 4,
  "nbformat_minor": 5,
  "metadata": {
    "kernel_info": {
      "name": "python3"
    },
    "noteable": {
      "last_transaction_id": "94c0d060-cd2a-4bff-8ecb-e88a1ad5169c"
    },
    "kernelspec": {
      "display_name": "Python 3.9",
      "language": "python",
      "name": "python3"
    },
    "selected_hardware_size": "small"
  },
  "cells": [
    {
      "id": "eb9bfd70",
      "cell_type": "code",
      "metadata": {
        "noteable": {
          "output_collection_id": "7d397ca4-f841-4b6e-a838-1eb5a1019329"
        },
        "ExecuteTime": {
          "end_time": "2023-07-25T01:41:06.933393+00:00",
          "start_time": "2023-07-25T01:41:06.777098+00:00"
        }
      },
      "execution_count": null,
      "source": "from bs4 import BeautifulSoup\nimport requests\nimport re\nimport pandas as pd",
      "outputs": []
    },
    {
      "id": "13d1e0cf-06b4-42c6-aa86-996c1c9105ed",
      "cell_type": "code",
      "metadata": {
        "noteable": {
          "cell_type": "code",
          "output_collection_id": "c4e53854-54fa-4370-96e6-771aa214578b"
        },
        "ExecuteTime": {
          "end_time": "2023-07-25T01:41:09.720097+00:00",
          "start_time": "2023-07-25T01:41:09.561628+00:00"
        }
      },
      "execution_count": null,
      "source": "import os\n\ndef fetch_movie_data(title):\n    api_key = os.getenv('OMDB_API_KEY')\n    base_url = 'http://www.omdbapi.com/?'\n    parameters = {'apikey': api_key, 't': title}\n    response = requests.get(base_url, params=parameters)\n    data = response.json()\n    return data",
      "outputs": []
    },
    {
      "id": "9f2ed4e4-5d0c-42fc-ae84-2794c1be5365",
      "cell_type": "code",
      "metadata": {
        "noteable": {
          "cell_type": "code",
          "output_collection_id": "7ad5848e-7d68-4dbc-9efe-5b7e92c15ca1"
        },
        "ExecuteTime": {
          "end_time": "2023-07-25T01:41:13.248545+00:00",
          "start_time": "2023-07-25T01:41:13.057337+00:00"
        }
      },
      "execution_count": null,
      "source": "from pprint import pprint\nmovie_data = fetch_movie_data('Inception')\npprint(movie_data)",
      "outputs": []
    },
    {
      "id": "79d9033b-11d0-4aa4-9ecd-4dcf2361fb0e",
      "cell_type": "code",
      "metadata": {
        "noteable": {
          "cell_type": "code",
          "output_collection_id": "9330d757-d34d-4d2b-bdb9-edc261b64c95"
        },
        "ExecuteTime": {
          "end_time": "2023-07-25T01:12:31.987081+00:00",
          "start_time": "2023-07-25T01:12:31.830100+00:00"
        }
      },
      "execution_count": null,
      "source": "print(top_movies[:5])",
      "outputs": []
    },
    {
      "id": "e7202e3c-3bd5-471c-88bd-4015b0703232",
      "cell_type": "code",
      "metadata": {
        "noteable": {
          "cell_type": "code",
          "output_collection_id": "fccfa005-152d-4d9b-9b4e-cb74803e55fd"
        },
        "ExecuteTime": {
          "end_time": "2023-07-25T01:13:06.519901+00:00",
          "start_time": "2023-07-25T01:13:06.257654+00:00"
        }
      },
      "execution_count": null,
      "source": "from bs4 import BeautifulSoup\nimport requests\n\nurl = 'http://www.imdb.com/chart/top'\nresponse = requests.get(url)\nsoup = BeautifulSoup(response.text, 'lxml')\n\nmovies = soup.select('td.titleColumn')\ncrew = [a.attrs.get('title') for a in soup.select('td.titleColumn a')]\nratings = [b.attrs.get('data-value') for b in soup.select('td.imdbRating strong')]\n\ntop_movies = []\n\nfor index in range(0, len(movies)):\n    movie_string = movies[index].get_text()\n    movie = (' '.join(movie_string.split()).replace('.', ''))\n    movie_title = movie[len(str(index))+1: -7]\n    data = {'movie_title': movie_title, 'star_cast': crew[index], 'rating': ratings[index]}\n    top_movies.append(data)\n\nprint(top_movies[:5])",
      "outputs": []
    },
    {
      "id": "0c7de81e-c123-4ce2-a6f9-1cb730e768c3",
      "cell_type": "code",
      "metadata": {
        "jupyter": {
          "outputs_hidden": false,
          "source_hidden": false
        },
        "noteable": {
          "cell_type": "code",
          "output_collection_id": "87da9597-e69f-4bb7-860f-93f1ec20a4a4"
        },
        "ExecuteTime": {
          "end_time": "2023-07-25T01:45:12.747310+00:00",
          "start_time": "2023-07-25T01:45:12.285755+00:00"
        }
      },
      "execution_count": null,
      "source": "from bs4 import BeautifulSoup\nimport requests, openpyxl",
      "outputs": []
    },
    {
      "id": "499e5e3f-412d-4671-8737-a61860ee43ea",
      "cell_type": "code",
      "metadata": {
        "jupyter": {
          "outputs_hidden": false,
          "source_hidden": false
        },
        "noteable": {
          "cell_type": "code",
          "output_collection_id": "9a5ed4bb-51f4-4369-8816-253a92fc36ce"
        },
        "ExecuteTime": {
          "end_time": "2023-07-25T01:45:20.817087+00:00",
          "start_time": "2023-07-25T01:45:20.658486+00:00"
        }
      },
      "execution_count": null,
      "source": "excel = openpyxl.Workbook()\nsheet = excel.active",
      "outputs": []
    },
    {
      "id": "3df89687-850c-438d-8ca4-f999badbbcbb",
      "cell_type": "code",
      "metadata": {
        "jupyter": {
          "outputs_hidden": false,
          "source_hidden": false
        },
        "noteable": {
          "cell_type": "code",
          "output_collection_id": "f4661bd4-e3e4-4328-aed1-90004700951f"
        },
        "ExecuteTime": {
          "end_time": "2023-07-25T01:45:33.014194+00:00",
          "start_time": "2023-07-25T01:45:32.857705+00:00"
        }
      },
      "execution_count": null,
      "source": "#Changing sheet name\nsheet.title = 'IMDb Top 250 Movies'",
      "outputs": []
    },
    {
      "id": "86d50f01-6f3f-46c2-95e6-e6435984a692",
      "cell_type": "code",
      "metadata": {
        "jupyter": {
          "outputs_hidden": false,
          "source_hidden": false
        },
        "noteable": {
          "cell_type": "code",
          "output_collection_id": "59c2f07f-390a-4376-9a28-344170709cad"
        },
        "ExecuteTime": {
          "end_time": "2023-07-25T01:45:42.282819+00:00",
          "start_time": "2023-07-25T01:45:42.126752+00:00"
        }
      },
      "execution_count": null,
      "source": "#Adding a row\nsheet.append(['Rank','Movie Name','Year of release','IMDB Rating'])",
      "outputs": []
    },
    {
      "id": "684896c7-3cb7-4559-8038-36f1e437e176",
      "cell_type": "markdown",
      "source": "## Web Scraper",
      "metadata": {
        "noteable": {
          "cell_type": "markdown"
        }
      }
    }
  ]
}