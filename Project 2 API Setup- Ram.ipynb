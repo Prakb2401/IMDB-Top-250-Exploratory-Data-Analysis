{
  "nbformat": 4,
  "nbformat_minor": 5,
  "metadata": {
    "kernel_info": {
      "name": "python3"
    },
    "noteable": {
      "last_transaction_id": "7b1fbd12-7bd5-4eff-8a2b-f57ccfaa7109"
    },
    "kernelspec": {
      "display_name": "Python 3.9",
      "language": "python",
      "name": "python3"
    },
    "selected_hardware_size": "small"
  },
  "cells": [
    {
      "id": "eb9bfd70",
      "cell_type": "code",
      "metadata": {
        "noteable": {
          "output_collection_id": "a37cdc7e-5c29-47f9-bc70-7e01df628ee7"
        },
        "ExecuteTime": {
          "end_time": "2023-07-25T00:53:46.513859+00:00",
          "start_time": "2023-07-25T00:53:46.357682+00:00"
        }
      },
      "execution_count": null,
      "source": "import requests\nimport json\nfrom pprint import pprint",
      "outputs": []
    },
    {
      "id": "62c12170-1e30-4fad-b1ca-b3f355482076",
      "cell_type": "code",
      "metadata": {
        "jupyter": {
          "outputs_hidden": false,
          "source_hidden": false
        },
        "noteable": {
          "cell_type": "code"
        }
      },
      "execution_count": null,
      "source": "",
      "outputs": []
    }
  ]
}