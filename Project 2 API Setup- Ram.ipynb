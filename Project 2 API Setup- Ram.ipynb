{
  "nbformat": 4,
  "nbformat_minor": 5,
  "metadata": {
    "kernel_info": {
      "name": "python3"
    },
    "noteable": {
      "last_transaction_id": "fe88e4a9-1ee4-4426-a3ee-1bf35e81baeb"
    },
    "kernelspec": {
      "display_name": "Python 3.9",
      "language": "python",
      "name": "python3"
    },
    "selected_hardware_size": "small"
  },
  "cells": [
    {
      "id": "eb9bfd70",
      "cell_type": "code",
      "metadata": {
        "noteable": {
          "output_collection_id": "a37cdc7e-5c29-47f9-bc70-7e01df628ee7"
        },
        "ExecuteTime": {
          "end_time": "2023-07-25T00:53:46.513859+00:00",
          "start_time": "2023-07-25T00:53:46.357682+00:00"
        }
      },
      "execution_count": null,
      "source": "import requests\nimport json\nfrom pprint import pprint",
      "outputs": []
    },
    {
      "id": "62c12170-1e30-4fad-b1ca-b3f355482076",
      "cell_type": "code",
      "metadata": {
        "jupyter": {
          "outputs_hidden": false,
          "source_hidden": false
        },
        "noteable": {
          "cell_type": "code"
        }
      },
      "execution_count": null,
      "source": "",
      "outputs": []
    },
    {
      "id": "13d1e0cf-06b4-42c6-aa86-996c1c9105ed",
      "cell_type": "code",
      "metadata": {
        "noteable": {
          "cell_type": "code",
          "output_collection_id": "5d11c0b3-a183-4443-b519-a1a644c9f613"
        },
        "ExecuteTime": {
          "end_time": "2023-07-25T01:01:17.153029+00:00",
          "start_time": "2023-07-25T01:01:16.995726+00:00"
        }
      },
      "execution_count": null,
      "source": "import os\n\ndef fetch_movie_data(title):\n    api_key = os.getenv('OMDB_API_KEY')\n    base_url = 'http://www.omdbapi.com/?'\n    parameters = {'apikey': api_key, 't': title}\n    response = requests.get(base_url, params=parameters)\n    data = response.json()\n    return data",
      "outputs": []
    },
    {
      "id": "9f2ed4e4-5d0c-42fc-ae84-2794c1be5365",
      "cell_type": "code",
      "metadata": {
        "noteable": {
          "cell_type": "code",
          "output_collection_id": "cd5d8936-309e-4119-b5fb-c5a792cfbabf"
        },
        "ExecuteTime": {
          "end_time": "2023-07-25T01:01:48.909612+00:00",
          "start_time": "2023-07-25T01:01:48.721071+00:00"
        }
      },
      "execution_count": null,
      "source": "from pprint import pprint\nmovie_data = fetch_movie_data('Inception')\npprint(movie_data)",
      "outputs": []
    }
  ]
}