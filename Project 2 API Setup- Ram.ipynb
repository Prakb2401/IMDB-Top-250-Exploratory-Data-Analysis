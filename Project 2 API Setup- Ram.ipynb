{
  "nbformat": 4,
  "nbformat_minor": 5,
  "metadata": {
    "kernel_info": {
      "name": "python3"
    },
    "noteable": {
      "last_transaction_id": "5331453a-d8bd-41ef-940e-5c4baa696508"
    },
    "kernelspec": {
      "display_name": "Python 3.9",
      "language": "python",
      "name": "python3"
    },
    "selected_hardware_size": "small"
  },
  "cells": [
    {
      "id": "eb9bfd70",
      "cell_type": "code",
      "metadata": {
        "noteable": {
          "output_collection_id": "a37cdc7e-5c29-47f9-bc70-7e01df628ee7"
        },
        "ExecuteTime": {
          "end_time": "2023-07-25T00:53:46.513859+00:00",
          "start_time": "2023-07-25T00:53:46.357682+00:00"
        }
      },
      "execution_count": null,
      "source": "import requests\nimport json",
      "outputs": []
    },
    {
      "id": "13d1e0cf-06b4-42c6-aa86-996c1c9105ed",
      "cell_type": "code",
      "metadata": {
        "noteable": {
          "cell_type": "code",
          "output_collection_id": "5d11c0b3-a183-4443-b519-a1a644c9f613"
        },
        "ExecuteTime": {
          "end_time": "2023-07-25T01:01:17.153029+00:00",
          "start_time": "2023-07-25T01:01:16.995726+00:00"
        }
      },
      "execution_count": null,
      "source": "import os\n\ndef fetch_movie_data(title):\n    api_key = os.getenv('OMDB_API_KEY')\n    base_url = 'http://www.omdbapi.com/?'\n    parameters = {'apikey': api_key, 't': title}\n    response = requests.get(base_url, params=parameters)\n    data = response.json()\n    return data",
      "outputs": []
    },
    {
      "id": "9f2ed4e4-5d0c-42fc-ae84-2794c1be5365",
      "cell_type": "code",
      "metadata": {
        "noteable": {
          "cell_type": "code",
          "output_collection_id": "cd5d8936-309e-4119-b5fb-c5a792cfbabf"
        },
        "ExecuteTime": {
          "end_time": "2023-07-25T01:01:48.909612+00:00",
          "start_time": "2023-07-25T01:01:48.721071+00:00"
        }
      },
      "execution_count": null,
      "source": "from pprint import pprint\nmovie_data = fetch_movie_data('Inception')\npprint(movie_data)",
      "outputs": []
    },
    {
      "id": "cf1d7b56-b1bd-4a08-bdbb-4d8d0c2b4340",
      "cell_type": "code",
      "metadata": {
        "jupyter": {
          "outputs_hidden": false,
          "source_hidden": false
        },
        "noteable": {
          "cell_type": "code",
          "output_collection_id": "f8aac0db-64d8-4040-9000-208780ebc6b5"
        },
        "ExecuteTime": {
          "end_time": "2023-07-25T01:08:53.148462+00:00",
          "start_time": "2023-07-25T01:08:52.863105+00:00"
        }
      },
      "execution_count": null,
      "source": "from bs4 import BeautifulSoup\nimport requests\n\nurl = 'http://www.imdb.com/chart/top'\nresponse = requests.get(url)\nsoup = BeautifulSoup(response.text, 'lxml')\n\nmovies = soup.select('td.titleColumn')\ncrew = [a.attrs.get('title') for a in soup.select('td.titleColumn a')]\nratings = [b.attrs.get('data-value') for b in soup.select('td.imdbRating strong')]\n\ntop_movies = []\n\nfor index in range(0, len(movies)):\n    movie_string = movies[index].get_text()\n    movie = (' '.join(movie_string.split()).replace('.', ''))\n    movie_title = movie[len(str(index))+1: -7]\n    data = {\"movie_title\": movie_title,\n            \"star_cast\": crew[index],\n            \"rating\": ratings[index]}\n    top_movies.append(data)",
      "outputs": []
    },
    {
      "id": "6bcafe9b-6b0a-4704-a918-35c0db9d5b51",
      "cell_type": "code",
      "metadata": {
        "noteable": {
          "cell_type": "code",
          "output_collection_id": "91137dc2-5b99-44c7-b049-6b5b74adc26e"
        },
        "ExecuteTime": {
          "end_time": "2023-07-25T01:10:36.875338+00:00",
          "start_time": "2023-07-25T01:10:36.718845+00:00"
        }
      },
      "execution_count": null,
      "source": "movie_details = []\n\nfor movie in top_movies:\n    title = movie['movie_title']\n    data = fetch_movie_data(title)\n    movie_details.append(data)",
      "outputs": []
    },
    {
      "id": "aa7aee9f-ba58-481a-99bc-25dcc5b98f9c",
      "cell_type": "code",
      "metadata": {
        "noteable": {
          "cell_type": "code",
          "output_collection_id": "938c5517-350c-436b-889e-19334b8ed16a"
        },
        "ExecuteTime": {
          "end_time": "2023-07-25T01:11:43.547354+00:00",
          "start_time": "2023-07-25T01:11:41.638784+00:00"
        }
      },
      "execution_count": null,
      "source": "import pandas as pd\nimport seaborn as sns\nimport matplotlib.pyplot as plt\n\n# Create a DataFrame from the movie_details list\ndf = pd.DataFrame(movie_details)\n\n# Convert the ratings and box office revenue to numeric values\ndf['imdbRating'] = pd.to_numeric(df['imdbRating'])\ndf['BoxOffice'] = df['BoxOffice'].replace('[\\$,]', '', regex=True).astype(float)\n\n# Create a scatter plot of the ratings and box office revenue\nplt.figure(figsize=(10, 6))\nsns.scatterplot(data=df, x='imdbRating', y='BoxOffice')\nplt.title('Relationship between IMDb Ratings and Box Office Revenue')\nplt.xlabel('IMDb Rating')\nplt.ylabel('Box Office Revenue')\nplt.show()",
      "outputs": []
    },
    {
      "id": "6df89a49-a94d-42c1-bd3a-933cc6fc1778",
      "cell_type": "code",
      "metadata": {
        "noteable": {
          "cell_type": "code",
          "output_collection_id": "bc7640d8-fa61-4376-9731-fc971cc798ec"
        },
        "ExecuteTime": {
          "end_time": "2023-07-25T01:11:59.629983+00:00",
          "start_time": "2023-07-25T01:11:59.449221+00:00"
        }
      },
      "execution_count": null,
      "source": "print(movie_details[0].keys())",
      "outputs": []
    }
  ]
}