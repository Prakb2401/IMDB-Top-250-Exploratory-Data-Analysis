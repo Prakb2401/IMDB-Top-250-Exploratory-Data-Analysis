{
  "nbformat": 4,
  "nbformat_minor": 5,
  "metadata": {
    "kernel_info": {
      "name": "python3"
    },
    "noteable": {
      "last_transaction_id": "9550af65-7081-4cb7-ada6-ec0ea41cf466"
    },
    "kernelspec": {
      "display_name": "Python 3.9",
      "language": "python",
      "name": "python3"
    },
    "selected_hardware_size": "small"
  },
  "cells": [
    {
      "id": "eb9bfd70",
      "cell_type": "code",
      "metadata": {
        "noteable": {
          "output_collection_id": "5f364d3f-07c2-4dbb-a336-eb3190205369"
        },
        "ExecuteTime": {
          "end_time": "2023-07-25T01:34:57.041110+00:00",
          "start_time": "2023-07-25T01:34:56.883536+00:00"
        }
      },
      "execution_count": null,
      "source": "from bs4 import BeautifulSoup\nimport requests\nimport re\nimport pandas as pd",
      "outputs": []
    },
    {
      "id": "5e57ab54-8696-4039-8117-a99524b61784",
      "cell_type": "code",
      "metadata": {
        "jupyter": {
          "outputs_hidden": false,
          "source_hidden": false
        },
        "noteable": {
          "cell_type": "code",
          "output_collection_id": "4e736ad7-23a7-4d84-9521-1bffa4b9f7b4"
        },
        "ExecuteTime": {
          "end_time": "2023-07-25T01:35:21.032561+00:00",
          "start_time": "2023-07-25T01:35:20.758846+00:00"
        }
      },
      "execution_count": null,
      "source": "# Downloading imdb top 250 movie's data\nurl = 'http://www.imdb.com/chart/top'\nresponse = requests.get(url)\nsoup = BeautifulSoup(response.text, \"html.parser\")",
      "outputs": []
    },
    {
      "id": "60285b3d-f9d3-4db1-a8d2-3d9c8fb75a07",
      "cell_type": "code",
      "metadata": {
        "jupyter": {
          "outputs_hidden": false,
          "source_hidden": false
        },
        "noteable": {
          "cell_type": "code",
          "output_collection_id": "9928303d-776e-4255-96e4-8d1a75431d9b"
        },
        "ExecuteTime": {
          "end_time": "2023-07-25T01:35:49.917414+00:00",
          "start_time": "2023-07-25T01:35:49.756998+00:00"
        }
      },
      "execution_count": null,
      "source": "movies = soup.select('td.titleColumn')\ncrew = [a.attrs.get('title') for a in soup.select('td.titleColumn a')]\nratings = [b.attrs.get('data-value')\n\t\tfor b in soup.select('td.posterColumn span[name=ir]')]",
      "outputs": []
    },
    {
      "id": "03ba8077-1c1f-4471-a3f7-ac6e0b6c8584",
      "cell_type": "code",
      "metadata": {
        "jupyter": {
          "outputs_hidden": false,
          "source_hidden": false
        },
        "noteable": {
          "cell_type": "code",
          "output_collection_id": "f51437ad-7016-404a-b10a-848b36fb770d"
        },
        "ExecuteTime": {
          "end_time": "2023-07-25T01:36:15.784978+00:00",
          "start_time": "2023-07-25T01:36:15.625609+00:00"
        }
      },
      "execution_count": null,
      "source": "# create a empty list for storing\n# movie information\nlist = []\n\n# Iterating over movies to extract\n# each movie's details\nfor index in range(0, len(movies)):\n\t\n\t# Separating movie into: 'place',\n\t# 'title', 'year'\n\tmovie_string = movies[index].get_text()\n\tmovie = (' '.join(movie_string.split()).replace('.', ''))\n\tmovie_title = movie[len(str(index))+1:-7]\n\tyear = re.search('\\((.*?)\\)', movie_string).group(1)\n\tplace = movie[:len(str(index))-(len(movie))]\n\tdata = {\"place\": place,\n\t\t\t\"movie_title\": movie_title,\n\t\t\t\"rating\": ratings[index],\n\t\t\t\"year\": year,\n\t\t\t\"star_cast\": crew[index],\n\t\t\t}\n\tlist.append(data)",
      "outputs": []
    },
    {
      "id": "1d454d19-6a32-4cf0-bedd-59929355d78d",
      "cell_type": "code",
      "metadata": {
        "jupyter": {
          "outputs_hidden": false,
          "source_hidden": false
        },
        "noteable": {
          "cell_type": "code",
          "output_collection_id": "4061af1d-fafa-471d-813b-ce3618390070"
        },
        "ExecuteTime": {
          "end_time": "2023-07-25T01:36:33.413863+00:00",
          "start_time": "2023-07-25T01:36:33.256761+00:00"
        }
      },
      "execution_count": null,
      "source": "for movie in list:\n\tprint(movie['place'], '-', movie['movie_title'], '('+movie['year'] +\n\t\t') -', 'Starring:', movie['star_cast'], movie['rating'])",
      "outputs": []
    },
    {
      "id": "5cb361a3-4adf-478c-809d-5896e85f4057",
      "cell_type": "code",
      "metadata": {
        "jupyter": {
          "outputs_hidden": false,
          "source_hidden": false
        },
        "noteable": {
          "cell_type": "code",
          "output_collection_id": "c09e5297-19d0-417c-8eee-dc6958a48b41"
        },
        "ExecuteTime": {
          "end_time": "2023-07-25T01:37:16.979238+00:00",
          "start_time": "2023-07-25T01:37:16.821511+00:00"
        }
      },
      "execution_count": null,
      "source": "df = pd.DataFrame(list)",
      "outputs": []
    },
    {
      "id": "13d1e0cf-06b4-42c6-aa86-996c1c9105ed",
      "cell_type": "code",
      "metadata": {
        "noteable": {
          "cell_type": "code",
          "output_collection_id": "5d11c0b3-a183-4443-b519-a1a644c9f613"
        },
        "ExecuteTime": {
          "end_time": "2023-07-25T01:01:17.153029+00:00",
          "start_time": "2023-07-25T01:01:16.995726+00:00"
        }
      },
      "execution_count": null,
      "source": "import os\n\ndef fetch_movie_data(title):\n    api_key = os.getenv('OMDB_API_KEY')\n    base_url = 'http://www.omdbapi.com/?'\n    parameters = {'apikey': api_key, 't': title}\n    response = requests.get(base_url, params=parameters)\n    data = response.json()\n    return data",
      "outputs": []
    },
    {
      "id": "9f2ed4e4-5d0c-42fc-ae84-2794c1be5365",
      "cell_type": "code",
      "metadata": {
        "noteable": {
          "cell_type": "code",
          "output_collection_id": "cd5d8936-309e-4119-b5fb-c5a792cfbabf"
        },
        "ExecuteTime": {
          "end_time": "2023-07-25T01:01:48.909612+00:00",
          "start_time": "2023-07-25T01:01:48.721071+00:00"
        }
      },
      "execution_count": null,
      "source": "from pprint import pprint\nmovie_data = fetch_movie_data('Inception')\npprint(movie_data)",
      "outputs": []
    },
    {
      "id": "cf1d7b56-b1bd-4a08-bdbb-4d8d0c2b4340",
      "cell_type": "code",
      "metadata": {
        "jupyter": {
          "outputs_hidden": false,
          "source_hidden": false
        },
        "noteable": {
          "cell_type": "code",
          "output_collection_id": "f8aac0db-64d8-4040-9000-208780ebc6b5"
        },
        "ExecuteTime": {
          "end_time": "2023-07-25T01:08:53.148462+00:00",
          "start_time": "2023-07-25T01:08:52.863105+00:00"
        }
      },
      "execution_count": null,
      "source": "from bs4 import BeautifulSoup\nimport requests\n\nurl = 'http://www.imdb.com/chart/top'\nresponse = requests.get(url)\nsoup = BeautifulSoup(response.text, 'lxml')\n\nmovies = soup.select('td.titleColumn')\ncrew = [a.attrs.get('title') for a in soup.select('td.titleColumn a')]\nratings = [b.attrs.get('data-value') for b in soup.select('td.imdbRating strong')]\n\ntop_movies = []\n\nfor index in range(0, len(movies)):\n    movie_string = movies[index].get_text()\n    movie = (' '.join(movie_string.split()).replace('.', ''))\n    movie_title = movie[len(str(index))+1: -7]\n    data = {\"movie_title\": movie_title,\n            \"star_cast\": crew[index],\n            \"rating\": ratings[index]}\n    top_movies.append(data)",
      "outputs": []
    },
    {
      "id": "6bcafe9b-6b0a-4704-a918-35c0db9d5b51",
      "cell_type": "code",
      "metadata": {
        "noteable": {
          "cell_type": "code",
          "output_collection_id": "91137dc2-5b99-44c7-b049-6b5b74adc26e"
        },
        "ExecuteTime": {
          "end_time": "2023-07-25T01:10:36.875338+00:00",
          "start_time": "2023-07-25T01:10:36.718845+00:00"
        }
      },
      "execution_count": null,
      "source": "movie_details = []\n\nfor movie in top_movies:\n    title = movie['movie_title']\n    data = fetch_movie_data(title)\n    movie_details.append(data)",
      "outputs": []
    },
    {
      "id": "aa7aee9f-ba58-481a-99bc-25dcc5b98f9c",
      "cell_type": "code",
      "metadata": {
        "noteable": {
          "cell_type": "code",
          "output_collection_id": "938c5517-350c-436b-889e-19334b8ed16a"
        },
        "ExecuteTime": {
          "end_time": "2023-07-25T01:11:43.547354+00:00",
          "start_time": "2023-07-25T01:11:41.638784+00:00"
        }
      },
      "execution_count": null,
      "source": "import pandas as pd\nimport seaborn as sns\nimport matplotlib.pyplot as plt\n\n# Create a DataFrame from the movie_details list\ndf = pd.DataFrame(movie_details)\n\n# Convert the ratings and box office revenue to numeric values\ndf['imdbRating'] = pd.to_numeric(df['imdbRating'])\ndf['BoxOffice'] = df['BoxOffice'].replace('[\\$,]', '', regex=True).astype(float)\n\n# Create a scatter plot of the ratings and box office revenue\nplt.figure(figsize=(10, 6))\nsns.scatterplot(data=df, x='imdbRating', y='BoxOffice')\nplt.title('Relationship between IMDb Ratings and Box Office Revenue')\nplt.xlabel('IMDb Rating')\nplt.ylabel('Box Office Revenue')\nplt.show()",
      "outputs": []
    },
    {
      "id": "6df89a49-a94d-42c1-bd3a-933cc6fc1778",
      "cell_type": "code",
      "metadata": {
        "noteable": {
          "cell_type": "code",
          "output_collection_id": "bc7640d8-fa61-4376-9731-fc971cc798ec"
        },
        "ExecuteTime": {
          "end_time": "2023-07-25T01:11:59.629983+00:00",
          "start_time": "2023-07-25T01:11:59.449221+00:00"
        }
      },
      "execution_count": null,
      "source": "print(movie_details[0].keys())",
      "outputs": []
    },
    {
      "id": "cf6c8fbf-f0c7-49d4-94a5-cf0af6d44c40",
      "cell_type": "code",
      "metadata": {
        "noteable": {
          "cell_type": "code",
          "output_collection_id": "a66e37db-bc7f-43c6-99a2-c7147982818e"
        },
        "ExecuteTime": {
          "end_time": "2023-07-25T01:12:16.451647+00:00",
          "start_time": "2023-07-25T01:12:16.052051+00:00"
        }
      },
      "execution_count": null,
      "source": "data = fetch_movie_data('Inception')\npprint(data)",
      "outputs": []
    },
    {
      "id": "79d9033b-11d0-4aa4-9ecd-4dcf2361fb0e",
      "cell_type": "code",
      "metadata": {
        "noteable": {
          "cell_type": "code",
          "output_collection_id": "9330d757-d34d-4d2b-bdb9-edc261b64c95"
        },
        "ExecuteTime": {
          "end_time": "2023-07-25T01:12:31.987081+00:00",
          "start_time": "2023-07-25T01:12:31.830100+00:00"
        }
      },
      "execution_count": null,
      "source": "print(top_movies[:5])",
      "outputs": []
    },
    {
      "id": "e7202e3c-3bd5-471c-88bd-4015b0703232",
      "cell_type": "code",
      "metadata": {
        "noteable": {
          "cell_type": "code",
          "output_collection_id": "fccfa005-152d-4d9b-9b4e-cb74803e55fd"
        },
        "ExecuteTime": {
          "end_time": "2023-07-25T01:13:06.519901+00:00",
          "start_time": "2023-07-25T01:13:06.257654+00:00"
        }
      },
      "execution_count": null,
      "source": "from bs4 import BeautifulSoup\nimport requests\n\nurl = 'http://www.imdb.com/chart/top'\nresponse = requests.get(url)\nsoup = BeautifulSoup(response.text, 'lxml')\n\nmovies = soup.select('td.titleColumn')\ncrew = [a.attrs.get('title') for a in soup.select('td.titleColumn a')]\nratings = [b.attrs.get('data-value') for b in soup.select('td.imdbRating strong')]\n\ntop_movies = []\n\nfor index in range(0, len(movies)):\n    movie_string = movies[index].get_text()\n    movie = (' '.join(movie_string.split()).replace('.', ''))\n    movie_title = movie[len(str(index))+1: -7]\n    data = {'movie_title': movie_title, 'star_cast': crew[index], 'rating': ratings[index]}\n    top_movies.append(data)\n\nprint(top_movies[:5])",
      "outputs": []
    },
    {
      "id": "0c7de81e-c123-4ce2-a6f9-1cb730e768c3",
      "cell_type": "code",
      "metadata": {
        "jupyter": {
          "outputs_hidden": false,
          "source_hidden": false
        },
        "noteable": {
          "cell_type": "code",
          "output_collection_id": "f72ed10f-4ded-4500-aa98-207c99c4db0f"
        },
        "ExecuteTime": {
          "end_time": "2023-07-25T01:24:21.661727+00:00",
          "start_time": "2023-07-25T01:24:21.407881+00:00"
        }
      },
      "execution_count": null,
      "source": "import requests\nfrom bs4 import BeautifulSoup\n\nresponse = requests.get(\"https://www.imdb.com/chart/top/\")\nsoup = BeautifulSoup(response.content, \"html.parser\")\n\nmovies = soup.find_all(\"li\", class_=\"lister-item mode-advanced\")\n\nfor movie in movies:\n    title = movie.find(\"h3\").text.strip()\n    rating = movie.find(\"span\", class_=\"rating-value\").text.strip()\n    year = movie.find(\"span\", class_=\"lister-item-year\").text.strip()\n\n    print(f\"{title} ({rating}) ({year})\")\n",
      "outputs": []
    }
  ]
}